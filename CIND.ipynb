{
 "cells": [
  {
   "cell_type": "markdown",
   "metadata": {},
   "source": [
    "https://opendata.vancouver.ca/explore/?disjunctive.features&disjunctive.theme&disjunctive.keyword&disjunctive.data-owner&disjunctive.data-team&sort=modified\n",
    "\n",
    "https://opendata.vancouver.ca/api/v2/console"
   ]
  },
  {
   "cell_type": "code",
   "execution_count": 1,
   "metadata": {},
   "outputs": [],
   "source": [
    "#Import packages\n",
    "\n",
    "import numpy as np\n",
    "import pandas as pd\n",
    "import geopandas as gpd\n",
    "import requests\n",
    "import seaborn as sns\n",
    "import matplotlib.pyplot as plt"
   ]
  },
  {
   "cell_type": "markdown",
   "metadata": {},
   "source": [
    "## Working With Building Permits Data"
   ]
  },
  {
   "cell_type": "code",
   "execution_count": 2,
   "metadata": {},
   "outputs": [],
   "source": [
    "url = 'https://opendata.vancouver.ca/api/v2/catalog/datasets/issued-building-permits/exports/geojson?limit=-1&offset=0&timezone=UTC'\n",
    "data = requests.get(url)\n",
    "permits_df = gpd.GeoDataFrame().from_features(data.json())"
   ]
  },
  {
   "cell_type": "code",
   "execution_count": 3,
   "metadata": {},
   "outputs": [
    {
     "data": {
      "text/html": [
       "<div>\n",
       "<style scoped>\n",
       "    .dataframe tbody tr th:only-of-type {\n",
       "        vertical-align: middle;\n",
       "    }\n",
       "\n",
       "    .dataframe tbody tr th {\n",
       "        vertical-align: top;\n",
       "    }\n",
       "\n",
       "    .dataframe thead th {\n",
       "        text-align: right;\n",
       "    }\n",
       "</style>\n",
       "<table border=\"1\" class=\"dataframe\">\n",
       "  <thead>\n",
       "    <tr style=\"text-align: right;\">\n",
       "      <th></th>\n",
       "      <th>geometry</th>\n",
       "      <th>permitnumber</th>\n",
       "      <th>permitnumbercreateddate</th>\n",
       "      <th>issuedate</th>\n",
       "      <th>permitelapseddays</th>\n",
       "      <th>projectvalue</th>\n",
       "      <th>typeofwork</th>\n",
       "      <th>address</th>\n",
       "      <th>projectdescription</th>\n",
       "      <th>permitcategory</th>\n",
       "      <th>...</th>\n",
       "      <th>applicantaddress</th>\n",
       "      <th>propertyuse</th>\n",
       "      <th>specificusecategory</th>\n",
       "      <th>buildingcontractor</th>\n",
       "      <th>buildingcontractoraddress</th>\n",
       "      <th>issueyear</th>\n",
       "      <th>geolocalarea</th>\n",
       "      <th>yearmonth</th>\n",
       "      <th>geo_point_2d</th>\n",
       "      <th>geom</th>\n",
       "    </tr>\n",
       "  </thead>\n",
       "  <tbody>\n",
       "    <tr>\n",
       "      <th>0</th>\n",
       "      <td>POINT (-123.09119 49.22429)</td>\n",
       "      <td>BP-2018-01711</td>\n",
       "      <td>2018-03-29</td>\n",
       "      <td>2018-07-16</td>\n",
       "      <td>109</td>\n",
       "      <td>10000.0</td>\n",
       "      <td>Addition / Alteration</td>\n",
       "      <td>6625 FRASER STREET, Vancouver, BC V5X 3T6</td>\n",
       "      <td>Field Review - Addition / Alteration - Interio...</td>\n",
       "      <td>Renovation - Commercial/ Mixed Use - Lower Com...</td>\n",
       "      <td>...</td>\n",
       "      <td>2265 East 49th Avenue\\r\\nVancouver, BC  V5P1T9</td>\n",
       "      <td>[Office Uses]</td>\n",
       "      <td>[General Office]</td>\n",
       "      <td>None</td>\n",
       "      <td>None</td>\n",
       "      <td>2018</td>\n",
       "      <td>Sunset</td>\n",
       "      <td>2018-07</td>\n",
       "      <td>{'lon': -123.0911901, 'lat': 49.2242876}</td>\n",
       "      <td>NaN</td>\n",
       "    </tr>\n",
       "    <tr>\n",
       "      <th>1</th>\n",
       "      <td>POINT (-123.12880 49.28819)</td>\n",
       "      <td>BP-2020-03206</td>\n",
       "      <td>2020-10-15</td>\n",
       "      <td>2021-04-16</td>\n",
       "      <td>183</td>\n",
       "      <td>50000.0</td>\n",
       "      <td>Addition / Alteration</td>\n",
       "      <td>738 BROUGHTON STREET, Vancouver, BC V6G 3A7</td>\n",
       "      <td>High Density Housing / Commercial - Addition /...</td>\n",
       "      <td>None</td>\n",
       "      <td>...</td>\n",
       "      <td>1330 Granville\\r\\nVancouver, BC  V6Z1M7</td>\n",
       "      <td>[Dwelling Uses]</td>\n",
       "      <td>[Multiple Dwelling]</td>\n",
       "      <td>None</td>\n",
       "      <td>None</td>\n",
       "      <td>2021</td>\n",
       "      <td>West End</td>\n",
       "      <td>2021-04</td>\n",
       "      <td>{'lon': -123.1288017, 'lat': 49.2881856}</td>\n",
       "      <td>NaN</td>\n",
       "    </tr>\n",
       "    <tr>\n",
       "      <th>2</th>\n",
       "      <td>POINT (-123.13701 49.29288)</td>\n",
       "      <td>BP-2019-00328</td>\n",
       "      <td>2019-01-24</td>\n",
       "      <td>2019-01-31</td>\n",
       "      <td>7</td>\n",
       "      <td>60000.0</td>\n",
       "      <td>Addition / Alteration</td>\n",
       "      <td>1905 ROBSON STREET, Vancouver, BC V6G 1E6</td>\n",
       "      <td>High Density Housing / Commercial - Addition /...</td>\n",
       "      <td>None</td>\n",
       "      <td>...</td>\n",
       "      <td>1330 Granville\\r\\nVancouver, BC  V6Z1M7</td>\n",
       "      <td>[Dwelling Uses]</td>\n",
       "      <td>[Multiple Dwelling]</td>\n",
       "      <td>None</td>\n",
       "      <td>None</td>\n",
       "      <td>2019</td>\n",
       "      <td>West End</td>\n",
       "      <td>2019-01</td>\n",
       "      <td>{'lon': -123.1370062, 'lat': 49.2928799}</td>\n",
       "      <td>NaN</td>\n",
       "    </tr>\n",
       "    <tr>\n",
       "      <th>3</th>\n",
       "      <td>POINT (-123.13715 49.28095)</td>\n",
       "      <td>BP-2020-03502</td>\n",
       "      <td>2020-11-06</td>\n",
       "      <td>2021-01-27</td>\n",
       "      <td>82</td>\n",
       "      <td>50000.0</td>\n",
       "      <td>Addition / Alteration</td>\n",
       "      <td>1260 HARWOOD STREET, Vancouver, BC V6E 1S4</td>\n",
       "      <td>High Density Housing / Commercial - Addition /...</td>\n",
       "      <td>None</td>\n",
       "      <td>...</td>\n",
       "      <td>1330 Granville\\r\\nVancouver, BC  V6Z1M7</td>\n",
       "      <td>[Dwelling Uses]</td>\n",
       "      <td>[Multiple Dwelling]</td>\n",
       "      <td>None</td>\n",
       "      <td>None</td>\n",
       "      <td>2021</td>\n",
       "      <td>West End</td>\n",
       "      <td>2021-01</td>\n",
       "      <td>{'lon': -123.1371518, 'lat': 49.2809495}</td>\n",
       "      <td>NaN</td>\n",
       "    </tr>\n",
       "    <tr>\n",
       "      <th>4</th>\n",
       "      <td>POINT (-123.13825 49.28318)</td>\n",
       "      <td>BP-2019-02718</td>\n",
       "      <td>2019-06-18</td>\n",
       "      <td>2019-11-14</td>\n",
       "      <td>149</td>\n",
       "      <td>35000.0</td>\n",
       "      <td>Addition / Alteration</td>\n",
       "      <td>1434 BURNABY STREET, Vancouver, BC V6G 1W8</td>\n",
       "      <td>High Density Housing / Commercial - Addition /...</td>\n",
       "      <td>None</td>\n",
       "      <td>...</td>\n",
       "      <td>1330 Granville\\r\\nVancouver, BC  V6Z1M7</td>\n",
       "      <td>[Dwelling Uses]</td>\n",
       "      <td>[Multiple Dwelling]</td>\n",
       "      <td>None</td>\n",
       "      <td>None</td>\n",
       "      <td>2019</td>\n",
       "      <td>West End</td>\n",
       "      <td>2019-11</td>\n",
       "      <td>{'lon': -123.1382513, 'lat': 49.2831764}</td>\n",
       "      <td>NaN</td>\n",
       "    </tr>\n",
       "  </tbody>\n",
       "</table>\n",
       "<p>5 rows × 21 columns</p>\n",
       "</div>"
      ],
      "text/plain": [
       "                      geometry   permitnumber permitnumbercreateddate  \\\n",
       "0  POINT (-123.09119 49.22429)  BP-2018-01711              2018-03-29   \n",
       "1  POINT (-123.12880 49.28819)  BP-2020-03206              2020-10-15   \n",
       "2  POINT (-123.13701 49.29288)  BP-2019-00328              2019-01-24   \n",
       "3  POINT (-123.13715 49.28095)  BP-2020-03502              2020-11-06   \n",
       "4  POINT (-123.13825 49.28318)  BP-2019-02718              2019-06-18   \n",
       "\n",
       "    issuedate  permitelapseddays  projectvalue             typeofwork  \\\n",
       "0  2018-07-16                109       10000.0  Addition / Alteration   \n",
       "1  2021-04-16                183       50000.0  Addition / Alteration   \n",
       "2  2019-01-31                  7       60000.0  Addition / Alteration   \n",
       "3  2021-01-27                 82       50000.0  Addition / Alteration   \n",
       "4  2019-11-14                149       35000.0  Addition / Alteration   \n",
       "\n",
       "                                       address  \\\n",
       "0    6625 FRASER STREET, Vancouver, BC V5X 3T6   \n",
       "1  738 BROUGHTON STREET, Vancouver, BC V6G 3A7   \n",
       "2    1905 ROBSON STREET, Vancouver, BC V6G 1E6   \n",
       "3   1260 HARWOOD STREET, Vancouver, BC V6E 1S4   \n",
       "4   1434 BURNABY STREET, Vancouver, BC V6G 1W8   \n",
       "\n",
       "                                  projectdescription  \\\n",
       "0  Field Review - Addition / Alteration - Interio...   \n",
       "1  High Density Housing / Commercial - Addition /...   \n",
       "2  High Density Housing / Commercial - Addition /...   \n",
       "3  High Density Housing / Commercial - Addition /...   \n",
       "4  High Density Housing / Commercial - Addition /...   \n",
       "\n",
       "                                      permitcategory  ...  \\\n",
       "0  Renovation - Commercial/ Mixed Use - Lower Com...  ...   \n",
       "1                                               None  ...   \n",
       "2                                               None  ...   \n",
       "3                                               None  ...   \n",
       "4                                               None  ...   \n",
       "\n",
       "                                 applicantaddress      propertyuse  \\\n",
       "0  2265 East 49th Avenue\\r\\nVancouver, BC  V5P1T9    [Office Uses]   \n",
       "1         1330 Granville\\r\\nVancouver, BC  V6Z1M7  [Dwelling Uses]   \n",
       "2         1330 Granville\\r\\nVancouver, BC  V6Z1M7  [Dwelling Uses]   \n",
       "3         1330 Granville\\r\\nVancouver, BC  V6Z1M7  [Dwelling Uses]   \n",
       "4         1330 Granville\\r\\nVancouver, BC  V6Z1M7  [Dwelling Uses]   \n",
       "\n",
       "   specificusecategory buildingcontractor buildingcontractoraddress issueyear  \\\n",
       "0     [General Office]               None                      None      2018   \n",
       "1  [Multiple Dwelling]               None                      None      2021   \n",
       "2  [Multiple Dwelling]               None                      None      2019   \n",
       "3  [Multiple Dwelling]               None                      None      2021   \n",
       "4  [Multiple Dwelling]               None                      None      2019   \n",
       "\n",
       "  geolocalarea yearmonth                              geo_point_2d geom  \n",
       "0       Sunset   2018-07  {'lon': -123.0911901, 'lat': 49.2242876}  NaN  \n",
       "1     West End   2021-04  {'lon': -123.1288017, 'lat': 49.2881856}  NaN  \n",
       "2     West End   2019-01  {'lon': -123.1370062, 'lat': 49.2928799}  NaN  \n",
       "3     West End   2021-01  {'lon': -123.1371518, 'lat': 49.2809495}  NaN  \n",
       "4     West End   2019-11  {'lon': -123.1382513, 'lat': 49.2831764}  NaN  \n",
       "\n",
       "[5 rows x 21 columns]"
      ]
     },
     "execution_count": 3,
     "metadata": {},
     "output_type": "execute_result"
    }
   ],
   "source": [
    "permits_df.head()"
   ]
  },
  {
   "cell_type": "markdown",
   "metadata": {},
   "source": [
    "### Data Cleaning & Preparation"
   ]
  },
  {
   "cell_type": "code",
   "execution_count": 4,
   "metadata": {},
   "outputs": [
    {
     "name": "stdout",
     "output_type": "stream",
     "text": [
      "<class 'geopandas.geodataframe.GeoDataFrame'>\n",
      "RangeIndex: 33888 entries, 0 to 33887\n",
      "Data columns (total 21 columns):\n",
      " #   Column                     Non-Null Count  Dtype   \n",
      "---  ------                     --------------  -----   \n",
      " 0   geometry                   33544 non-null  geometry\n",
      " 1   permitnumber               33888 non-null  object  \n",
      " 2   permitnumbercreateddate    33888 non-null  object  \n",
      " 3   issuedate                  33888 non-null  object  \n",
      " 4   permitelapseddays          33888 non-null  int64   \n",
      " 5   projectvalue               33888 non-null  float64 \n",
      " 6   typeofwork                 33888 non-null  object  \n",
      " 7   address                    33823 non-null  object  \n",
      " 8   projectdescription         33888 non-null  object  \n",
      " 9   permitcategory             19337 non-null  object  \n",
      " 10  applicant                  33888 non-null  object  \n",
      " 11  applicantaddress           33802 non-null  object  \n",
      " 12  propertyuse                33883 non-null  object  \n",
      " 13  specificusecategory        33882 non-null  object  \n",
      " 14  buildingcontractor         21058 non-null  object  \n",
      " 15  buildingcontractoraddress  14764 non-null  object  \n",
      " 16  issueyear                  33888 non-null  object  \n",
      " 17  geolocalarea               33537 non-null  object  \n",
      " 18  yearmonth                  33888 non-null  object  \n",
      " 19  geo_point_2d               33544 non-null  object  \n",
      " 20  geom                       0 non-null      float64 \n",
      "dtypes: float64(2), geometry(1), int64(1), object(17)\n",
      "memory usage: 5.4+ MB\n"
     ]
    }
   ],
   "source": [
    "#Check data types\n",
    "\n",
    "permits_df.info()"
   ]
  },
  {
   "cell_type": "code",
   "execution_count": 5,
   "metadata": {},
   "outputs": [
    {
     "data": {
      "text/html": [
       "<div>\n",
       "<style scoped>\n",
       "    .dataframe tbody tr th:only-of-type {\n",
       "        vertical-align: middle;\n",
       "    }\n",
       "\n",
       "    .dataframe tbody tr th {\n",
       "        vertical-align: top;\n",
       "    }\n",
       "\n",
       "    .dataframe thead th {\n",
       "        text-align: right;\n",
       "    }\n",
       "</style>\n",
       "<table border=\"1\" class=\"dataframe\">\n",
       "  <thead>\n",
       "    <tr style=\"text-align: right;\">\n",
       "      <th></th>\n",
       "      <th>geometry</th>\n",
       "      <th>projectvalue</th>\n",
       "      <th>typeofwork</th>\n",
       "      <th>propertyuse</th>\n",
       "      <th>issueyear</th>\n",
       "      <th>geolocalarea</th>\n",
       "    </tr>\n",
       "  </thead>\n",
       "  <tbody>\n",
       "    <tr>\n",
       "      <th>0</th>\n",
       "      <td>POINT (-123.09119 49.22429)</td>\n",
       "      <td>10000.0</td>\n",
       "      <td>Addition / Alteration</td>\n",
       "      <td>[Office Uses]</td>\n",
       "      <td>2018</td>\n",
       "      <td>Sunset</td>\n",
       "    </tr>\n",
       "    <tr>\n",
       "      <th>1</th>\n",
       "      <td>POINT (-123.12880 49.28819)</td>\n",
       "      <td>50000.0</td>\n",
       "      <td>Addition / Alteration</td>\n",
       "      <td>[Dwelling Uses]</td>\n",
       "      <td>2021</td>\n",
       "      <td>West End</td>\n",
       "    </tr>\n",
       "    <tr>\n",
       "      <th>2</th>\n",
       "      <td>POINT (-123.13701 49.29288)</td>\n",
       "      <td>60000.0</td>\n",
       "      <td>Addition / Alteration</td>\n",
       "      <td>[Dwelling Uses]</td>\n",
       "      <td>2019</td>\n",
       "      <td>West End</td>\n",
       "    </tr>\n",
       "    <tr>\n",
       "      <th>3</th>\n",
       "      <td>POINT (-123.13715 49.28095)</td>\n",
       "      <td>50000.0</td>\n",
       "      <td>Addition / Alteration</td>\n",
       "      <td>[Dwelling Uses]</td>\n",
       "      <td>2021</td>\n",
       "      <td>West End</td>\n",
       "    </tr>\n",
       "    <tr>\n",
       "      <th>4</th>\n",
       "      <td>POINT (-123.13825 49.28318)</td>\n",
       "      <td>35000.0</td>\n",
       "      <td>Addition / Alteration</td>\n",
       "      <td>[Dwelling Uses]</td>\n",
       "      <td>2019</td>\n",
       "      <td>West End</td>\n",
       "    </tr>\n",
       "  </tbody>\n",
       "</table>\n",
       "</div>"
      ],
      "text/plain": [
       "                      geometry  projectvalue             typeofwork  \\\n",
       "0  POINT (-123.09119 49.22429)       10000.0  Addition / Alteration   \n",
       "1  POINT (-123.12880 49.28819)       50000.0  Addition / Alteration   \n",
       "2  POINT (-123.13701 49.29288)       60000.0  Addition / Alteration   \n",
       "3  POINT (-123.13715 49.28095)       50000.0  Addition / Alteration   \n",
       "4  POINT (-123.13825 49.28318)       35000.0  Addition / Alteration   \n",
       "\n",
       "       propertyuse issueyear geolocalarea  \n",
       "0    [Office Uses]      2018       Sunset  \n",
       "1  [Dwelling Uses]      2021     West End  \n",
       "2  [Dwelling Uses]      2019     West End  \n",
       "3  [Dwelling Uses]      2021     West End  \n",
       "4  [Dwelling Uses]      2019     West End  "
      ]
     },
     "execution_count": 5,
     "metadata": {},
     "output_type": "execute_result"
    }
   ],
   "source": [
    "#Remove unnecessary columns\n",
    "\n",
    "cols_to_keep = ['geometry','projectvalue','typeofwork','propertyuse','issueyear','geolocalarea']\n",
    "\n",
    "permits_df = permits_df[cols_to_keep]\n",
    "\n",
    "permits_df.head()"
   ]
  },
  {
   "cell_type": "code",
   "execution_count": 6,
   "metadata": {},
   "outputs": [],
   "source": [
    "#Rename columns\n",
    "\n",
    "new_columns = {'projectvalue':'ProjectValue',\n",
    "               'typeofwork':'WorkType',\n",
    "               'propertyuse':'PropertyUse',\n",
    "               'issueyear':'Year',\n",
    "               'geolocalarea':'Area'\n",
    "               }\n",
    "\n",
    "permits_df.rename(columns=new_columns, inplace=True)"
   ]
  },
  {
   "cell_type": "code",
   "execution_count": 7,
   "metadata": {},
   "outputs": [
    {
     "name": "stdout",
     "output_type": "stream",
     "text": [
      "<class 'geopandas.geodataframe.GeoDataFrame'>\n",
      "RangeIndex: 33888 entries, 0 to 33887\n",
      "Data columns (total 6 columns):\n",
      " #   Column        Non-Null Count  Dtype   \n",
      "---  ------        --------------  -----   \n",
      " 0   geometry      33544 non-null  geometry\n",
      " 1   ProjectValue  33888 non-null  float64 \n",
      " 2   WorkType      33888 non-null  object  \n",
      " 3   PropertyUse   33883 non-null  object  \n",
      " 4   Year          33888 non-null  object  \n",
      " 5   Area          33537 non-null  object  \n",
      "dtypes: float64(1), geometry(1), object(4)\n",
      "memory usage: 1.6+ MB\n"
     ]
    }
   ],
   "source": [
    "permits_df.info()"
   ]
  },
  {
   "cell_type": "code",
   "execution_count": 8,
   "metadata": {},
   "outputs": [
    {
     "data": {
      "text/plain": [
       "geometry        geometry\n",
       "ProjectValue     float64\n",
       "WorkType          object\n",
       "PropertyUse       object\n",
       "Year               int32\n",
       "Area              object\n",
       "dtype: object"
      ]
     },
     "execution_count": 8,
     "metadata": {},
     "output_type": "execute_result"
    }
   ],
   "source": [
    "#Convert year to integer\n",
    "\n",
    "permits_df['Year'] = permits_df['Year'].astype(str).astype(int)\n",
    "permits_df.dtypes"
   ]
  },
  {
   "cell_type": "code",
   "execution_count": 9,
   "metadata": {},
   "outputs": [
    {
     "data": {
      "text/html": [
       "<div>\n",
       "<style scoped>\n",
       "    .dataframe tbody tr th:only-of-type {\n",
       "        vertical-align: middle;\n",
       "    }\n",
       "\n",
       "    .dataframe tbody tr th {\n",
       "        vertical-align: top;\n",
       "    }\n",
       "\n",
       "    .dataframe thead th {\n",
       "        text-align: right;\n",
       "    }\n",
       "</style>\n",
       "<table border=\"1\" class=\"dataframe\">\n",
       "  <thead>\n",
       "    <tr style=\"text-align: right;\">\n",
       "      <th></th>\n",
       "      <th>geometry</th>\n",
       "      <th>ProjectValue</th>\n",
       "      <th>WorkType</th>\n",
       "      <th>PropertyUse</th>\n",
       "      <th>Year</th>\n",
       "      <th>Area</th>\n",
       "    </tr>\n",
       "  </thead>\n",
       "  <tbody>\n",
       "    <tr>\n",
       "      <th>0</th>\n",
       "      <td>POINT (-123.09119 49.22429)</td>\n",
       "      <td>10000.0</td>\n",
       "      <td>Addition / Alteration</td>\n",
       "      <td>[Office Uses]</td>\n",
       "      <td>2018</td>\n",
       "      <td>Sunset</td>\n",
       "    </tr>\n",
       "    <tr>\n",
       "      <th>1</th>\n",
       "      <td>POINT (-123.12880 49.28819)</td>\n",
       "      <td>50000.0</td>\n",
       "      <td>Addition / Alteration</td>\n",
       "      <td>[Dwelling Uses]</td>\n",
       "      <td>2021</td>\n",
       "      <td>West End</td>\n",
       "    </tr>\n",
       "    <tr>\n",
       "      <th>2</th>\n",
       "      <td>POINT (-123.13701 49.29288)</td>\n",
       "      <td>60000.0</td>\n",
       "      <td>Addition / Alteration</td>\n",
       "      <td>[Dwelling Uses]</td>\n",
       "      <td>2019</td>\n",
       "      <td>West End</td>\n",
       "    </tr>\n",
       "    <tr>\n",
       "      <th>3</th>\n",
       "      <td>POINT (-123.13715 49.28095)</td>\n",
       "      <td>50000.0</td>\n",
       "      <td>Addition / Alteration</td>\n",
       "      <td>[Dwelling Uses]</td>\n",
       "      <td>2021</td>\n",
       "      <td>West End</td>\n",
       "    </tr>\n",
       "    <tr>\n",
       "      <th>4</th>\n",
       "      <td>POINT (-123.13825 49.28318)</td>\n",
       "      <td>35000.0</td>\n",
       "      <td>Addition / Alteration</td>\n",
       "      <td>[Dwelling Uses]</td>\n",
       "      <td>2019</td>\n",
       "      <td>West End</td>\n",
       "    </tr>\n",
       "  </tbody>\n",
       "</table>\n",
       "</div>"
      ],
      "text/plain": [
       "                      geometry  ProjectValue               WorkType  \\\n",
       "0  POINT (-123.09119 49.22429)       10000.0  Addition / Alteration   \n",
       "1  POINT (-123.12880 49.28819)       50000.0  Addition / Alteration   \n",
       "2  POINT (-123.13701 49.29288)       60000.0  Addition / Alteration   \n",
       "3  POINT (-123.13715 49.28095)       50000.0  Addition / Alteration   \n",
       "4  POINT (-123.13825 49.28318)       35000.0  Addition / Alteration   \n",
       "\n",
       "       PropertyUse  Year      Area  \n",
       "0    [Office Uses]  2018    Sunset  \n",
       "1  [Dwelling Uses]  2021  West End  \n",
       "2  [Dwelling Uses]  2019  West End  \n",
       "3  [Dwelling Uses]  2021  West End  \n",
       "4  [Dwelling Uses]  2019  West End  "
      ]
     },
     "execution_count": 9,
     "metadata": {},
     "output_type": "execute_result"
    }
   ],
   "source": [
    "permits_df.head()"
   ]
  },
  {
   "cell_type": "markdown",
   "metadata": {},
   "source": [
    "#### Data Cleaning & Preparation - Property Use"
   ]
  },
  {
   "cell_type": "code",
   "execution_count": 10,
   "metadata": {},
   "outputs": [
    {
     "data": {
      "text/plain": [
       "[Dwelling Uses]                                                                 23804\n",
       "[Office Uses]                                                                    4206\n",
       "[Retail Uses]                                                                    1684\n",
       "[Service Uses]                                                                   1330\n",
       "[Institutional Uses]                                                              667\n",
       "                                                                                ...  \n",
       "[Cultural/Recreational Uses, Dwelling Uses, Institutional Uses, Retail Uses]        1\n",
       "[Dwelling Uses, Manufacturing Uses, Office Uses, Parking Uses]                      1\n",
       "[Institutional Uses, Office Uses, Parking Uses, Retail Uses]                        1\n",
       "[Office Uses, Parking Uses, Service Uses, Wholesale Uses]                           1\n",
       "[Cultural/Recreational Uses, Parking Uses, Service Uses]                            1\n",
       "Name: PropertyUse, Length: 130, dtype: int64"
      ]
     },
     "execution_count": 10,
     "metadata": {},
     "output_type": "execute_result"
    }
   ],
   "source": [
    "#Check value counts for property use\n",
    "\n",
    "permits_df.PropertyUse.value_counts()"
   ]
  },
  {
   "cell_type": "code",
   "execution_count": 11,
   "metadata": {},
   "outputs": [],
   "source": [
    "# Create a number of uses column\n",
    "\n",
    "permits_df[\"NumberOfUses\"] = permits_df.PropertyUse.str.len()\n",
    "\n",
    "#Remove rows where the number of use is blank\n",
    "\n",
    "permits_df = permits_df[permits_df['NumberOfUses'].notna()]\n",
    "\n",
    "#Convert number of uses to integer\n",
    "\n",
    "permits_df[\"NumberOfUses\"] = permits_df[\"NumberOfUses\"].astype(int)"
   ]
  },
  {
   "cell_type": "code",
   "execution_count": 12,
   "metadata": {},
   "outputs": [
    {
     "data": {
      "text/plain": [
       "1    32891\n",
       "2      733\n",
       "3      186\n",
       "4       57\n",
       "5       16\n",
       "Name: NumberOfUses, dtype: int64"
      ]
     },
     "execution_count": 12,
     "metadata": {},
     "output_type": "execute_result"
    }
   ],
   "source": [
    "permits_df.NumberOfUses.value_counts()"
   ]
  },
  {
   "cell_type": "code",
   "execution_count": 13,
   "metadata": {},
   "outputs": [
    {
     "data": {
      "text/html": [
       "<div>\n",
       "<style scoped>\n",
       "    .dataframe tbody tr th:only-of-type {\n",
       "        vertical-align: middle;\n",
       "    }\n",
       "\n",
       "    .dataframe tbody tr th {\n",
       "        vertical-align: top;\n",
       "    }\n",
       "\n",
       "    .dataframe thead th {\n",
       "        text-align: right;\n",
       "    }\n",
       "</style>\n",
       "<table border=\"1\" class=\"dataframe\">\n",
       "  <thead>\n",
       "    <tr style=\"text-align: right;\">\n",
       "      <th></th>\n",
       "      <th>geometry</th>\n",
       "      <th>ProjectValue</th>\n",
       "      <th>WorkType</th>\n",
       "      <th>PropertyUse</th>\n",
       "      <th>Year</th>\n",
       "      <th>Area</th>\n",
       "      <th>NumberOfUses</th>\n",
       "      <th>PropertyUseRevised</th>\n",
       "    </tr>\n",
       "  </thead>\n",
       "  <tbody>\n",
       "    <tr>\n",
       "      <th>0</th>\n",
       "      <td>POINT (-123.09119 49.22429)</td>\n",
       "      <td>10000.0</td>\n",
       "      <td>Addition / Alteration</td>\n",
       "      <td>[Office Uses]</td>\n",
       "      <td>2018</td>\n",
       "      <td>Sunset</td>\n",
       "      <td>1</td>\n",
       "      <td>Office Uses</td>\n",
       "    </tr>\n",
       "    <tr>\n",
       "      <th>1</th>\n",
       "      <td>POINT (-123.12880 49.28819)</td>\n",
       "      <td>50000.0</td>\n",
       "      <td>Addition / Alteration</td>\n",
       "      <td>[Dwelling Uses]</td>\n",
       "      <td>2021</td>\n",
       "      <td>West End</td>\n",
       "      <td>1</td>\n",
       "      <td>Dwelling Uses</td>\n",
       "    </tr>\n",
       "    <tr>\n",
       "      <th>2</th>\n",
       "      <td>POINT (-123.13701 49.29288)</td>\n",
       "      <td>60000.0</td>\n",
       "      <td>Addition / Alteration</td>\n",
       "      <td>[Dwelling Uses]</td>\n",
       "      <td>2019</td>\n",
       "      <td>West End</td>\n",
       "      <td>1</td>\n",
       "      <td>Dwelling Uses</td>\n",
       "    </tr>\n",
       "    <tr>\n",
       "      <th>3</th>\n",
       "      <td>POINT (-123.13715 49.28095)</td>\n",
       "      <td>50000.0</td>\n",
       "      <td>Addition / Alteration</td>\n",
       "      <td>[Dwelling Uses]</td>\n",
       "      <td>2021</td>\n",
       "      <td>West End</td>\n",
       "      <td>1</td>\n",
       "      <td>Dwelling Uses</td>\n",
       "    </tr>\n",
       "    <tr>\n",
       "      <th>4</th>\n",
       "      <td>POINT (-123.13825 49.28318)</td>\n",
       "      <td>35000.0</td>\n",
       "      <td>Addition / Alteration</td>\n",
       "      <td>[Dwelling Uses]</td>\n",
       "      <td>2019</td>\n",
       "      <td>West End</td>\n",
       "      <td>1</td>\n",
       "      <td>Dwelling Uses</td>\n",
       "    </tr>\n",
       "  </tbody>\n",
       "</table>\n",
       "</div>"
      ],
      "text/plain": [
       "                      geometry  ProjectValue               WorkType  \\\n",
       "0  POINT (-123.09119 49.22429)       10000.0  Addition / Alteration   \n",
       "1  POINT (-123.12880 49.28819)       50000.0  Addition / Alteration   \n",
       "2  POINT (-123.13701 49.29288)       60000.0  Addition / Alteration   \n",
       "3  POINT (-123.13715 49.28095)       50000.0  Addition / Alteration   \n",
       "4  POINT (-123.13825 49.28318)       35000.0  Addition / Alteration   \n",
       "\n",
       "       PropertyUse  Year      Area  NumberOfUses PropertyUseRevised  \n",
       "0    [Office Uses]  2018    Sunset             1        Office Uses  \n",
       "1  [Dwelling Uses]  2021  West End             1      Dwelling Uses  \n",
       "2  [Dwelling Uses]  2019  West End             1      Dwelling Uses  \n",
       "3  [Dwelling Uses]  2021  West End             1      Dwelling Uses  \n",
       "4  [Dwelling Uses]  2019  West End             1      Dwelling Uses  "
      ]
     },
     "execution_count": 13,
     "metadata": {},
     "output_type": "execute_result"
    }
   ],
   "source": [
    "#Create a new revised property use column that converts the original column from a list of values into a string of values\n",
    "\n",
    "permits_df['PropertyUseRevised'] = permits_df.PropertyUse.apply(lambda x: ', '.join([str(i) for i in x]))\n",
    "\n",
    "permits_df.head()"
   ]
  },
  {
   "cell_type": "code",
   "execution_count": 14,
   "metadata": {},
   "outputs": [],
   "source": [
    "#Change property use revised column base on the number of uses column. If the number of uses is greater than 1, change the value of property use revised to mixed use, otherwise keep it the same.\n",
    "\n",
    "permits_df['PropertyUseRevised'] = np.where(permits_df.NumberOfUses > 1, 'Mixed Uses', permits_df.PropertyUseRevised)"
   ]
  },
  {
   "cell_type": "code",
   "execution_count": 15,
   "metadata": {},
   "outputs": [
    {
     "data": {
      "text/plain": [
       "Dwelling Uses                      23804\n",
       "Office Uses                         4206\n",
       "Retail Uses                         1684\n",
       "Service Uses                        1330\n",
       "Mixed Uses                           992\n",
       "Institutional Uses                   667\n",
       "Cultural/Recreational Uses           540\n",
       "Manufacturing Uses                   250\n",
       "Wholesale Uses                       126\n",
       "Transportation and Storage Uses      112\n",
       "Parking Uses                          92\n",
       "Utility and Communication Uses        56\n",
       "Live-Work Uses                        19\n",
       "Agricultural Uses                      3\n",
       "Mural                                  1\n",
       "Deposition or Extraction Uses          1\n",
       "Name: PropertyUseRevised, dtype: int64"
      ]
     },
     "execution_count": 15,
     "metadata": {},
     "output_type": "execute_result"
    }
   ],
   "source": [
    "permits_df.PropertyUseRevised.value_counts()"
   ]
  },
  {
   "cell_type": "code",
   "execution_count": 16,
   "metadata": {},
   "outputs": [
    {
     "data": {
      "text/html": [
       "<div>\n",
       "<style scoped>\n",
       "    .dataframe tbody tr th:only-of-type {\n",
       "        vertical-align: middle;\n",
       "    }\n",
       "\n",
       "    .dataframe tbody tr th {\n",
       "        vertical-align: top;\n",
       "    }\n",
       "\n",
       "    .dataframe thead th {\n",
       "        text-align: right;\n",
       "    }\n",
       "</style>\n",
       "<table border=\"1\" class=\"dataframe\">\n",
       "  <thead>\n",
       "    <tr style=\"text-align: right;\">\n",
       "      <th></th>\n",
       "      <th>geometry</th>\n",
       "      <th>ProjectValue</th>\n",
       "      <th>WorkType</th>\n",
       "      <th>Year</th>\n",
       "      <th>Area</th>\n",
       "      <th>PropertyUseRevised</th>\n",
       "    </tr>\n",
       "  </thead>\n",
       "  <tbody>\n",
       "    <tr>\n",
       "      <th>0</th>\n",
       "      <td>POINT (-123.09119 49.22429)</td>\n",
       "      <td>10000.0</td>\n",
       "      <td>Addition / Alteration</td>\n",
       "      <td>2018</td>\n",
       "      <td>Sunset</td>\n",
       "      <td>Office Uses</td>\n",
       "    </tr>\n",
       "    <tr>\n",
       "      <th>1</th>\n",
       "      <td>POINT (-123.12880 49.28819)</td>\n",
       "      <td>50000.0</td>\n",
       "      <td>Addition / Alteration</td>\n",
       "      <td>2021</td>\n",
       "      <td>West End</td>\n",
       "      <td>Dwelling Uses</td>\n",
       "    </tr>\n",
       "    <tr>\n",
       "      <th>2</th>\n",
       "      <td>POINT (-123.13701 49.29288)</td>\n",
       "      <td>60000.0</td>\n",
       "      <td>Addition / Alteration</td>\n",
       "      <td>2019</td>\n",
       "      <td>West End</td>\n",
       "      <td>Dwelling Uses</td>\n",
       "    </tr>\n",
       "    <tr>\n",
       "      <th>3</th>\n",
       "      <td>POINT (-123.13715 49.28095)</td>\n",
       "      <td>50000.0</td>\n",
       "      <td>Addition / Alteration</td>\n",
       "      <td>2021</td>\n",
       "      <td>West End</td>\n",
       "      <td>Dwelling Uses</td>\n",
       "    </tr>\n",
       "    <tr>\n",
       "      <th>4</th>\n",
       "      <td>POINT (-123.13825 49.28318)</td>\n",
       "      <td>35000.0</td>\n",
       "      <td>Addition / Alteration</td>\n",
       "      <td>2019</td>\n",
       "      <td>West End</td>\n",
       "      <td>Dwelling Uses</td>\n",
       "    </tr>\n",
       "  </tbody>\n",
       "</table>\n",
       "</div>"
      ],
      "text/plain": [
       "                      geometry  ProjectValue               WorkType  Year  \\\n",
       "0  POINT (-123.09119 49.22429)       10000.0  Addition / Alteration  2018   \n",
       "1  POINT (-123.12880 49.28819)       50000.0  Addition / Alteration  2021   \n",
       "2  POINT (-123.13701 49.29288)       60000.0  Addition / Alteration  2019   \n",
       "3  POINT (-123.13715 49.28095)       50000.0  Addition / Alteration  2021   \n",
       "4  POINT (-123.13825 49.28318)       35000.0  Addition / Alteration  2019   \n",
       "\n",
       "       Area PropertyUseRevised  \n",
       "0    Sunset        Office Uses  \n",
       "1  West End      Dwelling Uses  \n",
       "2  West End      Dwelling Uses  \n",
       "3  West End      Dwelling Uses  \n",
       "4  West End      Dwelling Uses  "
      ]
     },
     "execution_count": 16,
     "metadata": {},
     "output_type": "execute_result"
    }
   ],
   "source": [
    "#Remove number of uses and original property use columns now that they are redundant\n",
    "\n",
    "permits_df = permits_df[['geometry','ProjectValue','WorkType','Year','Area','PropertyUseRevised']]\n",
    "\n",
    "permits_df.head()"
   ]
  },
  {
   "cell_type": "markdown",
   "metadata": {},
   "source": [
    "#### Data Cleaning & Preparation - Work Type"
   ]
  },
  {
   "cell_type": "code",
   "execution_count": 17,
   "metadata": {},
   "outputs": [
    {
     "data": {
      "text/plain": [
       "Addition / Alteration                   16446\n",
       "New Building                             7724\n",
       "Salvage and Abatement                    4890\n",
       "Demolition / Deconstruction              4460\n",
       "Temporary Building / Structure            318\n",
       "Outdoor Uses (No Buildings Proposed)       45\n",
       "Name: WorkType, dtype: int64"
      ]
     },
     "execution_count": 17,
     "metadata": {},
     "output_type": "execute_result"
    }
   ],
   "source": [
    "permits_df.WorkType.value_counts()"
   ]
  },
  {
   "cell_type": "code",
   "execution_count": 18,
   "metadata": {},
   "outputs": [
    {
     "data": {
      "text/plain": [
       "Addition              16446\n",
       "New Building           7724\n",
       "Salvage                4890\n",
       "Demolition             4460\n",
       "Temporary Building      318\n",
       "Outdoor Use              45\n",
       "Name: WorkType, dtype: int64"
      ]
     },
     "execution_count": 18,
     "metadata": {},
     "output_type": "execute_result"
    }
   ],
   "source": [
    "#Rename some of the values in the work type field\n",
    "\n",
    "permits_df['WorkType'] = permits_df['WorkType'].replace({'Addition / Alteration':'Addition',\n",
    "                                                         'Salvage and Abatement':'Salvage',\n",
    "                                                         'Demolition / Deconstruction':'Demolition',\n",
    "                                                         'Temporary Building / Structure':'Temporary Building',\n",
    "                                                         'Outdoor Uses (No Buildings Proposed)':'Outdoor Use'\n",
    "                                                         })\n",
    "\n",
    "permits_df.WorkType.value_counts()"
   ]
  },
  {
   "cell_type": "markdown",
   "metadata": {},
   "source": [
    "#### Data Cleaning & Preparation - Year"
   ]
  },
  {
   "cell_type": "code",
   "execution_count": 19,
   "metadata": {},
   "outputs": [
    {
     "data": {
      "text/plain": [
       "2018    6758\n",
       "2017    6729\n",
       "2019    5572\n",
       "2022    5382\n",
       "2021    5052\n",
       "2020    4390\n",
       "Name: Year, dtype: int64"
      ]
     },
     "execution_count": 19,
     "metadata": {},
     "output_type": "execute_result"
    }
   ],
   "source": [
    "permits_df.Year.value_counts()"
   ]
  },
  {
   "cell_type": "code",
   "execution_count": 20,
   "metadata": {},
   "outputs": [
    {
     "data": {
      "text/plain": [
       "2018    6758\n",
       "2017    6729\n",
       "2019    5572\n",
       "Name: Year, dtype: int64"
      ]
     },
     "execution_count": 20,
     "metadata": {},
     "output_type": "execute_result"
    }
   ],
   "source": [
    "#Filter the data down to permits that were submitted between the years 2017 and 2019\n",
    "\n",
    "permits_df = permits_df[permits_df['Year'].between(2017, 2019)]\n",
    "permits_df.Year.value_counts()"
   ]
  },
  {
   "cell_type": "markdown",
   "metadata": {},
   "source": [
    "### Check For Missing Values"
   ]
  },
  {
   "cell_type": "code",
   "execution_count": 21,
   "metadata": {},
   "outputs": [
    {
     "data": {
      "text/html": [
       "<div>\n",
       "<style scoped>\n",
       "    .dataframe tbody tr th:only-of-type {\n",
       "        vertical-align: middle;\n",
       "    }\n",
       "\n",
       "    .dataframe tbody tr th {\n",
       "        vertical-align: top;\n",
       "    }\n",
       "\n",
       "    .dataframe thead th {\n",
       "        text-align: right;\n",
       "    }\n",
       "</style>\n",
       "<table border=\"1\" class=\"dataframe\">\n",
       "  <thead>\n",
       "    <tr style=\"text-align: right;\">\n",
       "      <th></th>\n",
       "      <th>Total Missing</th>\n",
       "      <th>Percent</th>\n",
       "    </tr>\n",
       "  </thead>\n",
       "  <tbody>\n",
       "    <tr>\n",
       "      <th>Area</th>\n",
       "      <td>151</td>\n",
       "      <td>0.792277</td>\n",
       "    </tr>\n",
       "    <tr>\n",
       "      <th>geometry</th>\n",
       "      <td>147</td>\n",
       "      <td>0.771289</td>\n",
       "    </tr>\n",
       "    <tr>\n",
       "      <th>ProjectValue</th>\n",
       "      <td>0</td>\n",
       "      <td>0.000000</td>\n",
       "    </tr>\n",
       "    <tr>\n",
       "      <th>WorkType</th>\n",
       "      <td>0</td>\n",
       "      <td>0.000000</td>\n",
       "    </tr>\n",
       "    <tr>\n",
       "      <th>Year</th>\n",
       "      <td>0</td>\n",
       "      <td>0.000000</td>\n",
       "    </tr>\n",
       "  </tbody>\n",
       "</table>\n",
       "</div>"
      ],
      "text/plain": [
       "              Total Missing   Percent\n",
       "Area                    151  0.792277\n",
       "geometry                147  0.771289\n",
       "ProjectValue              0  0.000000\n",
       "WorkType                  0  0.000000\n",
       "Year                      0  0.000000"
      ]
     },
     "execution_count": 21,
     "metadata": {},
     "output_type": "execute_result"
    }
   ],
   "source": [
    "#Check the number of null values in the dataframe\n",
    "\n",
    "total_missing = permits_df.isnull().sum().sort_values(ascending=False)\n",
    "percent = (permits_df.isnull().sum()/permits_df.isnull().count()).sort_values(ascending=False)*100\n",
    "missing_data = pd.concat([total_missing, percent], axis=1, keys=['Total Missing', 'Percent'])\n",
    "missing_data.head()"
   ]
  },
  {
   "cell_type": "code",
   "execution_count": 22,
   "metadata": {},
   "outputs": [
    {
     "data": {
      "text/plain": [
       "geometry              0\n",
       "ProjectValue          0\n",
       "WorkType              0\n",
       "Year                  0\n",
       "Area                  0\n",
       "PropertyUseRevised    0\n",
       "dtype: int64"
      ]
     },
     "execution_count": 22,
     "metadata": {},
     "output_type": "execute_result"
    }
   ],
   "source": [
    "#Since there is such a small amount of missing data drop the rows where there are missing values\n",
    "\n",
    "permits_df = permits_df.dropna()\n",
    "permits_df.isnull().sum()"
   ]
  },
  {
   "cell_type": "markdown",
   "metadata": {},
   "source": [
    "# Working With Other Geospatial Datasets"
   ]
  },
  {
   "cell_type": "code",
   "execution_count": 23,
   "metadata": {},
   "outputs": [],
   "source": [
    "# Drops all columns but the geometry column. This is used on the datasets where you want to return a boolean value.\n",
    "\n",
    "def geo_column_only(url, col_name):\n",
    "    r = requests.get(url)\n",
    "    gdf = gpd.GeoDataFrame().from_features(r.json())    \n",
    "    final_table_columns = ['geometry']\n",
    "    geo_df_with_cols_removed = gdf.drop(columns=[col for col in gdf if col not in final_table_columns])\n",
    "    geo_df_with_cols_removed[col_name] = 1\n",
    "    return geo_df_with_cols_removed\n",
    "\n",
    "#Function to perform a left spatial join on two geodataframes and drop the right_index column after the join has been performed\n",
    "\n",
    "def join_reducer(left, right):\n",
    "    sjoin = gpd.sjoin(left, right, how='left')\n",
    "    sjoin.drop('index_right', axis=1, inplace=True)\n",
    "    return sjoin"
   ]
  },
  {
   "cell_type": "markdown",
   "metadata": {},
   "source": [
    "## Business Improvement Areas"
   ]
  },
  {
   "cell_type": "code",
   "execution_count": 24,
   "metadata": {},
   "outputs": [
    {
     "data": {
      "text/html": [
       "<div>\n",
       "<style scoped>\n",
       "    .dataframe tbody tr th:only-of-type {\n",
       "        vertical-align: middle;\n",
       "    }\n",
       "\n",
       "    .dataframe tbody tr th {\n",
       "        vertical-align: top;\n",
       "    }\n",
       "\n",
       "    .dataframe thead th {\n",
       "        text-align: right;\n",
       "    }\n",
       "</style>\n",
       "<table border=\"1\" class=\"dataframe\">\n",
       "  <thead>\n",
       "    <tr style=\"text-align: right;\">\n",
       "      <th></th>\n",
       "      <th>geometry</th>\n",
       "      <th>Business_Improvement_Area</th>\n",
       "    </tr>\n",
       "  </thead>\n",
       "  <tbody>\n",
       "    <tr>\n",
       "      <th>0</th>\n",
       "      <td>POLYGON ((-123.07049 49.27667, -123.07035 49.2...</td>\n",
       "      <td>1</td>\n",
       "    </tr>\n",
       "    <tr>\n",
       "      <th>1</th>\n",
       "      <td>MULTIPOLYGON (((-123.03095 49.28069, -123.0236...</td>\n",
       "      <td>1</td>\n",
       "    </tr>\n",
       "    <tr>\n",
       "      <th>2</th>\n",
       "      <td>POLYGON ((-123.15707 49.23507, -123.15706 49.2...</td>\n",
       "      <td>1</td>\n",
       "    </tr>\n",
       "    <tr>\n",
       "      <th>3</th>\n",
       "      <td>POLYGON ((-123.13964 49.21416, -123.14033 49.2...</td>\n",
       "      <td>1</td>\n",
       "    </tr>\n",
       "    <tr>\n",
       "      <th>4</th>\n",
       "      <td>POLYGON ((-123.13844 49.26669, -123.13916 49.2...</td>\n",
       "      <td>1</td>\n",
       "    </tr>\n",
       "  </tbody>\n",
       "</table>\n",
       "</div>"
      ],
      "text/plain": [
       "                                            geometry  \\\n",
       "0  POLYGON ((-123.07049 49.27667, -123.07035 49.2...   \n",
       "1  MULTIPOLYGON (((-123.03095 49.28069, -123.0236...   \n",
       "2  POLYGON ((-123.15707 49.23507, -123.15706 49.2...   \n",
       "3  POLYGON ((-123.13964 49.21416, -123.14033 49.2...   \n",
       "4  POLYGON ((-123.13844 49.26669, -123.13916 49.2...   \n",
       "\n",
       "   Business_Improvement_Area  \n",
       "0                          1  \n",
       "1                          1  \n",
       "2                          1  \n",
       "3                          1  \n",
       "4                          1  "
      ]
     },
     "execution_count": 24,
     "metadata": {},
     "output_type": "execute_result"
    }
   ],
   "source": [
    "bia_df = geo_column_only('https://opendata.vancouver.ca/api/v2/catalog/datasets/business-improvement-areas-bia/exports/geojson?limit=-1&offset=0&timezone=UTC', 'Business_Improvement_Area')\n",
    "bia_df.head()"
   ]
  },
  {
   "cell_type": "code",
   "execution_count": 25,
   "metadata": {},
   "outputs": [
    {
     "data": {
      "text/html": [
       "<div>\n",
       "<style scoped>\n",
       "    .dataframe tbody tr th:only-of-type {\n",
       "        vertical-align: middle;\n",
       "    }\n",
       "\n",
       "    .dataframe tbody tr th {\n",
       "        vertical-align: top;\n",
       "    }\n",
       "\n",
       "    .dataframe thead th {\n",
       "        text-align: right;\n",
       "    }\n",
       "</style>\n",
       "<table border=\"1\" class=\"dataframe\">\n",
       "  <thead>\n",
       "    <tr style=\"text-align: right;\">\n",
       "      <th></th>\n",
       "      <th>geometry</th>\n",
       "      <th>ProjectValue</th>\n",
       "      <th>WorkType</th>\n",
       "      <th>Year</th>\n",
       "      <th>Area</th>\n",
       "      <th>PropertyUseRevised</th>\n",
       "      <th>Business_Improvement_Area</th>\n",
       "    </tr>\n",
       "  </thead>\n",
       "  <tbody>\n",
       "    <tr>\n",
       "      <th>0</th>\n",
       "      <td>POINT (-123.09119 49.22429)</td>\n",
       "      <td>10000.0</td>\n",
       "      <td>Addition</td>\n",
       "      <td>2018</td>\n",
       "      <td>Sunset</td>\n",
       "      <td>Office Uses</td>\n",
       "      <td>NaN</td>\n",
       "    </tr>\n",
       "    <tr>\n",
       "      <th>2</th>\n",
       "      <td>POINT (-123.13701 49.29288)</td>\n",
       "      <td>60000.0</td>\n",
       "      <td>Addition</td>\n",
       "      <td>2019</td>\n",
       "      <td>West End</td>\n",
       "      <td>Dwelling Uses</td>\n",
       "      <td>NaN</td>\n",
       "    </tr>\n",
       "    <tr>\n",
       "      <th>4</th>\n",
       "      <td>POINT (-123.13825 49.28318)</td>\n",
       "      <td>35000.0</td>\n",
       "      <td>Addition</td>\n",
       "      <td>2019</td>\n",
       "      <td>West End</td>\n",
       "      <td>Dwelling Uses</td>\n",
       "      <td>NaN</td>\n",
       "    </tr>\n",
       "    <tr>\n",
       "      <th>5</th>\n",
       "      <td>POINT (-123.13865 49.28343)</td>\n",
       "      <td>55000.0</td>\n",
       "      <td>Addition</td>\n",
       "      <td>2019</td>\n",
       "      <td>West End</td>\n",
       "      <td>Dwelling Uses</td>\n",
       "      <td>NaN</td>\n",
       "    </tr>\n",
       "    <tr>\n",
       "      <th>6</th>\n",
       "      <td>POINT (-123.12209 49.26302)</td>\n",
       "      <td>50000.0</td>\n",
       "      <td>Addition</td>\n",
       "      <td>2017</td>\n",
       "      <td>Fairview</td>\n",
       "      <td>Office Uses</td>\n",
       "      <td>NaN</td>\n",
       "    </tr>\n",
       "  </tbody>\n",
       "</table>\n",
       "</div>"
      ],
      "text/plain": [
       "                      geometry  ProjectValue  WorkType  Year      Area  \\\n",
       "0  POINT (-123.09119 49.22429)       10000.0  Addition  2018    Sunset   \n",
       "2  POINT (-123.13701 49.29288)       60000.0  Addition  2019  West End   \n",
       "4  POINT (-123.13825 49.28318)       35000.0  Addition  2019  West End   \n",
       "5  POINT (-123.13865 49.28343)       55000.0  Addition  2019  West End   \n",
       "6  POINT (-123.12209 49.26302)       50000.0  Addition  2017  Fairview   \n",
       "\n",
       "  PropertyUseRevised  Business_Improvement_Area  \n",
       "0        Office Uses                        NaN  \n",
       "2      Dwelling Uses                        NaN  \n",
       "4      Dwelling Uses                        NaN  \n",
       "5      Dwelling Uses                        NaN  \n",
       "6        Office Uses                        NaN  "
      ]
     },
     "execution_count": 25,
     "metadata": {},
     "output_type": "execute_result"
    }
   ],
   "source": [
    "#Spatial join permits data to BIA data\n",
    "\n",
    "permits_df = join_reducer(permits_df,bia_df)\n",
    "permits_df['Business_Improvement_Area']\n",
    "permits_df.head()"
   ]
  },
  {
   "cell_type": "code",
   "execution_count": 26,
   "metadata": {},
   "outputs": [
    {
     "data": {
      "text/plain": [
       "1.0    4146\n",
       "Name: Business_Improvement_Area, dtype: int64"
      ]
     },
     "execution_count": 26,
     "metadata": {},
     "output_type": "execute_result"
    }
   ],
   "source": [
    "permits_df.Business_Improvement_Area.value_counts()"
   ]
  }
 ],
 "metadata": {
  "kernelspec": {
   "display_name": "Python 3.8.12 ('geo_env')",
   "language": "python",
   "name": "python3"
  },
  "language_info": {
   "codemirror_mode": {
    "name": "ipython",
    "version": 3
   },
   "file_extension": ".py",
   "mimetype": "text/x-python",
   "name": "python",
   "nbconvert_exporter": "python",
   "pygments_lexer": "ipython3",
   "version": "3.8.12"
  },
  "orig_nbformat": 4,
  "vscode": {
   "interpreter": {
    "hash": "ec7f930024ee9e7c04341ec7357fc1cde4a62cd64cda91380f1e1508482ff76c"
   }
  }
 },
 "nbformat": 4,
 "nbformat_minor": 2
}
