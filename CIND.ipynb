{
 "cells": [
  {
   "cell_type": "markdown",
   "metadata": {},
   "source": [
    "[Link to Github Repository](https://github.com/RoryAJames/CIND-820/tree/3253a4fe43331c026f5bbf49636ffb9ea60b0e50)"
   ]
  },
  {
   "cell_type": "code",
   "execution_count": 1,
   "metadata": {},
   "outputs": [],
   "source": [
    "#Import packages\n",
    "\n",
    "import numpy as np\n",
    "import pandas as pd\n",
    "import geopandas as gpd\n",
    "import requests\n",
    "import seaborn as sns\n",
    "import matplotlib.pyplot as plt\n",
    "%matplotlib inline\n",
    "from scipy import stats\n",
    "from scipy.stats import norm, skew\n",
    "import warnings\n",
    "warnings.filterwarnings('ignore')"
   ]
  },
  {
   "cell_type": "markdown",
   "metadata": {},
   "source": [
    "## Working With Building Permits Data"
   ]
  },
  {
   "cell_type": "code",
   "execution_count": 2,
   "metadata": {},
   "outputs": [],
   "source": [
    "url = 'https://opendata.vancouver.ca/api/v2/catalog/datasets/issued-building-permits/exports/geojson?limit=-1&offset=0&timezone=UTC'\n",
    "data = requests.get(url)\n",
    "permits_df = gpd.GeoDataFrame().from_features(data.json())\n",
    "permits_df = permits_df.set_crs('EPSG:4326').to_crs('EPSG:3857') # Set all geopandas dataframes to the same coordinate reference system"
   ]
  },
  {
   "cell_type": "code",
   "execution_count": 3,
   "metadata": {},
   "outputs": [
    {
     "data": {
      "text/html": [
       "<div>\n",
       "<style scoped>\n",
       "    .dataframe tbody tr th:only-of-type {\n",
       "        vertical-align: middle;\n",
       "    }\n",
       "\n",
       "    .dataframe tbody tr th {\n",
       "        vertical-align: top;\n",
       "    }\n",
       "\n",
       "    .dataframe thead th {\n",
       "        text-align: right;\n",
       "    }\n",
       "</style>\n",
       "<table border=\"1\" class=\"dataframe\">\n",
       "  <thead>\n",
       "    <tr style=\"text-align: right;\">\n",
       "      <th></th>\n",
       "      <th>geometry</th>\n",
       "      <th>permitnumber</th>\n",
       "      <th>permitnumbercreateddate</th>\n",
       "      <th>issuedate</th>\n",
       "      <th>permitelapseddays</th>\n",
       "      <th>projectvalue</th>\n",
       "      <th>typeofwork</th>\n",
       "      <th>address</th>\n",
       "      <th>projectdescription</th>\n",
       "      <th>permitcategory</th>\n",
       "      <th>...</th>\n",
       "      <th>applicantaddress</th>\n",
       "      <th>propertyuse</th>\n",
       "      <th>specificusecategory</th>\n",
       "      <th>buildingcontractor</th>\n",
       "      <th>buildingcontractoraddress</th>\n",
       "      <th>issueyear</th>\n",
       "      <th>geolocalarea</th>\n",
       "      <th>yearmonth</th>\n",
       "      <th>geo_point_2d</th>\n",
       "      <th>geom</th>\n",
       "    </tr>\n",
       "  </thead>\n",
       "  <tbody>\n",
       "    <tr>\n",
       "      <th>0</th>\n",
       "      <td>POINT (-13697105.568 6311926.610)</td>\n",
       "      <td>BP-2022-04117</td>\n",
       "      <td>2022-08-23</td>\n",
       "      <td>2022-09-06</td>\n",
       "      <td>14</td>\n",
       "      <td>0.0</td>\n",
       "      <td>Salvage and Abatement</td>\n",
       "      <td>3028 E 56TH AVENUE, Vancouver, BC V5S 2A5</td>\n",
       "      <td>Low Density Housing - Salvage and Abatement - ...</td>\n",
       "      <td>None</td>\n",
       "      <td>...</td>\n",
       "      <td>5620 EAGLE COURT\\r\\nNORTH VANCOUVER , BC  V7R4T9</td>\n",
       "      <td>[Dwelling Uses]</td>\n",
       "      <td>[Single Detached House]</td>\n",
       "      <td>None</td>\n",
       "      <td>None</td>\n",
       "      <td>2022</td>\n",
       "      <td>Killarney</td>\n",
       "      <td>2022-09</td>\n",
       "      <td>{'lon': -123.0431928, 'lat': 49.2179642}</td>\n",
       "      <td>NaN</td>\n",
       "    </tr>\n",
       "    <tr>\n",
       "      <th>1</th>\n",
       "      <td>POINT (-13700820.233 6312100.157)</td>\n",
       "      <td>BP-2016-03251</td>\n",
       "      <td>2016-10-26</td>\n",
       "      <td>2017-01-11</td>\n",
       "      <td>77</td>\n",
       "      <td>27600.0</td>\n",
       "      <td>Addition / Alteration</td>\n",
       "      <td>7196 KNIGHT STREET, Vancouver, BC V5P 2W8</td>\n",
       "      <td>Field Review - Addition / Alteration - Exterio...</td>\n",
       "      <td>Renovation - Residential - Lower Complexity</td>\n",
       "      <td>...</td>\n",
       "      <td>7196 Knight\\r\\nVancouver, BC  V5P2W8</td>\n",
       "      <td>[Dwelling Uses]</td>\n",
       "      <td>[Single Detached House]</td>\n",
       "      <td>None</td>\n",
       "      <td>None</td>\n",
       "      <td>2017</td>\n",
       "      <td>Victoria-Fraserview</td>\n",
       "      <td>2017-01</td>\n",
       "      <td>{'lon': -123.0765622, 'lat': 49.2189825}</td>\n",
       "      <td>NaN</td>\n",
       "    </tr>\n",
       "    <tr>\n",
       "      <th>2</th>\n",
       "      <td>POINT (-13711148.733 6313699.791)</td>\n",
       "      <td>DB-2017-00115</td>\n",
       "      <td>2017-01-06</td>\n",
       "      <td>2017-02-07</td>\n",
       "      <td>32</td>\n",
       "      <td>300000.0</td>\n",
       "      <td>Addition / Alteration</td>\n",
       "      <td>6409 MCCLEERY STREET, Vancouver, BC V6N 1G5</td>\n",
       "      <td>Field Review - Addition / Alteration - Exterio...</td>\n",
       "      <td>Renovation - Residential - Lower Complexity</td>\n",
       "      <td>...</td>\n",
       "      <td>#1500-855 West Georgia Street\\r\\nVancouver, BC...</td>\n",
       "      <td>[Dwelling Uses]</td>\n",
       "      <td>[Single Detached House]</td>\n",
       "      <td>None</td>\n",
       "      <td>None</td>\n",
       "      <td>2017</td>\n",
       "      <td>Kerrisdale</td>\n",
       "      <td>2017-02</td>\n",
       "      <td>{'lon': -123.1693447, 'lat': 49.2283675}</td>\n",
       "      <td>NaN</td>\n",
       "    </tr>\n",
       "    <tr>\n",
       "      <th>3</th>\n",
       "      <td>POINT (-13700852.103 6315636.343)</td>\n",
       "      <td>BP-2016-03265</td>\n",
       "      <td>2016-10-26</td>\n",
       "      <td>2017-02-03</td>\n",
       "      <td>100</td>\n",
       "      <td>8000.0</td>\n",
       "      <td>Addition / Alteration</td>\n",
       "      <td>4955 KNIGHT STREET, Vancouver, BC V5P 2T4</td>\n",
       "      <td>Field Review - Addition / Alteration - Exterio...</td>\n",
       "      <td>Renovation - Commercial/ Mixed Use - Lower Com...</td>\n",
       "      <td>...</td>\n",
       "      <td>8171 st Albans Rd\\r\\nRichmond, BC  V6Y2L2</td>\n",
       "      <td>[Retail Uses]</td>\n",
       "      <td>[Retail Store]</td>\n",
       "      <td>None</td>\n",
       "      <td>None</td>\n",
       "      <td>2017</td>\n",
       "      <td>Kensington-Cedar Cottage</td>\n",
       "      <td>2017-02</td>\n",
       "      <td>{'lon': -123.0768485, 'lat': 49.2397268}</td>\n",
       "      <td>NaN</td>\n",
       "    </tr>\n",
       "    <tr>\n",
       "      <th>4</th>\n",
       "      <td>POINT (-13715171.297 6320877.101)</td>\n",
       "      <td>BP-2021-01863</td>\n",
       "      <td>2021-04-27</td>\n",
       "      <td>2021-07-23</td>\n",
       "      <td>87</td>\n",
       "      <td>18000.0</td>\n",
       "      <td>Addition / Alteration</td>\n",
       "      <td>4389 W 3RD AVENUE, Vancouver, BC V6R 1M6</td>\n",
       "      <td>Field Review - Addition / Alteration - 4389 W ...</td>\n",
       "      <td>Renovation - Residential - Lower Complexity</td>\n",
       "      <td>...</td>\n",
       "      <td>141- 8680 Cambie Road\\r\\nRichmond, BC  V6X4K1</td>\n",
       "      <td>[Dwelling Uses]</td>\n",
       "      <td>[Single Detached House]</td>\n",
       "      <td>None</td>\n",
       "      <td>None</td>\n",
       "      <td>2021</td>\n",
       "      <td>West Point Grey</td>\n",
       "      <td>2021-07</td>\n",
       "      <td>{'lon': -123.20548, 'lat': 49.2704546}</td>\n",
       "      <td>NaN</td>\n",
       "    </tr>\n",
       "  </tbody>\n",
       "</table>\n",
       "<p>5 rows × 21 columns</p>\n",
       "</div>"
      ],
      "text/plain": [
       "                            geometry   permitnumber permitnumbercreateddate  \\\n",
       "0  POINT (-13697105.568 6311926.610)  BP-2022-04117              2022-08-23   \n",
       "1  POINT (-13700820.233 6312100.157)  BP-2016-03251              2016-10-26   \n",
       "2  POINT (-13711148.733 6313699.791)  DB-2017-00115              2017-01-06   \n",
       "3  POINT (-13700852.103 6315636.343)  BP-2016-03265              2016-10-26   \n",
       "4  POINT (-13715171.297 6320877.101)  BP-2021-01863              2021-04-27   \n",
       "\n",
       "    issuedate  permitelapseddays  projectvalue             typeofwork  \\\n",
       "0  2022-09-06                 14           0.0  Salvage and Abatement   \n",
       "1  2017-01-11                 77       27600.0  Addition / Alteration   \n",
       "2  2017-02-07                 32      300000.0  Addition / Alteration   \n",
       "3  2017-02-03                100        8000.0  Addition / Alteration   \n",
       "4  2021-07-23                 87       18000.0  Addition / Alteration   \n",
       "\n",
       "                                       address  \\\n",
       "0    3028 E 56TH AVENUE, Vancouver, BC V5S 2A5   \n",
       "1    7196 KNIGHT STREET, Vancouver, BC V5P 2W8   \n",
       "2  6409 MCCLEERY STREET, Vancouver, BC V6N 1G5   \n",
       "3    4955 KNIGHT STREET, Vancouver, BC V5P 2T4   \n",
       "4     4389 W 3RD AVENUE, Vancouver, BC V6R 1M6   \n",
       "\n",
       "                                  projectdescription  \\\n",
       "0  Low Density Housing - Salvage and Abatement - ...   \n",
       "1  Field Review - Addition / Alteration - Exterio...   \n",
       "2  Field Review - Addition / Alteration - Exterio...   \n",
       "3  Field Review - Addition / Alteration - Exterio...   \n",
       "4  Field Review - Addition / Alteration - 4389 W ...   \n",
       "\n",
       "                                      permitcategory  ...  \\\n",
       "0                                               None  ...   \n",
       "1        Renovation - Residential - Lower Complexity  ...   \n",
       "2        Renovation - Residential - Lower Complexity  ...   \n",
       "3  Renovation - Commercial/ Mixed Use - Lower Com...  ...   \n",
       "4        Renovation - Residential - Lower Complexity  ...   \n",
       "\n",
       "                                    applicantaddress      propertyuse  \\\n",
       "0   5620 EAGLE COURT\\r\\nNORTH VANCOUVER , BC  V7R4T9  [Dwelling Uses]   \n",
       "1               7196 Knight\\r\\nVancouver, BC  V5P2W8  [Dwelling Uses]   \n",
       "2  #1500-855 West Georgia Street\\r\\nVancouver, BC...  [Dwelling Uses]   \n",
       "3          8171 st Albans Rd\\r\\nRichmond, BC  V6Y2L2    [Retail Uses]   \n",
       "4      141- 8680 Cambie Road\\r\\nRichmond, BC  V6X4K1  [Dwelling Uses]   \n",
       "\n",
       "       specificusecategory buildingcontractor buildingcontractoraddress  \\\n",
       "0  [Single Detached House]               None                      None   \n",
       "1  [Single Detached House]               None                      None   \n",
       "2  [Single Detached House]               None                      None   \n",
       "3           [Retail Store]               None                      None   \n",
       "4  [Single Detached House]               None                      None   \n",
       "\n",
       "  issueyear              geolocalarea yearmonth  \\\n",
       "0      2022                 Killarney   2022-09   \n",
       "1      2017       Victoria-Fraserview   2017-01   \n",
       "2      2017                Kerrisdale   2017-02   \n",
       "3      2017  Kensington-Cedar Cottage   2017-02   \n",
       "4      2021           West Point Grey   2021-07   \n",
       "\n",
       "                               geo_point_2d geom  \n",
       "0  {'lon': -123.0431928, 'lat': 49.2179642}  NaN  \n",
       "1  {'lon': -123.0765622, 'lat': 49.2189825}  NaN  \n",
       "2  {'lon': -123.1693447, 'lat': 49.2283675}  NaN  \n",
       "3  {'lon': -123.0768485, 'lat': 49.2397268}  NaN  \n",
       "4    {'lon': -123.20548, 'lat': 49.2704546}  NaN  \n",
       "\n",
       "[5 rows x 21 columns]"
      ]
     },
     "execution_count": 3,
     "metadata": {},
     "output_type": "execute_result"
    }
   ],
   "source": [
    "permits_df.head()"
   ]
  },
  {
   "cell_type": "markdown",
   "metadata": {},
   "source": [
    "### Data Cleaning & Preparation"
   ]
  },
  {
   "cell_type": "code",
   "execution_count": 4,
   "metadata": {},
   "outputs": [
    {
     "name": "stdout",
     "output_type": "stream",
     "text": [
      "<class 'geopandas.geodataframe.GeoDataFrame'>\n",
      "RangeIndex: 34173 entries, 0 to 34172\n",
      "Data columns (total 21 columns):\n",
      " #   Column                     Non-Null Count  Dtype   \n",
      "---  ------                     --------------  -----   \n",
      " 0   geometry                   33823 non-null  geometry\n",
      " 1   permitnumber               34173 non-null  object  \n",
      " 2   permitnumbercreateddate    34173 non-null  object  \n",
      " 3   issuedate                  34173 non-null  object  \n",
      " 4   permitelapseddays          34173 non-null  int64   \n",
      " 5   projectvalue               34173 non-null  float64 \n",
      " 6   typeofwork                 34173 non-null  object  \n",
      " 7   address                    34102 non-null  object  \n",
      " 8   projectdescription         34173 non-null  object  \n",
      " 9   permitcategory             19506 non-null  object  \n",
      " 10  applicant                  34173 non-null  object  \n",
      " 11  applicantaddress           34086 non-null  object  \n",
      " 12  propertyuse                34168 non-null  object  \n",
      " 13  specificusecategory        34167 non-null  object  \n",
      " 14  buildingcontractor         21271 non-null  object  \n",
      " 15  buildingcontractoraddress  14905 non-null  object  \n",
      " 16  issueyear                  34173 non-null  object  \n",
      " 17  geolocalarea               33816 non-null  object  \n",
      " 18  yearmonth                  34173 non-null  object  \n",
      " 19  geo_point_2d               33823 non-null  object  \n",
      " 20  geom                       0 non-null      float64 \n",
      "dtypes: float64(2), geometry(1), int64(1), object(17)\n",
      "memory usage: 5.5+ MB\n"
     ]
    }
   ],
   "source": [
    "#Check data types\n",
    "\n",
    "permits_df.info()"
   ]
  },
  {
   "cell_type": "code",
   "execution_count": 5,
   "metadata": {},
   "outputs": [
    {
     "data": {
      "text/html": [
       "<div>\n",
       "<style scoped>\n",
       "    .dataframe tbody tr th:only-of-type {\n",
       "        vertical-align: middle;\n",
       "    }\n",
       "\n",
       "    .dataframe tbody tr th {\n",
       "        vertical-align: top;\n",
       "    }\n",
       "\n",
       "    .dataframe thead th {\n",
       "        text-align: right;\n",
       "    }\n",
       "</style>\n",
       "<table border=\"1\" class=\"dataframe\">\n",
       "  <thead>\n",
       "    <tr style=\"text-align: right;\">\n",
       "      <th></th>\n",
       "      <th>geometry</th>\n",
       "      <th>projectvalue</th>\n",
       "      <th>typeofwork</th>\n",
       "      <th>propertyuse</th>\n",
       "      <th>issueyear</th>\n",
       "      <th>geolocalarea</th>\n",
       "    </tr>\n",
       "  </thead>\n",
       "  <tbody>\n",
       "    <tr>\n",
       "      <th>0</th>\n",
       "      <td>POINT (-13697105.568 6311926.610)</td>\n",
       "      <td>0.0</td>\n",
       "      <td>Salvage and Abatement</td>\n",
       "      <td>[Dwelling Uses]</td>\n",
       "      <td>2022</td>\n",
       "      <td>Killarney</td>\n",
       "    </tr>\n",
       "    <tr>\n",
       "      <th>1</th>\n",
       "      <td>POINT (-13700820.233 6312100.157)</td>\n",
       "      <td>27600.0</td>\n",
       "      <td>Addition / Alteration</td>\n",
       "      <td>[Dwelling Uses]</td>\n",
       "      <td>2017</td>\n",
       "      <td>Victoria-Fraserview</td>\n",
       "    </tr>\n",
       "    <tr>\n",
       "      <th>2</th>\n",
       "      <td>POINT (-13711148.733 6313699.791)</td>\n",
       "      <td>300000.0</td>\n",
       "      <td>Addition / Alteration</td>\n",
       "      <td>[Dwelling Uses]</td>\n",
       "      <td>2017</td>\n",
       "      <td>Kerrisdale</td>\n",
       "    </tr>\n",
       "    <tr>\n",
       "      <th>3</th>\n",
       "      <td>POINT (-13700852.103 6315636.343)</td>\n",
       "      <td>8000.0</td>\n",
       "      <td>Addition / Alteration</td>\n",
       "      <td>[Retail Uses]</td>\n",
       "      <td>2017</td>\n",
       "      <td>Kensington-Cedar Cottage</td>\n",
       "    </tr>\n",
       "    <tr>\n",
       "      <th>4</th>\n",
       "      <td>POINT (-13715171.297 6320877.101)</td>\n",
       "      <td>18000.0</td>\n",
       "      <td>Addition / Alteration</td>\n",
       "      <td>[Dwelling Uses]</td>\n",
       "      <td>2021</td>\n",
       "      <td>West Point Grey</td>\n",
       "    </tr>\n",
       "  </tbody>\n",
       "</table>\n",
       "</div>"
      ],
      "text/plain": [
       "                            geometry  projectvalue             typeofwork  \\\n",
       "0  POINT (-13697105.568 6311926.610)           0.0  Salvage and Abatement   \n",
       "1  POINT (-13700820.233 6312100.157)       27600.0  Addition / Alteration   \n",
       "2  POINT (-13711148.733 6313699.791)      300000.0  Addition / Alteration   \n",
       "3  POINT (-13700852.103 6315636.343)        8000.0  Addition / Alteration   \n",
       "4  POINT (-13715171.297 6320877.101)       18000.0  Addition / Alteration   \n",
       "\n",
       "       propertyuse issueyear              geolocalarea  \n",
       "0  [Dwelling Uses]      2022                 Killarney  \n",
       "1  [Dwelling Uses]      2017       Victoria-Fraserview  \n",
       "2  [Dwelling Uses]      2017                Kerrisdale  \n",
       "3    [Retail Uses]      2017  Kensington-Cedar Cottage  \n",
       "4  [Dwelling Uses]      2021           West Point Grey  "
      ]
     },
     "execution_count": 5,
     "metadata": {},
     "output_type": "execute_result"
    }
   ],
   "source": [
    "#Remove unnecessary columns\n",
    "\n",
    "cols_to_keep = ['geometry','projectvalue','typeofwork','propertyuse','issueyear','geolocalarea']\n",
    "\n",
    "permits_df = permits_df[cols_to_keep]\n",
    "\n",
    "permits_df.head()"
   ]
  },
  {
   "cell_type": "code",
   "execution_count": 6,
   "metadata": {},
   "outputs": [],
   "source": [
    "#Rename columns to more appropriate names\n",
    "\n",
    "new_columns = {'projectvalue':'ProjectValue',\n",
    "               'typeofwork':'WorkType',\n",
    "               'propertyuse':'PropertyUse',\n",
    "               'issueyear':'Year',\n",
    "               'geolocalarea':'Area'\n",
    "               }\n",
    "\n",
    "permits_df.rename(columns=new_columns, inplace=True)"
   ]
  },
  {
   "cell_type": "code",
   "execution_count": 7,
   "metadata": {},
   "outputs": [
    {
     "name": "stdout",
     "output_type": "stream",
     "text": [
      "<class 'geopandas.geodataframe.GeoDataFrame'>\n",
      "RangeIndex: 34173 entries, 0 to 34172\n",
      "Data columns (total 6 columns):\n",
      " #   Column        Non-Null Count  Dtype   \n",
      "---  ------        --------------  -----   \n",
      " 0   geometry      33823 non-null  geometry\n",
      " 1   ProjectValue  34173 non-null  float64 \n",
      " 2   WorkType      34173 non-null  object  \n",
      " 3   PropertyUse   34168 non-null  object  \n",
      " 4   Year          34173 non-null  object  \n",
      " 5   Area          33816 non-null  object  \n",
      "dtypes: float64(1), geometry(1), object(4)\n",
      "memory usage: 1.6+ MB\n"
     ]
    }
   ],
   "source": [
    "permits_df.info()"
   ]
  },
  {
   "cell_type": "code",
   "execution_count": 8,
   "metadata": {},
   "outputs": [
    {
     "data": {
      "text/plain": [
       "geometry        geometry\n",
       "ProjectValue     float64\n",
       "WorkType          object\n",
       "PropertyUse       object\n",
       "Year               int32\n",
       "Area              object\n",
       "dtype: object"
      ]
     },
     "execution_count": 8,
     "metadata": {},
     "output_type": "execute_result"
    }
   ],
   "source": [
    "#Convert year column to integer\n",
    "\n",
    "permits_df['Year'] = permits_df['Year'].astype(str).astype(int)\n",
    "permits_df.dtypes"
   ]
  },
  {
   "cell_type": "code",
   "execution_count": 9,
   "metadata": {},
   "outputs": [
    {
     "data": {
      "text/html": [
       "<div>\n",
       "<style scoped>\n",
       "    .dataframe tbody tr th:only-of-type {\n",
       "        vertical-align: middle;\n",
       "    }\n",
       "\n",
       "    .dataframe tbody tr th {\n",
       "        vertical-align: top;\n",
       "    }\n",
       "\n",
       "    .dataframe thead th {\n",
       "        text-align: right;\n",
       "    }\n",
       "</style>\n",
       "<table border=\"1\" class=\"dataframe\">\n",
       "  <thead>\n",
       "    <tr style=\"text-align: right;\">\n",
       "      <th></th>\n",
       "      <th>geometry</th>\n",
       "      <th>ProjectValue</th>\n",
       "      <th>WorkType</th>\n",
       "      <th>PropertyUse</th>\n",
       "      <th>Year</th>\n",
       "      <th>Area</th>\n",
       "    </tr>\n",
       "  </thead>\n",
       "  <tbody>\n",
       "    <tr>\n",
       "      <th>0</th>\n",
       "      <td>POINT (-13697105.568 6311926.610)</td>\n",
       "      <td>0.0</td>\n",
       "      <td>Salvage and Abatement</td>\n",
       "      <td>[Dwelling Uses]</td>\n",
       "      <td>2022</td>\n",
       "      <td>Killarney</td>\n",
       "    </tr>\n",
       "    <tr>\n",
       "      <th>1</th>\n",
       "      <td>POINT (-13700820.233 6312100.157)</td>\n",
       "      <td>27600.0</td>\n",
       "      <td>Addition / Alteration</td>\n",
       "      <td>[Dwelling Uses]</td>\n",
       "      <td>2017</td>\n",
       "      <td>Victoria-Fraserview</td>\n",
       "    </tr>\n",
       "    <tr>\n",
       "      <th>2</th>\n",
       "      <td>POINT (-13711148.733 6313699.791)</td>\n",
       "      <td>300000.0</td>\n",
       "      <td>Addition / Alteration</td>\n",
       "      <td>[Dwelling Uses]</td>\n",
       "      <td>2017</td>\n",
       "      <td>Kerrisdale</td>\n",
       "    </tr>\n",
       "    <tr>\n",
       "      <th>3</th>\n",
       "      <td>POINT (-13700852.103 6315636.343)</td>\n",
       "      <td>8000.0</td>\n",
       "      <td>Addition / Alteration</td>\n",
       "      <td>[Retail Uses]</td>\n",
       "      <td>2017</td>\n",
       "      <td>Kensington-Cedar Cottage</td>\n",
       "    </tr>\n",
       "    <tr>\n",
       "      <th>4</th>\n",
       "      <td>POINT (-13715171.297 6320877.101)</td>\n",
       "      <td>18000.0</td>\n",
       "      <td>Addition / Alteration</td>\n",
       "      <td>[Dwelling Uses]</td>\n",
       "      <td>2021</td>\n",
       "      <td>West Point Grey</td>\n",
       "    </tr>\n",
       "  </tbody>\n",
       "</table>\n",
       "</div>"
      ],
      "text/plain": [
       "                            geometry  ProjectValue               WorkType  \\\n",
       "0  POINT (-13697105.568 6311926.610)           0.0  Salvage and Abatement   \n",
       "1  POINT (-13700820.233 6312100.157)       27600.0  Addition / Alteration   \n",
       "2  POINT (-13711148.733 6313699.791)      300000.0  Addition / Alteration   \n",
       "3  POINT (-13700852.103 6315636.343)        8000.0  Addition / Alteration   \n",
       "4  POINT (-13715171.297 6320877.101)       18000.0  Addition / Alteration   \n",
       "\n",
       "       PropertyUse  Year                      Area  \n",
       "0  [Dwelling Uses]  2022                 Killarney  \n",
       "1  [Dwelling Uses]  2017       Victoria-Fraserview  \n",
       "2  [Dwelling Uses]  2017                Kerrisdale  \n",
       "3    [Retail Uses]  2017  Kensington-Cedar Cottage  \n",
       "4  [Dwelling Uses]  2021           West Point Grey  "
      ]
     },
     "execution_count": 9,
     "metadata": {},
     "output_type": "execute_result"
    }
   ],
   "source": [
    "permits_df.head()"
   ]
  },
  {
   "cell_type": "markdown",
   "metadata": {},
   "source": [
    "#### Data Cleaning & Preparation - Property Use"
   ]
  },
  {
   "cell_type": "code",
   "execution_count": 10,
   "metadata": {},
   "outputs": [
    {
     "data": {
      "text/plain": [
       "[Dwelling Uses]                                                             24019\n",
       "[Office Uses]                                                                4237\n",
       "[Retail Uses]                                                                1696\n",
       "[Service Uses]                                                               1339\n",
       "[Institutional Uses]                                                          670\n",
       "                                                                            ...  \n",
       "[Live-Work Uses, Office Uses, Service Uses]                                     1\n",
       "[Mural]                                                                         1\n",
       "[Manufacturing Uses, Office Uses, Retail Uses, Service Uses]                    1\n",
       "[Manufacturing Uses, Retail Uses]                                               1\n",
       "[Dwelling Uses, Live-Work Uses, Parking Uses, Retail Uses, Service Uses]        1\n",
       "Name: PropertyUse, Length: 130, dtype: int64"
      ]
     },
     "execution_count": 10,
     "metadata": {},
     "output_type": "execute_result"
    }
   ],
   "source": [
    "#Check value counts for property use\n",
    "\n",
    "permits_df.PropertyUse.value_counts()"
   ]
  },
  {
   "cell_type": "code",
   "execution_count": 11,
   "metadata": {},
   "outputs": [],
   "source": [
    "# Create a number of uses column by counting the number of items in the property use column which is a list of values\n",
    "\n",
    "permits_df[\"NumberOfUses\"] = permits_df.PropertyUse.str.len()\n",
    "\n",
    "#Remove the rows where the number of uses is blank\n",
    "\n",
    "permits_df = permits_df[permits_df['NumberOfUses'].notna()]\n",
    "\n",
    "#Convert number of uses to an integer\n",
    "\n",
    "permits_df[\"NumberOfUses\"] = permits_df[\"NumberOfUses\"].astype(int)"
   ]
  },
  {
   "cell_type": "code",
   "execution_count": 12,
   "metadata": {},
   "outputs": [
    {
     "data": {
      "text/plain": [
       "1    33168\n",
       "2      739\n",
       "3      187\n",
       "4       58\n",
       "5       16\n",
       "Name: NumberOfUses, dtype: int64"
      ]
     },
     "execution_count": 12,
     "metadata": {},
     "output_type": "execute_result"
    }
   ],
   "source": [
    "permits_df.NumberOfUses.value_counts()"
   ]
  },
  {
   "cell_type": "code",
   "execution_count": 13,
   "metadata": {},
   "outputs": [
    {
     "data": {
      "text/html": [
       "<div>\n",
       "<style scoped>\n",
       "    .dataframe tbody tr th:only-of-type {\n",
       "        vertical-align: middle;\n",
       "    }\n",
       "\n",
       "    .dataframe tbody tr th {\n",
       "        vertical-align: top;\n",
       "    }\n",
       "\n",
       "    .dataframe thead th {\n",
       "        text-align: right;\n",
       "    }\n",
       "</style>\n",
       "<table border=\"1\" class=\"dataframe\">\n",
       "  <thead>\n",
       "    <tr style=\"text-align: right;\">\n",
       "      <th></th>\n",
       "      <th>geometry</th>\n",
       "      <th>ProjectValue</th>\n",
       "      <th>WorkType</th>\n",
       "      <th>PropertyUse</th>\n",
       "      <th>Year</th>\n",
       "      <th>Area</th>\n",
       "      <th>NumberOfUses</th>\n",
       "      <th>PropertyUseRevised</th>\n",
       "    </tr>\n",
       "  </thead>\n",
       "  <tbody>\n",
       "    <tr>\n",
       "      <th>0</th>\n",
       "      <td>POINT (-13697105.568 6311926.610)</td>\n",
       "      <td>0.0</td>\n",
       "      <td>Salvage and Abatement</td>\n",
       "      <td>[Dwelling Uses]</td>\n",
       "      <td>2022</td>\n",
       "      <td>Killarney</td>\n",
       "      <td>1</td>\n",
       "      <td>Dwelling Uses</td>\n",
       "    </tr>\n",
       "    <tr>\n",
       "      <th>1</th>\n",
       "      <td>POINT (-13700820.233 6312100.157)</td>\n",
       "      <td>27600.0</td>\n",
       "      <td>Addition / Alteration</td>\n",
       "      <td>[Dwelling Uses]</td>\n",
       "      <td>2017</td>\n",
       "      <td>Victoria-Fraserview</td>\n",
       "      <td>1</td>\n",
       "      <td>Dwelling Uses</td>\n",
       "    </tr>\n",
       "    <tr>\n",
       "      <th>2</th>\n",
       "      <td>POINT (-13711148.733 6313699.791)</td>\n",
       "      <td>300000.0</td>\n",
       "      <td>Addition / Alteration</td>\n",
       "      <td>[Dwelling Uses]</td>\n",
       "      <td>2017</td>\n",
       "      <td>Kerrisdale</td>\n",
       "      <td>1</td>\n",
       "      <td>Dwelling Uses</td>\n",
       "    </tr>\n",
       "    <tr>\n",
       "      <th>3</th>\n",
       "      <td>POINT (-13700852.103 6315636.343)</td>\n",
       "      <td>8000.0</td>\n",
       "      <td>Addition / Alteration</td>\n",
       "      <td>[Retail Uses]</td>\n",
       "      <td>2017</td>\n",
       "      <td>Kensington-Cedar Cottage</td>\n",
       "      <td>1</td>\n",
       "      <td>Retail Uses</td>\n",
       "    </tr>\n",
       "    <tr>\n",
       "      <th>4</th>\n",
       "      <td>POINT (-13715171.297 6320877.101)</td>\n",
       "      <td>18000.0</td>\n",
       "      <td>Addition / Alteration</td>\n",
       "      <td>[Dwelling Uses]</td>\n",
       "      <td>2021</td>\n",
       "      <td>West Point Grey</td>\n",
       "      <td>1</td>\n",
       "      <td>Dwelling Uses</td>\n",
       "    </tr>\n",
       "  </tbody>\n",
       "</table>\n",
       "</div>"
      ],
      "text/plain": [
       "                            geometry  ProjectValue               WorkType  \\\n",
       "0  POINT (-13697105.568 6311926.610)           0.0  Salvage and Abatement   \n",
       "1  POINT (-13700820.233 6312100.157)       27600.0  Addition / Alteration   \n",
       "2  POINT (-13711148.733 6313699.791)      300000.0  Addition / Alteration   \n",
       "3  POINT (-13700852.103 6315636.343)        8000.0  Addition / Alteration   \n",
       "4  POINT (-13715171.297 6320877.101)       18000.0  Addition / Alteration   \n",
       "\n",
       "       PropertyUse  Year                      Area  NumberOfUses  \\\n",
       "0  [Dwelling Uses]  2022                 Killarney             1   \n",
       "1  [Dwelling Uses]  2017       Victoria-Fraserview             1   \n",
       "2  [Dwelling Uses]  2017                Kerrisdale             1   \n",
       "3    [Retail Uses]  2017  Kensington-Cedar Cottage             1   \n",
       "4  [Dwelling Uses]  2021           West Point Grey             1   \n",
       "\n",
       "  PropertyUseRevised  \n",
       "0      Dwelling Uses  \n",
       "1      Dwelling Uses  \n",
       "2      Dwelling Uses  \n",
       "3        Retail Uses  \n",
       "4      Dwelling Uses  "
      ]
     },
     "execution_count": 13,
     "metadata": {},
     "output_type": "execute_result"
    }
   ],
   "source": [
    "#Create a new revised property use column that converts the original column from a list of values into a string of values\n",
    "\n",
    "permits_df['PropertyUseRevised'] = permits_df.PropertyUse.apply(lambda x: ', '.join([str(i) for i in x]))\n",
    "\n",
    "permits_df.head()"
   ]
  },
  {
   "cell_type": "code",
   "execution_count": 14,
   "metadata": {},
   "outputs": [],
   "source": [
    "#Change property use revised column base on the number of uses column. If the number of uses is greater than 1, change the value of property use revised to mixed use, otherwise keep it the same.\n",
    "\n",
    "permits_df['PropertyUseRevised'] = np.where(permits_df.NumberOfUses > 1, 'Mixed Uses', permits_df.PropertyUseRevised)"
   ]
  },
  {
   "cell_type": "code",
   "execution_count": 15,
   "metadata": {},
   "outputs": [
    {
     "data": {
      "text/plain": [
       "Dwelling Uses                      24019\n",
       "Office Uses                         4237\n",
       "Retail Uses                         1696\n",
       "Service Uses                        1339\n",
       "Mixed Uses                          1000\n",
       "Institutional Uses                   670\n",
       "Cultural/Recreational Uses           544\n",
       "Manufacturing Uses                   250\n",
       "Wholesale Uses                       127\n",
       "Transportation and Storage Uses      113\n",
       "Parking Uses                          93\n",
       "Utility and Communication Uses        56\n",
       "Live-Work Uses                        19\n",
       "Agricultural Uses                      3\n",
       "Mural                                  1\n",
       "Deposition or Extraction Uses          1\n",
       "Name: PropertyUseRevised, dtype: int64"
      ]
     },
     "execution_count": 15,
     "metadata": {},
     "output_type": "execute_result"
    }
   ],
   "source": [
    "permits_df.PropertyUseRevised.value_counts()"
   ]
  },
  {
   "cell_type": "code",
   "execution_count": 16,
   "metadata": {},
   "outputs": [
    {
     "data": {
      "text/html": [
       "<div>\n",
       "<style scoped>\n",
       "    .dataframe tbody tr th:only-of-type {\n",
       "        vertical-align: middle;\n",
       "    }\n",
       "\n",
       "    .dataframe tbody tr th {\n",
       "        vertical-align: top;\n",
       "    }\n",
       "\n",
       "    .dataframe thead th {\n",
       "        text-align: right;\n",
       "    }\n",
       "</style>\n",
       "<table border=\"1\" class=\"dataframe\">\n",
       "  <thead>\n",
       "    <tr style=\"text-align: right;\">\n",
       "      <th></th>\n",
       "      <th>geometry</th>\n",
       "      <th>ProjectValue</th>\n",
       "      <th>WorkType</th>\n",
       "      <th>Year</th>\n",
       "      <th>Area</th>\n",
       "      <th>PropertyUseRevised</th>\n",
       "    </tr>\n",
       "  </thead>\n",
       "  <tbody>\n",
       "    <tr>\n",
       "      <th>0</th>\n",
       "      <td>POINT (-13697105.568 6311926.610)</td>\n",
       "      <td>0.0</td>\n",
       "      <td>Salvage and Abatement</td>\n",
       "      <td>2022</td>\n",
       "      <td>Killarney</td>\n",
       "      <td>Dwelling Uses</td>\n",
       "    </tr>\n",
       "    <tr>\n",
       "      <th>1</th>\n",
       "      <td>POINT (-13700820.233 6312100.157)</td>\n",
       "      <td>27600.0</td>\n",
       "      <td>Addition / Alteration</td>\n",
       "      <td>2017</td>\n",
       "      <td>Victoria-Fraserview</td>\n",
       "      <td>Dwelling Uses</td>\n",
       "    </tr>\n",
       "    <tr>\n",
       "      <th>2</th>\n",
       "      <td>POINT (-13711148.733 6313699.791)</td>\n",
       "      <td>300000.0</td>\n",
       "      <td>Addition / Alteration</td>\n",
       "      <td>2017</td>\n",
       "      <td>Kerrisdale</td>\n",
       "      <td>Dwelling Uses</td>\n",
       "    </tr>\n",
       "    <tr>\n",
       "      <th>3</th>\n",
       "      <td>POINT (-13700852.103 6315636.343)</td>\n",
       "      <td>8000.0</td>\n",
       "      <td>Addition / Alteration</td>\n",
       "      <td>2017</td>\n",
       "      <td>Kensington-Cedar Cottage</td>\n",
       "      <td>Retail Uses</td>\n",
       "    </tr>\n",
       "    <tr>\n",
       "      <th>4</th>\n",
       "      <td>POINT (-13715171.297 6320877.101)</td>\n",
       "      <td>18000.0</td>\n",
       "      <td>Addition / Alteration</td>\n",
       "      <td>2021</td>\n",
       "      <td>West Point Grey</td>\n",
       "      <td>Dwelling Uses</td>\n",
       "    </tr>\n",
       "  </tbody>\n",
       "</table>\n",
       "</div>"
      ],
      "text/plain": [
       "                            geometry  ProjectValue               WorkType  \\\n",
       "0  POINT (-13697105.568 6311926.610)           0.0  Salvage and Abatement   \n",
       "1  POINT (-13700820.233 6312100.157)       27600.0  Addition / Alteration   \n",
       "2  POINT (-13711148.733 6313699.791)      300000.0  Addition / Alteration   \n",
       "3  POINT (-13700852.103 6315636.343)        8000.0  Addition / Alteration   \n",
       "4  POINT (-13715171.297 6320877.101)       18000.0  Addition / Alteration   \n",
       "\n",
       "   Year                      Area PropertyUseRevised  \n",
       "0  2022                 Killarney      Dwelling Uses  \n",
       "1  2017       Victoria-Fraserview      Dwelling Uses  \n",
       "2  2017                Kerrisdale      Dwelling Uses  \n",
       "3  2017  Kensington-Cedar Cottage        Retail Uses  \n",
       "4  2021           West Point Grey      Dwelling Uses  "
      ]
     },
     "execution_count": 16,
     "metadata": {},
     "output_type": "execute_result"
    }
   ],
   "source": [
    "#Remove number of uses and original property use columns now that they are redundant\n",
    "\n",
    "permits_df = permits_df[['geometry','ProjectValue','WorkType','Year','Area','PropertyUseRevised']]\n",
    "\n",
    "permits_df.head()"
   ]
  },
  {
   "cell_type": "markdown",
   "metadata": {},
   "source": [
    "#### Data Cleaning & Preparation - Work Type"
   ]
  },
  {
   "cell_type": "code",
   "execution_count": 17,
   "metadata": {},
   "outputs": [
    {
     "data": {
      "text/plain": [
       "Addition / Alteration                   16564\n",
       "New Building                             7813\n",
       "Salvage and Abatement                    4910\n",
       "Demolition / Deconstruction              4515\n",
       "Temporary Building / Structure            321\n",
       "Outdoor Uses (No Buildings Proposed)       45\n",
       "Name: WorkType, dtype: int64"
      ]
     },
     "execution_count": 17,
     "metadata": {},
     "output_type": "execute_result"
    }
   ],
   "source": [
    "permits_df.WorkType.value_counts()"
   ]
  },
  {
   "cell_type": "code",
   "execution_count": 18,
   "metadata": {},
   "outputs": [
    {
     "data": {
      "text/plain": [
       "Addition              16564\n",
       "New Building           7813\n",
       "Salvage                4910\n",
       "Demolition             4515\n",
       "Temporary Building      321\n",
       "Outdoor Use              45\n",
       "Name: WorkType, dtype: int64"
      ]
     },
     "execution_count": 18,
     "metadata": {},
     "output_type": "execute_result"
    }
   ],
   "source": [
    "#Rename some of the values in the work type field\n",
    "\n",
    "permits_df['WorkType'] = permits_df['WorkType'].replace({'Addition / Alteration':'Addition',\n",
    "                                                         'Salvage and Abatement':'Salvage',\n",
    "                                                         'Demolition / Deconstruction':'Demolition',\n",
    "                                                         'Temporary Building / Structure':'Temporary Building',\n",
    "                                                         'Outdoor Uses (No Buildings Proposed)':'Outdoor Use'\n",
    "                                                         })\n",
    "\n",
    "permits_df.WorkType.value_counts()"
   ]
  },
  {
   "cell_type": "markdown",
   "metadata": {},
   "source": [
    "#### Data Cleaning & Preparation - Year"
   ]
  },
  {
   "cell_type": "code",
   "execution_count": 19,
   "metadata": {},
   "outputs": [
    {
     "data": {
      "text/plain": [
       "2018    6758\n",
       "2017    6729\n",
       "2022    5667\n",
       "2019    5572\n",
       "2021    5052\n",
       "2020    4390\n",
       "Name: Year, dtype: int64"
      ]
     },
     "execution_count": 19,
     "metadata": {},
     "output_type": "execute_result"
    }
   ],
   "source": [
    "permits_df.Year.value_counts()"
   ]
  },
  {
   "cell_type": "code",
   "execution_count": 20,
   "metadata": {},
   "outputs": [
    {
     "data": {
      "text/plain": [
       "2018    6758\n",
       "2017    6729\n",
       "2019    5572\n",
       "Name: Year, dtype: int64"
      ]
     },
     "execution_count": 20,
     "metadata": {},
     "output_type": "execute_result"
    }
   ],
   "source": [
    "#Filter the data down to permits that were submitted between the years 2017 and 2019.\n",
    "\n",
    "permits_df = permits_df[permits_df['Year'].between(2017, 2019)]\n",
    "permits_df.Year.value_counts()"
   ]
  },
  {
   "cell_type": "markdown",
   "metadata": {},
   "source": [
    "### Check For Missing Values"
   ]
  },
  {
   "cell_type": "code",
   "execution_count": 21,
   "metadata": {},
   "outputs": [
    {
     "data": {
      "text/html": [
       "<div>\n",
       "<style scoped>\n",
       "    .dataframe tbody tr th:only-of-type {\n",
       "        vertical-align: middle;\n",
       "    }\n",
       "\n",
       "    .dataframe tbody tr th {\n",
       "        vertical-align: top;\n",
       "    }\n",
       "\n",
       "    .dataframe thead th {\n",
       "        text-align: right;\n",
       "    }\n",
       "</style>\n",
       "<table border=\"1\" class=\"dataframe\">\n",
       "  <thead>\n",
       "    <tr style=\"text-align: right;\">\n",
       "      <th></th>\n",
       "      <th>Total Missing</th>\n",
       "      <th>Percent</th>\n",
       "    </tr>\n",
       "  </thead>\n",
       "  <tbody>\n",
       "    <tr>\n",
       "      <th>Area</th>\n",
       "      <td>151</td>\n",
       "      <td>0.792277</td>\n",
       "    </tr>\n",
       "    <tr>\n",
       "      <th>geometry</th>\n",
       "      <td>147</td>\n",
       "      <td>0.771289</td>\n",
       "    </tr>\n",
       "    <tr>\n",
       "      <th>ProjectValue</th>\n",
       "      <td>0</td>\n",
       "      <td>0.000000</td>\n",
       "    </tr>\n",
       "    <tr>\n",
       "      <th>WorkType</th>\n",
       "      <td>0</td>\n",
       "      <td>0.000000</td>\n",
       "    </tr>\n",
       "    <tr>\n",
       "      <th>Year</th>\n",
       "      <td>0</td>\n",
       "      <td>0.000000</td>\n",
       "    </tr>\n",
       "  </tbody>\n",
       "</table>\n",
       "</div>"
      ],
      "text/plain": [
       "              Total Missing   Percent\n",
       "Area                    151  0.792277\n",
       "geometry                147  0.771289\n",
       "ProjectValue              0  0.000000\n",
       "WorkType                  0  0.000000\n",
       "Year                      0  0.000000"
      ]
     },
     "execution_count": 21,
     "metadata": {},
     "output_type": "execute_result"
    }
   ],
   "source": [
    "#Check the number of null values in each column\n",
    "\n",
    "total_missing = permits_df.isnull().sum().sort_values(ascending=False)\n",
    "percent = (permits_df.isnull().sum()/permits_df.isnull().count()).sort_values(ascending=False)*100\n",
    "missing_data = pd.concat([total_missing, percent], axis=1, keys=['Total Missing', 'Percent'])\n",
    "missing_data.head()"
   ]
  },
  {
   "cell_type": "code",
   "execution_count": 22,
   "metadata": {},
   "outputs": [
    {
     "data": {
      "text/plain": [
       "geometry              0\n",
       "ProjectValue          0\n",
       "WorkType              0\n",
       "Year                  0\n",
       "Area                  0\n",
       "PropertyUseRevised    0\n",
       "dtype: int64"
      ]
     },
     "execution_count": 22,
     "metadata": {},
     "output_type": "execute_result"
    }
   ],
   "source": [
    "#Since there is such a small amount of missing data, drop the rows where there are missing values\n",
    "\n",
    "permits_df = permits_df.dropna()\n",
    "permits_df.isnull().sum()"
   ]
  },
  {
   "cell_type": "markdown",
   "metadata": {},
   "source": [
    "# Working With Other Geospatial Datasets"
   ]
  },
  {
   "cell_type": "code",
   "execution_count": 23,
   "metadata": {},
   "outputs": [],
   "source": [
    "# A function that drops all of the columns in a geopandas dataframe except for the geometry column. This is used on the datasets where you want to return a boolean value.\n",
    "\n",
    "def geo_column_only(url, col_name):\n",
    "    r = requests.get(url)\n",
    "    gdf = gpd.GeoDataFrame().from_features(r.json())\n",
    "    gdf = gdf.set_crs('EPSG:4326').to_crs('EPSG:3857') #Sets the CRS to the same as the permits data set\n",
    "    final_table_columns = ['geometry']\n",
    "    geo_df_with_cols_removed = gdf.drop(columns=[col for col in gdf if col not in final_table_columns]) #Drop a column if its not geometry\n",
    "    geo_df_with_cols_removed[col_name] = 1 #Assign a value of 1 to the newly created column\n",
    "    return geo_df_with_cols_removed\n",
    "\n",
    "#Function to perform a left spatial join on two geopanadas dataframes and drop the right_index column after the join has been performed\n",
    "\n",
    "def join_reducer(left, right):\n",
    "    sjoin = gpd.sjoin(left, right, how='left')\n",
    "    sjoin.drop('index_right', axis=1, inplace=True)\n",
    "    return sjoin"
   ]
  },
  {
   "cell_type": "markdown",
   "metadata": {},
   "source": [
    "### Business Improvement Areas"
   ]
  },
  {
   "cell_type": "code",
   "execution_count": 24,
   "metadata": {},
   "outputs": [
    {
     "data": {
      "text/html": [
       "<div>\n",
       "<style scoped>\n",
       "    .dataframe tbody tr th:only-of-type {\n",
       "        vertical-align: middle;\n",
       "    }\n",
       "\n",
       "    .dataframe tbody tr th {\n",
       "        vertical-align: top;\n",
       "    }\n",
       "\n",
       "    .dataframe thead th {\n",
       "        text-align: right;\n",
       "    }\n",
       "</style>\n",
       "<table border=\"1\" class=\"dataframe\">\n",
       "  <thead>\n",
       "    <tr style=\"text-align: right;\">\n",
       "      <th></th>\n",
       "      <th>geometry</th>\n",
       "      <th>BusinessImprovementArea</th>\n",
       "    </tr>\n",
       "  </thead>\n",
       "  <tbody>\n",
       "    <tr>\n",
       "      <th>0</th>\n",
       "      <td>POLYGON ((-13700143.889 6321936.969, -13700128...</td>\n",
       "      <td>1</td>\n",
       "    </tr>\n",
       "    <tr>\n",
       "      <th>1</th>\n",
       "      <td>MULTIPOLYGON (((-13695742.940 6322624.315, -13...</td>\n",
       "      <td>1</td>\n",
       "    </tr>\n",
       "    <tr>\n",
       "      <th>2</th>\n",
       "      <td>POLYGON ((-13709782.421 6314843.080, -13709781...</td>\n",
       "      <td>1</td>\n",
       "    </tr>\n",
       "    <tr>\n",
       "      <th>3</th>\n",
       "      <td>POLYGON ((-13707842.306 6311277.467, -13707919...</td>\n",
       "      <td>1</td>\n",
       "    </tr>\n",
       "    <tr>\n",
       "      <th>4</th>\n",
       "      <td>POLYGON ((-13707708.568 6320234.155, -13707788...</td>\n",
       "      <td>1</td>\n",
       "    </tr>\n",
       "  </tbody>\n",
       "</table>\n",
       "</div>"
      ],
      "text/plain": [
       "                                            geometry  BusinessImprovementArea\n",
       "0  POLYGON ((-13700143.889 6321936.969, -13700128...                        1\n",
       "1  MULTIPOLYGON (((-13695742.940 6322624.315, -13...                        1\n",
       "2  POLYGON ((-13709782.421 6314843.080, -13709781...                        1\n",
       "3  POLYGON ((-13707842.306 6311277.467, -13707919...                        1\n",
       "4  POLYGON ((-13707708.568 6320234.155, -13707788...                        1"
      ]
     },
     "execution_count": 24,
     "metadata": {},
     "output_type": "execute_result"
    }
   ],
   "source": [
    "bia_df = geo_column_only('https://opendata.vancouver.ca/api/v2/catalog/datasets/business-improvement-areas-bia/exports/geojson?limit=-1&offset=0&timezone=UTC', 'BusinessImprovementArea')\n",
    "bia_df.head()"
   ]
  },
  {
   "cell_type": "code",
   "execution_count": 25,
   "metadata": {},
   "outputs": [
    {
     "data": {
      "text/html": [
       "<div>\n",
       "<style scoped>\n",
       "    .dataframe tbody tr th:only-of-type {\n",
       "        vertical-align: middle;\n",
       "    }\n",
       "\n",
       "    .dataframe tbody tr th {\n",
       "        vertical-align: top;\n",
       "    }\n",
       "\n",
       "    .dataframe thead th {\n",
       "        text-align: right;\n",
       "    }\n",
       "</style>\n",
       "<table border=\"1\" class=\"dataframe\">\n",
       "  <thead>\n",
       "    <tr style=\"text-align: right;\">\n",
       "      <th></th>\n",
       "      <th>geometry</th>\n",
       "      <th>ProjectValue</th>\n",
       "      <th>WorkType</th>\n",
       "      <th>Year</th>\n",
       "      <th>Area</th>\n",
       "      <th>PropertyUseRevised</th>\n",
       "      <th>BusinessImprovementArea</th>\n",
       "    </tr>\n",
       "  </thead>\n",
       "  <tbody>\n",
       "    <tr>\n",
       "      <th>1</th>\n",
       "      <td>POINT (-13700820.233 6312100.157)</td>\n",
       "      <td>27600.0</td>\n",
       "      <td>Addition</td>\n",
       "      <td>2017</td>\n",
       "      <td>Victoria-Fraserview</td>\n",
       "      <td>Dwelling Uses</td>\n",
       "      <td>0.0</td>\n",
       "    </tr>\n",
       "    <tr>\n",
       "      <th>2</th>\n",
       "      <td>POINT (-13711148.733 6313699.791)</td>\n",
       "      <td>300000.0</td>\n",
       "      <td>Addition</td>\n",
       "      <td>2017</td>\n",
       "      <td>Kerrisdale</td>\n",
       "      <td>Dwelling Uses</td>\n",
       "      <td>0.0</td>\n",
       "    </tr>\n",
       "    <tr>\n",
       "      <th>3</th>\n",
       "      <td>POINT (-13700852.103 6315636.343)</td>\n",
       "      <td>8000.0</td>\n",
       "      <td>Addition</td>\n",
       "      <td>2017</td>\n",
       "      <td>Kensington-Cedar Cottage</td>\n",
       "      <td>Retail Uses</td>\n",
       "      <td>0.0</td>\n",
       "    </tr>\n",
       "    <tr>\n",
       "      <th>5</th>\n",
       "      <td>POINT (-13712690.820 6311919.282)</td>\n",
       "      <td>8000.0</td>\n",
       "      <td>Addition</td>\n",
       "      <td>2017</td>\n",
       "      <td>Dunbar-Southlands</td>\n",
       "      <td>Dwelling Uses</td>\n",
       "      <td>0.0</td>\n",
       "    </tr>\n",
       "    <tr>\n",
       "      <th>7</th>\n",
       "      <td>POINT (-13699381.851 6317741.000)</td>\n",
       "      <td>15000.0</td>\n",
       "      <td>Salvage</td>\n",
       "      <td>2019</td>\n",
       "      <td>Kensington-Cedar Cottage</td>\n",
       "      <td>Dwelling Uses</td>\n",
       "      <td>0.0</td>\n",
       "    </tr>\n",
       "  </tbody>\n",
       "</table>\n",
       "</div>"
      ],
      "text/plain": [
       "                            geometry  ProjectValue  WorkType  Year  \\\n",
       "1  POINT (-13700820.233 6312100.157)       27600.0  Addition  2017   \n",
       "2  POINT (-13711148.733 6313699.791)      300000.0  Addition  2017   \n",
       "3  POINT (-13700852.103 6315636.343)        8000.0  Addition  2017   \n",
       "5  POINT (-13712690.820 6311919.282)        8000.0  Addition  2017   \n",
       "7  POINT (-13699381.851 6317741.000)       15000.0   Salvage  2019   \n",
       "\n",
       "                       Area PropertyUseRevised  BusinessImprovementArea  \n",
       "1       Victoria-Fraserview      Dwelling Uses                      0.0  \n",
       "2                Kerrisdale      Dwelling Uses                      0.0  \n",
       "3  Kensington-Cedar Cottage        Retail Uses                      0.0  \n",
       "5         Dunbar-Southlands      Dwelling Uses                      0.0  \n",
       "7  Kensington-Cedar Cottage      Dwelling Uses                      0.0  "
      ]
     },
     "execution_count": 25,
     "metadata": {},
     "output_type": "execute_result"
    }
   ],
   "source": [
    "#Spatial join BIA data to the permits data. If a permit is located within a BIA it will be labeled as 1, otherwise it will be labeled as 0.\n",
    "\n",
    "permits_df = join_reducer(permits_df,bia_df)\n",
    "permits_df['BusinessImprovementArea'].fillna(0, inplace = True) #Where a permit is not located in a BIA assign it a value of zero\n",
    "permits_df.head()"
   ]
  },
  {
   "cell_type": "code",
   "execution_count": 26,
   "metadata": {},
   "outputs": [
    {
     "data": {
      "text/plain": [
       "0.0    14762\n",
       "1.0     4146\n",
       "Name: BusinessImprovementArea, dtype: int64"
      ]
     },
     "execution_count": 26,
     "metadata": {},
     "output_type": "execute_result"
    }
   ],
   "source": [
    "permits_df.BusinessImprovementArea.value_counts()"
   ]
  },
  {
   "cell_type": "markdown",
   "metadata": {},
   "source": [
    "### Flood Plain Areas"
   ]
  },
  {
   "cell_type": "code",
   "execution_count": 27,
   "metadata": {},
   "outputs": [
    {
     "data": {
      "text/html": [
       "<div>\n",
       "<style scoped>\n",
       "    .dataframe tbody tr th:only-of-type {\n",
       "        vertical-align: middle;\n",
       "    }\n",
       "\n",
       "    .dataframe tbody tr th {\n",
       "        vertical-align: top;\n",
       "    }\n",
       "\n",
       "    .dataframe thead th {\n",
       "        text-align: right;\n",
       "    }\n",
       "</style>\n",
       "<table border=\"1\" class=\"dataframe\">\n",
       "  <thead>\n",
       "    <tr style=\"text-align: right;\">\n",
       "      <th></th>\n",
       "      <th>geometry</th>\n",
       "      <th>FloodPlain</th>\n",
       "    </tr>\n",
       "  </thead>\n",
       "  <tbody>\n",
       "    <tr>\n",
       "      <th>0</th>\n",
       "      <td>POLYGON ((-13695468.072 6319454.037, -13695467...</td>\n",
       "      <td>1</td>\n",
       "    </tr>\n",
       "    <tr>\n",
       "      <th>1</th>\n",
       "      <td>POLYGON ((-13696427.537 6318776.760, -13696642...</td>\n",
       "      <td>1</td>\n",
       "    </tr>\n",
       "    <tr>\n",
       "      <th>2</th>\n",
       "      <td>POLYGON ((-13695858.168 6319254.615, -13695858...</td>\n",
       "      <td>1</td>\n",
       "    </tr>\n",
       "    <tr>\n",
       "      <th>3</th>\n",
       "      <td>POLYGON ((-13695468.072 6319454.037, -13695468...</td>\n",
       "      <td>1</td>\n",
       "    </tr>\n",
       "    <tr>\n",
       "      <th>4</th>\n",
       "      <td>MULTIPOLYGON (((-13711762.162 6321091.018, -13...</td>\n",
       "      <td>1</td>\n",
       "    </tr>\n",
       "  </tbody>\n",
       "</table>\n",
       "</div>"
      ],
      "text/plain": [
       "                                            geometry  FloodPlain\n",
       "0  POLYGON ((-13695468.072 6319454.037, -13695467...           1\n",
       "1  POLYGON ((-13696427.537 6318776.760, -13696642...           1\n",
       "2  POLYGON ((-13695858.168 6319254.615, -13695858...           1\n",
       "3  POLYGON ((-13695468.072 6319454.037, -13695468...           1\n",
       "4  MULTIPOLYGON (((-13711762.162 6321091.018, -13...           1"
      ]
     },
     "execution_count": 27,
     "metadata": {},
     "output_type": "execute_result"
    }
   ],
   "source": [
    "fp_df = geo_column_only('https://opendata.vancouver.ca/api/v2/catalog/datasets/designated-floodplain/exports/geojson?limit=-1&offset=0&timezone=UTC','FloodPlain')\n",
    "fp_df.head()"
   ]
  },
  {
   "cell_type": "code",
   "execution_count": 28,
   "metadata": {},
   "outputs": [
    {
     "data": {
      "text/html": [
       "<div>\n",
       "<style scoped>\n",
       "    .dataframe tbody tr th:only-of-type {\n",
       "        vertical-align: middle;\n",
       "    }\n",
       "\n",
       "    .dataframe tbody tr th {\n",
       "        vertical-align: top;\n",
       "    }\n",
       "\n",
       "    .dataframe thead th {\n",
       "        text-align: right;\n",
       "    }\n",
       "</style>\n",
       "<table border=\"1\" class=\"dataframe\">\n",
       "  <thead>\n",
       "    <tr style=\"text-align: right;\">\n",
       "      <th></th>\n",
       "      <th>geometry</th>\n",
       "      <th>ProjectValue</th>\n",
       "      <th>WorkType</th>\n",
       "      <th>Year</th>\n",
       "      <th>Area</th>\n",
       "      <th>PropertyUseRevised</th>\n",
       "      <th>BusinessImprovementArea</th>\n",
       "      <th>FloodPlain</th>\n",
       "    </tr>\n",
       "  </thead>\n",
       "  <tbody>\n",
       "    <tr>\n",
       "      <th>1</th>\n",
       "      <td>POINT (-13700820.233 6312100.157)</td>\n",
       "      <td>27600.0</td>\n",
       "      <td>Addition</td>\n",
       "      <td>2017</td>\n",
       "      <td>Victoria-Fraserview</td>\n",
       "      <td>Dwelling Uses</td>\n",
       "      <td>0.0</td>\n",
       "      <td>0.0</td>\n",
       "    </tr>\n",
       "    <tr>\n",
       "      <th>2</th>\n",
       "      <td>POINT (-13711148.733 6313699.791)</td>\n",
       "      <td>300000.0</td>\n",
       "      <td>Addition</td>\n",
       "      <td>2017</td>\n",
       "      <td>Kerrisdale</td>\n",
       "      <td>Dwelling Uses</td>\n",
       "      <td>0.0</td>\n",
       "      <td>0.0</td>\n",
       "    </tr>\n",
       "    <tr>\n",
       "      <th>3</th>\n",
       "      <td>POINT (-13700852.103 6315636.343)</td>\n",
       "      <td>8000.0</td>\n",
       "      <td>Addition</td>\n",
       "      <td>2017</td>\n",
       "      <td>Kensington-Cedar Cottage</td>\n",
       "      <td>Retail Uses</td>\n",
       "      <td>0.0</td>\n",
       "      <td>0.0</td>\n",
       "    </tr>\n",
       "    <tr>\n",
       "      <th>5</th>\n",
       "      <td>POINT (-13712690.820 6311919.282)</td>\n",
       "      <td>8000.0</td>\n",
       "      <td>Addition</td>\n",
       "      <td>2017</td>\n",
       "      <td>Dunbar-Southlands</td>\n",
       "      <td>Dwelling Uses</td>\n",
       "      <td>0.0</td>\n",
       "      <td>1.0</td>\n",
       "    </tr>\n",
       "    <tr>\n",
       "      <th>7</th>\n",
       "      <td>POINT (-13699381.851 6317741.000)</td>\n",
       "      <td>15000.0</td>\n",
       "      <td>Salvage</td>\n",
       "      <td>2019</td>\n",
       "      <td>Kensington-Cedar Cottage</td>\n",
       "      <td>Dwelling Uses</td>\n",
       "      <td>0.0</td>\n",
       "      <td>0.0</td>\n",
       "    </tr>\n",
       "  </tbody>\n",
       "</table>\n",
       "</div>"
      ],
      "text/plain": [
       "                            geometry  ProjectValue  WorkType  Year  \\\n",
       "1  POINT (-13700820.233 6312100.157)       27600.0  Addition  2017   \n",
       "2  POINT (-13711148.733 6313699.791)      300000.0  Addition  2017   \n",
       "3  POINT (-13700852.103 6315636.343)        8000.0  Addition  2017   \n",
       "5  POINT (-13712690.820 6311919.282)        8000.0  Addition  2017   \n",
       "7  POINT (-13699381.851 6317741.000)       15000.0   Salvage  2019   \n",
       "\n",
       "                       Area PropertyUseRevised  BusinessImprovementArea  \\\n",
       "1       Victoria-Fraserview      Dwelling Uses                      0.0   \n",
       "2                Kerrisdale      Dwelling Uses                      0.0   \n",
       "3  Kensington-Cedar Cottage        Retail Uses                      0.0   \n",
       "5         Dunbar-Southlands      Dwelling Uses                      0.0   \n",
       "7  Kensington-Cedar Cottage      Dwelling Uses                      0.0   \n",
       "\n",
       "   FloodPlain  \n",
       "1         0.0  \n",
       "2         0.0  \n",
       "3         0.0  \n",
       "5         1.0  \n",
       "7         0.0  "
      ]
     },
     "execution_count": 28,
     "metadata": {},
     "output_type": "execute_result"
    }
   ],
   "source": [
    "permits_df = join_reducer(permits_df,fp_df)\n",
    "permits_df['FloodPlain'].fillna(0, inplace = True) #Where a permit is not located in a flood plain assign it a value of zero\n",
    "permits_df.head()"
   ]
  },
  {
   "cell_type": "code",
   "execution_count": 29,
   "metadata": {},
   "outputs": [
    {
     "data": {
      "text/plain": [
       "0.0    18457\n",
       "1.0      451\n",
       "Name: FloodPlain, dtype: int64"
      ]
     },
     "execution_count": 29,
     "metadata": {},
     "output_type": "execute_result"
    }
   ],
   "source": [
    "permits_df.FloodPlain.value_counts()"
   ]
  },
  {
   "cell_type": "markdown",
   "metadata": {},
   "source": [
    "### Transit Stations"
   ]
  },
  {
   "cell_type": "code",
   "execution_count": 30,
   "metadata": {},
   "outputs": [
    {
     "data": {
      "text/html": [
       "<div>\n",
       "<style scoped>\n",
       "    .dataframe tbody tr th:only-of-type {\n",
       "        vertical-align: middle;\n",
       "    }\n",
       "\n",
       "    .dataframe tbody tr th {\n",
       "        vertical-align: top;\n",
       "    }\n",
       "\n",
       "    .dataframe thead th {\n",
       "        text-align: right;\n",
       "    }\n",
       "</style>\n",
       "<table border=\"1\" class=\"dataframe\">\n",
       "  <thead>\n",
       "    <tr style=\"text-align: right;\">\n",
       "      <th></th>\n",
       "      <th>geometry</th>\n",
       "      <th>station</th>\n",
       "      <th>geo_local_area</th>\n",
       "    </tr>\n",
       "  </thead>\n",
       "  <tbody>\n",
       "    <tr>\n",
       "      <th>0</th>\n",
       "      <td>POINT (-13705329.627 6310492.370)</td>\n",
       "      <td>MARINE DRIVE</td>\n",
       "      <td>Marpole</td>\n",
       "    </tr>\n",
       "    <tr>\n",
       "      <th>1</th>\n",
       "      <td>POINT (-13701087.405 6320080.163)</td>\n",
       "      <td>VCC - CLARK</td>\n",
       "      <td>Strathcona</td>\n",
       "    </tr>\n",
       "    <tr>\n",
       "      <th>2</th>\n",
       "      <td>POINT (-13698516.956 6317093.472)</td>\n",
       "      <td>NANAIMO</td>\n",
       "      <td>Renfrew-Collingwood</td>\n",
       "    </tr>\n",
       "    <tr>\n",
       "      <th>3</th>\n",
       "      <td>POINT (-13703496.877 6321341.731)</td>\n",
       "      <td>MAIN ST. - SCIENCE WORLD</td>\n",
       "      <td>Downtown</td>\n",
       "    </tr>\n",
       "    <tr>\n",
       "      <th>4</th>\n",
       "      <td>POINT (-13704494.065 6322410.505)</td>\n",
       "      <td>STADIUM - CHINATOWN</td>\n",
       "      <td>Downtown</td>\n",
       "    </tr>\n",
       "  </tbody>\n",
       "</table>\n",
       "</div>"
      ],
      "text/plain": [
       "                            geometry                   station  \\\n",
       "0  POINT (-13705329.627 6310492.370)              MARINE DRIVE   \n",
       "1  POINT (-13701087.405 6320080.163)               VCC - CLARK   \n",
       "2  POINT (-13698516.956 6317093.472)                   NANAIMO   \n",
       "3  POINT (-13703496.877 6321341.731)  MAIN ST. - SCIENCE WORLD   \n",
       "4  POINT (-13704494.065 6322410.505)       STADIUM - CHINATOWN   \n",
       "\n",
       "        geo_local_area  \n",
       "0              Marpole  \n",
       "1           Strathcona  \n",
       "2  Renfrew-Collingwood  \n",
       "3             Downtown  \n",
       "4             Downtown  "
      ]
     },
     "execution_count": 30,
     "metadata": {},
     "output_type": "execute_result"
    }
   ],
   "source": [
    "transit_url = 'https://opendata.vancouver.ca/api/v2/catalog/datasets/rapid-transit-stations/exports/geojson?limit=-1&offset=0&timezone=UTC'\n",
    "transit_data = requests.get(transit_url)\n",
    "transit_df = gpd.GeoDataFrame().from_features(transit_data.json())\n",
    "transit_df = transit_df.set_crs('EPSG:4326').to_crs('EPSG:3857')\n",
    "transit_df.head()"
   ]
  },
  {
   "cell_type": "code",
   "execution_count": 31,
   "metadata": {},
   "outputs": [
    {
     "data": {
      "text/html": [
       "<div>\n",
       "<style scoped>\n",
       "    .dataframe tbody tr th:only-of-type {\n",
       "        vertical-align: middle;\n",
       "    }\n",
       "\n",
       "    .dataframe tbody tr th {\n",
       "        vertical-align: top;\n",
       "    }\n",
       "\n",
       "    .dataframe thead th {\n",
       "        text-align: right;\n",
       "    }\n",
       "</style>\n",
       "<table border=\"1\" class=\"dataframe\">\n",
       "  <thead>\n",
       "    <tr style=\"text-align: right;\">\n",
       "      <th></th>\n",
       "      <th>geometry</th>\n",
       "      <th>ProjectValue</th>\n",
       "      <th>WorkType</th>\n",
       "      <th>Area</th>\n",
       "      <th>PropertyUseRevised</th>\n",
       "      <th>BusinessImprovementArea</th>\n",
       "      <th>FloodPlain</th>\n",
       "      <th>DistanceToNearestTransitStation</th>\n",
       "    </tr>\n",
       "  </thead>\n",
       "  <tbody>\n",
       "    <tr>\n",
       "      <th>1</th>\n",
       "      <td>POINT (-13700820.233 6312100.157)</td>\n",
       "      <td>27600.0</td>\n",
       "      <td>Addition</td>\n",
       "      <td>Victoria-Fraserview</td>\n",
       "      <td>Dwelling Uses</td>\n",
       "      <td>0.0</td>\n",
       "      <td>0.0</td>\n",
       "      <td>4602.756571</td>\n",
       "    </tr>\n",
       "    <tr>\n",
       "      <th>2</th>\n",
       "      <td>POINT (-13711148.733 6313699.791)</td>\n",
       "      <td>300000.0</td>\n",
       "      <td>Addition</td>\n",
       "      <td>Kerrisdale</td>\n",
       "      <td>Dwelling Uses</td>\n",
       "      <td>0.0</td>\n",
       "      <td>0.0</td>\n",
       "      <td>5911.789270</td>\n",
       "    </tr>\n",
       "    <tr>\n",
       "      <th>3</th>\n",
       "      <td>POINT (-13700852.103 6315636.343)</td>\n",
       "      <td>8000.0</td>\n",
       "      <td>Addition</td>\n",
       "      <td>Kensington-Cedar Cottage</td>\n",
       "      <td>Retail Uses</td>\n",
       "      <td>0.0</td>\n",
       "      <td>0.0</td>\n",
       "      <td>2752.478306</td>\n",
       "    </tr>\n",
       "    <tr>\n",
       "      <th>5</th>\n",
       "      <td>POINT (-13712690.820 6311919.282)</td>\n",
       "      <td>8000.0</td>\n",
       "      <td>Addition</td>\n",
       "      <td>Dunbar-Southlands</td>\n",
       "      <td>Dwelling Uses</td>\n",
       "      <td>0.0</td>\n",
       "      <td>1.0</td>\n",
       "      <td>7498.215967</td>\n",
       "    </tr>\n",
       "    <tr>\n",
       "      <th>7</th>\n",
       "      <td>POINT (-13699381.851 6317741.000)</td>\n",
       "      <td>15000.0</td>\n",
       "      <td>Salvage</td>\n",
       "      <td>Kensington-Cedar Cottage</td>\n",
       "      <td>Dwelling Uses</td>\n",
       "      <td>0.0</td>\n",
       "      <td>0.0</td>\n",
       "      <td>1080.433313</td>\n",
       "    </tr>\n",
       "  </tbody>\n",
       "</table>\n",
       "</div>"
      ],
      "text/plain": [
       "                            geometry  ProjectValue  WorkType  \\\n",
       "1  POINT (-13700820.233 6312100.157)       27600.0  Addition   \n",
       "2  POINT (-13711148.733 6313699.791)      300000.0  Addition   \n",
       "3  POINT (-13700852.103 6315636.343)        8000.0  Addition   \n",
       "5  POINT (-13712690.820 6311919.282)        8000.0  Addition   \n",
       "7  POINT (-13699381.851 6317741.000)       15000.0   Salvage   \n",
       "\n",
       "                       Area PropertyUseRevised  BusinessImprovementArea  \\\n",
       "1       Victoria-Fraserview      Dwelling Uses                      0.0   \n",
       "2                Kerrisdale      Dwelling Uses                      0.0   \n",
       "3  Kensington-Cedar Cottage        Retail Uses                      0.0   \n",
       "5         Dunbar-Southlands      Dwelling Uses                      0.0   \n",
       "7  Kensington-Cedar Cottage      Dwelling Uses                      0.0   \n",
       "\n",
       "   FloodPlain  DistanceToNearestTransitStation  \n",
       "1         0.0                      4602.756571  \n",
       "2         0.0                      5911.789270  \n",
       "3         0.0                      2752.478306  \n",
       "5         1.0                      7498.215967  \n",
       "7         0.0                      1080.433313  "
      ]
     },
     "execution_count": 31,
     "metadata": {},
     "output_type": "execute_result"
    }
   ],
   "source": [
    "#Perform a nearest spatial join to calculate the distance between each permit and the nearest transit station in meters\n",
    "permits_df = permits_df.sjoin_nearest(transit_df, how = 'left', distance_col='DistanceToNearestTransitStation')\n",
    "\n",
    "#Remove unnecessary columns after calculating distance to nearest transit station via spatial join\n",
    "cols_to_keep_final = ['geometry','ProjectValue','WorkType','Area','PropertyUseRevised','BusinessImprovementArea','FloodPlain','DistanceToNearestTransitStation']\n",
    "permits_df = permits_df[cols_to_keep_final]\n",
    "\n",
    "permits_df.head()"
   ]
  },
  {
   "cell_type": "markdown",
   "metadata": {},
   "source": [
    "## Exploratory Data Analysis"
   ]
  },
  {
   "cell_type": "markdown",
   "metadata": {},
   "source": [
    "### Analyzing Categorical Features"
   ]
  },
  {
   "cell_type": "code",
   "execution_count": 32,
   "metadata": {},
   "outputs": [
    {
     "name": "stdout",
     "output_type": "stream",
     "text": [
      "------\n",
      "Addition              9424\n",
      "New Building          4346\n",
      "Salvage               2562\n",
      "Demolition            2366\n",
      "Temporary Building     184\n",
      "Outdoor Use             26\n",
      "Name: WorkType, dtype: int64\n",
      "------\n",
      "Downtown                    3030\n",
      "Kensington-Cedar Cottage    1380\n",
      "Renfrew-Collingwood         1224\n",
      "Sunset                      1110\n",
      "Hastings-Sunrise            1107\n",
      "Kitsilano                    937\n",
      "Fairview                     920\n",
      "Dunbar-Southlands            894\n",
      "West End                     884\n",
      "Victoria-Fraserview          867\n",
      "Riley Park                   861\n",
      "Mount Pleasant               773\n",
      "Marpole                      691\n",
      "Killarney                    641\n",
      "Grandview-Woodland           591\n",
      "West Point Grey              555\n",
      "Kerrisdale                   507\n",
      "Arbutus-Ridge                475\n",
      "Oakridge                     426\n",
      "Shaughnessy                  377\n",
      "Strathcona                   373\n",
      "South Cambie                 285\n",
      "Name: Area, dtype: int64\n",
      "------\n",
      "Dwelling Uses                      12917\n",
      "Office Uses                         2665\n",
      "Retail Uses                         1023\n",
      "Service Uses                         773\n",
      "Mixed Uses                           493\n",
      "Institutional Uses                   365\n",
      "Cultural/Recreational Uses           312\n",
      "Manufacturing Uses                   140\n",
      "Wholesale Uses                        74\n",
      "Transportation and Storage Uses       54\n",
      "Parking Uses                          47\n",
      "Utility and Communication Uses        34\n",
      "Live-Work Uses                         9\n",
      "Agricultural Uses                      1\n",
      "Deposition or Extraction Uses          1\n",
      "Name: PropertyUseRevised, dtype: int64\n",
      "------\n",
      "0.0    14762\n",
      "1.0     4146\n",
      "Name: BusinessImprovementArea, dtype: int64\n",
      "------\n",
      "0.0    18457\n",
      "1.0      451\n",
      "Name: FloodPlain, dtype: int64\n"
     ]
    }
   ],
   "source": [
    "def analyze_cat_cols():\n",
    "\n",
    "    cat_cols = ['WorkType','Area','PropertyUseRevised','BusinessImprovementArea','FloodPlain']\n",
    "\n",
    "    for col in cat_cols:\n",
    "        print('------')\n",
    "        print(permits_df[col].value_counts())\n",
    "        \n",
    "analyze_cat_cols()"
   ]
  },
  {
   "cell_type": "markdown",
   "metadata": {},
   "source": [
    "Remove salvage, temporary building and outdoor uses from work type. Salvage should be removed as it is not clear what type of work this permit represents. Outdoor use should be removed due to low frequencies and temporary building should be removed because it does not reflect a structure that is permanent."
   ]
  },
  {
   "cell_type": "code",
   "execution_count": 33,
   "metadata": {},
   "outputs": [
    {
     "data": {
      "text/plain": [
       "Addition        9424\n",
       "New Building    4346\n",
       "Demolition      2366\n",
       "Name: WorkType, dtype: int64"
      ]
     },
     "execution_count": 33,
     "metadata": {},
     "output_type": "execute_result"
    }
   ],
   "source": [
    "wt_to_remove = ['Salvage','Temporary Building','Outdoor Use'] #list of values to remove\n",
    "\n",
    "permits_df = permits_df[~permits_df.WorkType.isin(wt_to_remove)] #Keep values that are not in the removal list\n",
    "\n",
    "permits_df.WorkType.value_counts()"
   ]
  },
  {
   "cell_type": "markdown",
   "metadata": {},
   "source": [
    "A lot of the revised property uses are low frequency. For this purpose, I will only keep the permits that have value counts greater than 100 as to avoid the curse of dimensionality."
   ]
  },
  {
   "cell_type": "code",
   "execution_count": 34,
   "metadata": {},
   "outputs": [
    {
     "data": {
      "text/plain": [
       "Dwelling Uses                 10539\n",
       "Office Uses                    2639\n",
       "Retail Uses                     940\n",
       "Service Uses                    736\n",
       "Mixed Uses                      461\n",
       "Institutional Uses              338\n",
       "Cultural/Recreational Uses      171\n",
       "Manufacturing Uses              125\n",
       "Name: PropertyUseRevised, dtype: int64"
      ]
     },
     "execution_count": 34,
     "metadata": {},
     "output_type": "execute_result"
    }
   ],
   "source": [
    "pu_to_remove = ['Wholesale Uses','Transportation and Storage Uses','Parking Uses','Utility and Communication Uses','Live-Work Uses',\n",
    "                'Deposition or Extraction Uses','Agricultural Uses']\n",
    "\n",
    "permits_df = permits_df[~permits_df.PropertyUseRevised.isin(pu_to_remove)] #Keep values that are not in the removal list\n",
    "\n",
    "permits_df.PropertyUseRevised.value_counts()"
   ]
  },
  {
   "cell_type": "code",
   "execution_count": 35,
   "metadata": {},
   "outputs": [
    {
     "name": "stdout",
     "output_type": "stream",
     "text": [
      "------\n",
      "Addition        9269\n",
      "New Building    4330\n",
      "Demolition      2350\n",
      "Name: WorkType, dtype: int64\n",
      "------\n",
      "Downtown                    2894\n",
      "Kensington-Cedar Cottage    1114\n",
      "Renfrew-Collingwood          957\n",
      "Sunset                       885\n",
      "Fairview                     882\n",
      "Hastings-Sunrise             872\n",
      "West End                     852\n",
      "Kitsilano                    829\n",
      "Victoria-Fraserview          701\n",
      "Riley Park                   683\n",
      "Mount Pleasant               667\n",
      "Dunbar-Southlands            660\n",
      "Killarney                    550\n",
      "Marpole                      539\n",
      "Grandview-Woodland           494\n",
      "West Point Grey              427\n",
      "Kerrisdale                   394\n",
      "Arbutus-Ridge                373\n",
      "Oakridge                     345\n",
      "Strathcona                   325\n",
      "Shaughnessy                  283\n",
      "South Cambie                 223\n",
      "Name: Area, dtype: int64\n",
      "------\n",
      "Dwelling Uses                 10539\n",
      "Office Uses                    2639\n",
      "Retail Uses                     940\n",
      "Service Uses                    736\n",
      "Mixed Uses                      461\n",
      "Institutional Uses              338\n",
      "Cultural/Recreational Uses      171\n",
      "Manufacturing Uses              125\n",
      "Name: PropertyUseRevised, dtype: int64\n",
      "------\n",
      "0.0    12026\n",
      "1.0     3923\n",
      "Name: BusinessImprovementArea, dtype: int64\n",
      "------\n",
      "0.0    15589\n",
      "1.0      360\n",
      "Name: FloodPlain, dtype: int64\n"
     ]
    }
   ],
   "source": [
    "analyze_cat_cols()"
   ]
  },
  {
   "cell_type": "markdown",
   "metadata": {},
   "source": [
    "### Analyzing Project Value - The Dependant Variable"
   ]
  },
  {
   "cell_type": "code",
   "execution_count": 36,
   "metadata": {},
   "outputs": [],
   "source": [
    "#A function for assessing the distribution of a value and checking if it matches the assumption of normality\n",
    "\n",
    "def check_distribution(df, col):\n",
    "    \n",
    "    #Distribution plot with normal curve\n",
    "    fig = plt.subplots(figsize=[18,10])\n",
    "    sns.distplot(df[col], fit=norm)\n",
    "    \n",
    "    #Probability plot\n",
    "    fig = plt.figure(figsize=[18,10])\n",
    "    res = stats.probplot(df[col], plot=plt)\n",
    "    \n",
    "    #Box plot\n",
    "    fig = plt.figure(figsize=[18,10])\n",
    "    sns.boxplot(y= col, data=df)\n",
    "    \n",
    "    #Shapiro Wilk test for normality\n",
    "    shapiro_test = stats.shapiro(df[col])\n",
    "\n",
    "    if shapiro_test.pvalue <= 0.05:\n",
    "        print(\"Null hypothesis of normality is rejected.\")\n",
    "    else:\n",
    "        print(\"Null hypothesis of normality is accepted.\")"
   ]
  },
  {
   "cell_type": "code",
   "execution_count": 37,
   "metadata": {},
   "outputs": [
    {
     "name": "stdout",
     "output_type": "stream",
     "text": [
      "Null hypothesis of normality is rejected.\n"
     ]
    },
    {
     "data": {
      "image/png": "[encoded data removed]",
      "text/plain": [
       "<Figure size 1296x720 with 1 Axes>"
      ]
     },
     "metadata": {
      "needs_background": "light"
     },
     "output_type": "display_data"
    },
    {
     "data": {
      "image/png": "[encoded data removed]",
      "text/plain": [
       "<Figure size 1296x720 with 1 Axes>"
      ]
     },
     "metadata": {
      "needs_background": "light"
     },
     "output_type": "display_data"
    },
    {
     "data": {
      "image/png": "[encoded data removed]",
      "text/plain": [
       "<Figure size 1296x720 with 1 Axes>"
      ]
     },
     "metadata": {
      "needs_background": "light"
     },
     "output_type": "display_data"
    }
   ],
   "source": [
    "check_distribution(permits_df,'ProjectValue')"
   ]
  },
  {
   "cell_type": "markdown",
   "metadata": {},
   "source": [
    "There are a large number of permits that have a value of zero. These will be considered errors, and thus removed from the analysis."
   ]
  },
  {
   "cell_type": "code",
   "execution_count": 38,
   "metadata": {},
   "outputs": [
    {
     "data": {
      "text/plain": [
       "482"
      ]
     },
     "execution_count": 38,
     "metadata": {},
     "output_type": "execute_result"
    }
   ],
   "source": [
    "#Count how many zero values there are in project value\n",
    "\n",
    "permits_df[permits_df.ProjectValue == 0].shape[0]"
   ]
  },
  {
   "cell_type": "code",
   "execution_count": 39,
   "metadata": {},
   "outputs": [
    {
     "data": {
      "text/plain": [
       "0"
      ]
     },
     "execution_count": 39,
     "metadata": {},
     "output_type": "execute_result"
    }
   ],
   "source": [
    "#Remove permits with 0 project value\n",
    "\n",
    "permits_df = permits_df[permits_df.ProjectValue != 0]\n",
    "permits_df[permits_df.ProjectValue == 0].shape[0]"
   ]
  },
  {
   "cell_type": "code",
   "execution_count": 40,
   "metadata": {},
   "outputs": [
    {
     "name": "stdout",
     "output_type": "stream",
     "text": [
      "Null hypothesis of normality is rejected.\n"
     ]
    },
    {
     "data": {
      "image/png": "[encoded data removed]",
      "text/plain": [
       "<Figure size 1296x720 with 1 Axes>"
      ]
     },
     "metadata": {
      "needs_background": "light"
     },
     "output_type": "display_data"
    },
    {
     "data": {
      "image/png": "[encoded data removed]",
      "text/plain": [
       "<Figure size 1296x720 with 1 Axes>"
      ]
     },
     "metadata": {
      "needs_background": "light"
     },
     "output_type": "display_data"
    },
    {
     "data": {
      "image/png": "[encoded data removed]",
      "text/plain": [
       "<Figure size 1296x720 with 1 Axes>"
      ]
     },
     "metadata": {
      "needs_background": "light"
     },
     "output_type": "display_data"
    }
   ],
   "source": [
    "#Recheck the distribution after removing the permits with zero project value\n",
    "check_distribution(permits_df,'ProjectValue')"
   ]
  },
  {
   "cell_type": "code",
   "execution_count": 41,
   "metadata": {},
   "outputs": [
    {
     "data": {
      "text/plain": [
       "1.0"
      ]
     },
     "execution_count": 41,
     "metadata": {},
     "output_type": "execute_result"
    }
   ],
   "source": [
    "permits_df.ProjectValue.min()"
   ]
  },
  {
   "cell_type": "code",
   "execution_count": 42,
   "metadata": {},
   "outputs": [
    {
     "name": "stdout",
     "output_type": "stream",
     "text": [
      "The 10th percentile value is 10000.0\n",
      "The 15th percentile value is 15000.0\n",
      "The 20th percentile value is 15000.0\n",
      "The 25th percentile value is 15000.0\n",
      "The 50th percentile value is 85000.0\n",
      "The 75th percentile value is 262115.0\n",
      "The 80th percentile value is 493940.0000000047\n",
      "The 80th percentile value is 697432.5\n",
      "The 90th percentile value is 843249.9999999995\n",
      "The 95th percentile value is 1169849.9999999995\n",
      "The 99th percentile value is 9006800.000000004\n"
     ]
    }
   ],
   "source": [
    "print(f\"The 10th percentile value is {permits_df.ProjectValue.quantile(0.10)}\")\n",
    "print(f\"The 15th percentile value is {permits_df.ProjectValue.quantile(0.15)}\")\n",
    "print(f\"The 20th percentile value is {permits_df.ProjectValue.quantile(0.20)}\")\n",
    "print(f\"The 25th percentile value is {permits_df.ProjectValue.quantile(0.25)}\")\n",
    "print(f\"The 50th percentile value is {permits_df.ProjectValue.quantile(0.5)}\")\n",
    "print(f\"The 75th percentile value is {permits_df.ProjectValue.quantile(0.75)}\")\n",
    "print(f\"The 80th percentile value is {permits_df.ProjectValue.quantile(0.80)}\")\n",
    "print(f\"The 80th percentile value is {permits_df.ProjectValue.quantile(0.85)}\")\n",
    "print(f\"The 90th percentile value is {permits_df.ProjectValue.quantile(0.90)}\")\n",
    "print(f\"The 95th percentile value is {permits_df.ProjectValue.quantile(0.95)}\")\n",
    "print(f\"The 99th percentile value is {permits_df.ProjectValue.quantile(0.99)}\")"
   ]
  },
  {
   "cell_type": "markdown",
   "metadata": {},
   "source": [
    "From a practical and logical perspective, it makes sense to remove values greater than the 25th percentile. The dataset is heavily right skewed, with many data points showing a low permit value. Practically, it doesn't seem correct to have permits valued this low as it does not fit with the overall goal of the project."
   ]
  },
  {
   "cell_type": "code",
   "execution_count": 43,
   "metadata": {},
   "outputs": [],
   "source": [
    "permits_df = permits_df[(permits_df.ProjectValue > permits_df.ProjectValue.quantile(0.25))]"
   ]
  },
  {
   "cell_type": "code",
   "execution_count": 44,
   "metadata": {},
   "outputs": [
    {
     "name": "stdout",
     "output_type": "stream",
     "text": [
      "Null hypothesis of normality is rejected.\n"
     ]
    },
    {
     "data": {
      "image/png": "[encoded data removed]",
      "text/plain": [
       "<Figure size 1296x720 with 1 Axes>"
      ]
     },
     "metadata": {
      "needs_background": "light"
     },
     "output_type": "display_data"
    },
    {
     "data": {
      "image/png": "[encoded data removed]",
      "text/plain": [
       "<Figure size 1296x720 with 1 Axes>"
      ]
     },
     "metadata": {
      "needs_background": "light"
     },
     "output_type": "display_data"
    },
    {
     "data": {
      "image/png": "[encoded data removed]",
      "text/plain": [
       "<Figure size 1296x720 with 1 Axes>"
      ]
     },
     "metadata": {
      "needs_background": "light"
     },
     "output_type": "display_data"
    }
   ],
   "source": [
    "check_distribution(permits_df,'ProjectValue')"
   ]
  },
  {
   "cell_type": "markdown",
   "metadata": {},
   "source": [
    "## Removing Outliers Using IQR Method"
   ]
  },
  {
   "cell_type": "markdown",
   "metadata": {},
   "source": [
    "There are still a very large number of outliers within the data set. Because of this I will remove values using the IQR method."
   ]
  },
  {
   "cell_type": "code",
   "execution_count": 45,
   "metadata": {},
   "outputs": [],
   "source": [
    "Q1 = permits_df.ProjectValue.quantile(0.25)\n",
    "Q3 = permits_df.ProjectValue.quantile(0.75)\n",
    "IQR = Q3 - Q1\n",
    "\n",
    "lower_limit = Q1 - 1.5*IQR\n",
    "upper_limit = Q3 + 1.5*IQR\n",
    "\n",
    "permits_df = permits_df[(permits_df.ProjectValue > lower_limit)&(permits_df.ProjectValue < upper_limit)]"
   ]
  },
  {
   "cell_type": "code",
   "execution_count": 46,
   "metadata": {},
   "outputs": [
    {
     "name": "stdout",
     "output_type": "stream",
     "text": [
      "Null hypothesis of normality is rejected.\n"
     ]
    },
    {
     "data": {
      "image/png": "[encoded data removed]",
      "text/plain": [
       "<Figure size 1296x720 with 1 Axes>"
      ]
     },
     "metadata": {
      "needs_background": "light"
     },
     "output_type": "display_data"
    },
    {
     "data": {
      "image/png": "[encoded data removed]",
      "text/plain": [
       "<Figure size 1296x720 with 1 Axes>"
      ]
     },
     "metadata": {
      "needs_background": "light"
     },
     "output_type": "display_data"
    },
    {
     "data": {
      "image/png": "[encoded data removed]",
      "text/plain": [
       "<Figure size 1296x720 with 1 Axes>"
      ]
     },
     "metadata": {
      "needs_background": "light"
     },
     "output_type": "display_data"
    }
   ],
   "source": [
    "check_distribution(permits_df,'ProjectValue')"
   ]
  },
  {
   "cell_type": "code",
   "execution_count": 47,
   "metadata": {},
   "outputs": [
    {
     "name": "stdout",
     "output_type": "stream",
     "text": [
      "------\n",
      "Addition        6764\n",
      "New Building    3774\n",
      "Demolition       315\n",
      "Name: WorkType, dtype: int64\n",
      "------\n",
      "Downtown                    2242\n",
      "Kensington-Cedar Cottage     720\n",
      "West End                     664\n",
      "Fairview                     653\n",
      "Sunset                       599\n",
      "Renfrew-Collingwood          593\n",
      "Hastings-Sunrise             589\n",
      "Kitsilano                    578\n",
      "Victoria-Fraserview          487\n",
      "Riley Park                   443\n",
      "Mount Pleasant               426\n",
      "Dunbar-Southlands            398\n",
      "Killarney                    335\n",
      "Grandview-Woodland           326\n",
      "Marpole                      303\n",
      "West Point Grey              277\n",
      "Arbutus-Ridge                254\n",
      "Strathcona                   231\n",
      "Kerrisdale                   224\n",
      "Oakridge                     224\n",
      "Shaughnessy                  151\n",
      "South Cambie                 136\n",
      "Name: Area, dtype: int64\n",
      "------\n",
      "Dwelling Uses                 6821\n",
      "Office Uses                   2082\n",
      "Retail Uses                    707\n",
      "Service Uses                   501\n",
      "Mixed Uses                     261\n",
      "Institutional Uses             257\n",
      "Cultural/Recreational Uses     124\n",
      "Manufacturing Uses             100\n",
      "Name: PropertyUseRevised, dtype: int64\n",
      "------\n",
      "0.0    7910\n",
      "1.0    2943\n",
      "Name: BusinessImprovementArea, dtype: int64\n",
      "------\n",
      "0.0    10579\n",
      "1.0      274\n",
      "Name: FloodPlain, dtype: int64\n"
     ]
    }
   ],
   "source": [
    "#Check how many categorical values remain after outlier removal\n",
    "\n",
    "analyze_cat_cols()"
   ]
  },
  {
   "cell_type": "markdown",
   "metadata": {},
   "source": [
    "Project value is still not normally distributed and should be transformed. At this time I will assess the other numerical feature in the data set which is distance to nearest transit station."
   ]
  },
  {
   "cell_type": "code",
   "execution_count": 48,
   "metadata": {},
   "outputs": [
    {
     "data": {
      "text/plain": [
       "DistanceToNearestTransitStation    1.394704\n",
       "ProjectValue                       1.379051\n",
       "dtype: float64"
      ]
     },
     "execution_count": 48,
     "metadata": {},
     "output_type": "execute_result"
    }
   ],
   "source": [
    "skew_features = permits_df[['ProjectValue','DistanceToNearestTransitStation']].apply(lambda x: skew(x)).sort_values(ascending=False)\n",
    "skew_features"
   ]
  },
  {
   "cell_type": "code",
   "execution_count": 49,
   "metadata": {},
   "outputs": [],
   "source": [
    "#Log transform the numerical features given they are highly skewed\n",
    "\n",
    "cols_to_log = ['ProjectValue','DistanceToNearestTransitStation']\n",
    "\n",
    "for i in cols_to_log:\n",
    "    \n",
    "    permits_df[i] = np.log(permits_df[i])"
   ]
  },
  {
   "cell_type": "code",
   "execution_count": 50,
   "metadata": {},
   "outputs": [
    {
     "name": "stdout",
     "output_type": "stream",
     "text": [
      "Null hypothesis of normality is rejected.\n"
     ]
    },
    {
     "data": {
      "image/png": "[encoded data removed]",
      "text/plain": [
       "<Figure size 1296x720 with 1 Axes>"
      ]
     },
     "metadata": {
      "needs_background": "light"
     },
     "output_type": "display_data"
    },
    {
     "data": {
      "image/png": "[encoded data removed]",
      "text/plain": [
       "<Figure size 1296x720 with 1 Axes>"
      ]
     },
     "metadata": {
      "needs_background": "light"
     },
     "output_type": "display_data"
    },
    {
     "data": {
      "image/png": "[encoded data removed]",
      "text/plain": [
       "<Figure size 1296x720 with 1 Axes>"
      ]
     },
     "metadata": {
      "needs_background": "light"
     },
     "output_type": "display_data"
    }
   ],
   "source": [
    "check_distribution(permits_df,'ProjectValue')"
   ]
  },
  {
   "cell_type": "code",
   "execution_count": 51,
   "metadata": {},
   "outputs": [
    {
     "data": {
      "image/png": "[encoded data removed]",
      "text/plain": [
       "<Figure size 1440x720 with 1 Axes>"
      ]
     },
     "metadata": {
      "needs_background": "light"
     },
     "output_type": "display_data"
    },
    {
     "data": {
      "image/png": "[encoded data removed]",
      "text/plain": [
       "<Figure size 1440x720 with 1 Axes>"
      ]
     },
     "metadata": {
      "needs_background": "light"
     },
     "output_type": "display_data"
    },
    {
     "data": {
      "image/png": "[encoded data removed]",
      "text/plain": [
       "<Figure size 1440x720 with 1 Axes>"
      ]
     },
     "metadata": {
      "needs_background": "light"
     },
     "output_type": "display_data"
    },
    {
     "data": {
      "image/png": "[encoded data removed]",
      "text/plain": [
       "<Figure size 1440x720 with 1 Axes>"
      ]
     },
     "metadata": {
      "needs_background": "light"
     },
     "output_type": "display_data"
    },
    {
     "data": {
      "image/png": "[encoded data removed]",
      "text/plain": [
       "<Figure size 1440x720 with 1 Axes>"
      ]
     },
     "metadata": {
      "needs_background": "light"
     },
     "output_type": "display_data"
    }
   ],
   "source": [
    "#Box plot for categorical features\n",
    "\n",
    "cat_cols = ['WorkType','Area','PropertyUseRevised','BusinessImprovementArea','FloodPlain']\n",
    "\n",
    "for col in cat_cols:\n",
    "    plt.figure(figsize=(20,10))\n",
    "    sns.boxplot(x= col, y= 'ProjectValue', data=permits_df)\n",
    "    plt.xlabel(f\"{col}\", fontsize= 15, labelpad =12)\n",
    "    plt.ylabel(\"Project Value\", fontsize= 15, labelpad =12)\n",
    "    plt.title(f\"Project Value Based on {col}\", fontsize=20, pad= 12);"
   ]
  },
  {
   "cell_type": "code",
   "execution_count": 52,
   "metadata": {},
   "outputs": [
    {
     "data": {
      "image/png": "[encoded data removed]",
      "text/plain": [
       "<Figure size 1080x576 with 1 Axes>"
      ]
     },
     "metadata": {
      "needs_background": "light"
     },
     "output_type": "display_data"
    }
   ],
   "source": [
    "g = sns.relplot(x='ProjectValue', y='DistanceToNearestTransitStation', data=permits_df)\n",
    "g.fig.set_size_inches(15,8)\n",
    "plt.ylabel('Distance To Closest Transit Station', fontsize= 15, labelpad = 12)\n",
    "plt.xlabel('Project Value', fontsize= 15, labelpad = 12)\n",
    "plt.title('Project Value vs Distance To Closest Transit Station', fontsize= 15);"
   ]
  },
  {
   "cell_type": "markdown",
   "metadata": {},
   "source": [
    "## Statistical Tests"
   ]
  },
  {
   "cell_type": "markdown",
   "metadata": {},
   "source": [
    "Exploring Work Type"
   ]
  },
  {
   "cell_type": "code",
   "execution_count": 53,
   "metadata": {},
   "outputs": [
    {
     "data": {
      "text/html": [
       "<div>\n",
       "<style scoped>\n",
       "    .dataframe tbody tr th:only-of-type {\n",
       "        vertical-align: middle;\n",
       "    }\n",
       "\n",
       "    .dataframe tbody tr th {\n",
       "        vertical-align: top;\n",
       "    }\n",
       "\n",
       "    .dataframe thead th {\n",
       "        text-align: right;\n",
       "    }\n",
       "</style>\n",
       "<table border=\"1\" class=\"dataframe\">\n",
       "  <thead>\n",
       "    <tr style=\"text-align: right;\">\n",
       "      <th></th>\n",
       "      <th>count</th>\n",
       "      <th>mean</th>\n",
       "      <th>std</th>\n",
       "      <th>min</th>\n",
       "      <th>25%</th>\n",
       "      <th>50%</th>\n",
       "      <th>75%</th>\n",
       "      <th>max</th>\n",
       "    </tr>\n",
       "    <tr>\n",
       "      <th>WorkType</th>\n",
       "      <th></th>\n",
       "      <th></th>\n",
       "      <th></th>\n",
       "      <th></th>\n",
       "      <th></th>\n",
       "      <th></th>\n",
       "      <th></th>\n",
       "      <th></th>\n",
       "    </tr>\n",
       "  </thead>\n",
       "  <tbody>\n",
       "    <tr>\n",
       "      <th>Addition</th>\n",
       "      <td>6764.0</td>\n",
       "      <td>11.448784</td>\n",
       "      <td>1.059614</td>\n",
       "      <td>9.646011</td>\n",
       "      <td>10.596635</td>\n",
       "      <td>11.289782</td>\n",
       "      <td>12.206073</td>\n",
       "      <td>14.081560</td>\n",
       "    </tr>\n",
       "    <tr>\n",
       "      <th>Demolition</th>\n",
       "      <td>315.0</td>\n",
       "      <td>10.856205</td>\n",
       "      <td>1.005015</td>\n",
       "      <td>9.615872</td>\n",
       "      <td>10.032260</td>\n",
       "      <td>10.596635</td>\n",
       "      <td>11.510921</td>\n",
       "      <td>13.815511</td>\n",
       "    </tr>\n",
       "    <tr>\n",
       "      <th>New Building</th>\n",
       "      <td>3774.0</td>\n",
       "      <td>12.849293</td>\n",
       "      <td>0.786441</td>\n",
       "      <td>9.903488</td>\n",
       "      <td>12.150844</td>\n",
       "      <td>12.961994</td>\n",
       "      <td>13.542489</td>\n",
       "      <td>14.084445</td>\n",
       "    </tr>\n",
       "  </tbody>\n",
       "</table>\n",
       "</div>"
      ],
      "text/plain": [
       "               count       mean       std       min        25%        50%  \\\n",
       "WorkType                                                                    \n",
       "Addition      6764.0  11.448784  1.059614  9.646011  10.596635  11.289782   \n",
       "Demolition     315.0  10.856205  1.005015  9.615872  10.032260  10.596635   \n",
       "New Building  3774.0  12.849293  0.786441  9.903488  12.150844  12.961994   \n",
       "\n",
       "                    75%        max  \n",
       "WorkType                            \n",
       "Addition      12.206073  14.081560  \n",
       "Demolition    11.510921  13.815511  \n",
       "New Building  13.542489  14.084445  "
      ]
     },
     "execution_count": 53,
     "metadata": {},
     "output_type": "execute_result"
    }
   ],
   "source": [
    "permits_df.groupby('WorkType')['ProjectValue'].describe()"
   ]
  },
  {
   "cell_type": "code",
   "execution_count": 54,
   "metadata": {},
   "outputs": [],
   "source": [
    "#Seperate project value based on work type\n",
    "\n",
    "demo = permits_df['ProjectValue'][(permits_df['WorkType'] == 'Demolition')]\n",
    "new_building = permits_df['ProjectValue'][(permits_df['WorkType'] == 'New Building')]\n",
    "addition = permits_df['ProjectValue'][(permits_df['WorkType'] == 'Addition')]"
   ]
  },
  {
   "cell_type": "code",
   "execution_count": 55,
   "metadata": {},
   "outputs": [
    {
     "name": "stdout",
     "output_type": "stream",
     "text": [
      "The p-value for demolition is 7.640000862041505e-15\n",
      "The p-value for new buildings is 0.0\n",
      "The p-value for additions is 1.6178577073907487e-37\n"
     ]
    }
   ],
   "source": [
    "#Shapiro test assumption of normality\n",
    "\n",
    "shapiro_demo = stats.shapiro(demo)\n",
    "shapiro_new_building = stats.shapiro(new_building)\n",
    "shapiro_addition = stats.shapiro(addition)\n",
    "\n",
    "print(f\"The p-value for demolition is {shapiro_demo.pvalue}\")\n",
    "print(f\"The p-value for new buildings is {shapiro_new_building.pvalue}\")\n",
    "print(f\"The p-value for additions is {shapiro_addition.pvalue}\")\n"
   ]
  },
  {
   "cell_type": "markdown",
   "metadata": {},
   "source": [
    "All of the values failed the Shapiro test. Therefore a one-way ANOVA Test can not be used to asses the differences between these groups. Rather, a Kruskal-Wallice test will be used to asses whether the median values between these groups are the same. "
   ]
  },
  {
   "cell_type": "code",
   "execution_count": 56,
   "metadata": {},
   "outputs": [
    {
     "data": {
      "text/plain": [
       "KruskalResult(statistic=3684.129163071573, pvalue=0.0)"
      ]
     },
     "execution_count": 56,
     "metadata": {},
     "output_type": "execute_result"
    }
   ],
   "source": [
    "#Kruskal-Wallice Test\n",
    "\n",
    "stats.kruskal(demo,new_building,addition)"
   ]
  },
  {
   "cell_type": "code",
   "execution_count": 57,
   "metadata": {},
   "outputs": [
    {
     "data": {
      "text/html": [
       "<div>\n",
       "<style scoped>\n",
       "    .dataframe tbody tr th:only-of-type {\n",
       "        vertical-align: middle;\n",
       "    }\n",
       "\n",
       "    .dataframe tbody tr th {\n",
       "        vertical-align: top;\n",
       "    }\n",
       "\n",
       "    .dataframe thead th {\n",
       "        text-align: right;\n",
       "    }\n",
       "</style>\n",
       "<table border=\"1\" class=\"dataframe\">\n",
       "  <thead>\n",
       "    <tr style=\"text-align: right;\">\n",
       "      <th></th>\n",
       "      <th>1</th>\n",
       "      <th>2</th>\n",
       "      <th>3</th>\n",
       "    </tr>\n",
       "  </thead>\n",
       "  <tbody>\n",
       "    <tr>\n",
       "      <th>1</th>\n",
       "      <td>1.000000e+00</td>\n",
       "      <td>3.343130e-179</td>\n",
       "      <td>9.559455e-17</td>\n",
       "    </tr>\n",
       "    <tr>\n",
       "      <th>2</th>\n",
       "      <td>3.343130e-179</td>\n",
       "      <td>1.000000e+00</td>\n",
       "      <td>0.000000e+00</td>\n",
       "    </tr>\n",
       "    <tr>\n",
       "      <th>3</th>\n",
       "      <td>9.559455e-17</td>\n",
       "      <td>0.000000e+00</td>\n",
       "      <td>1.000000e+00</td>\n",
       "    </tr>\n",
       "  </tbody>\n",
       "</table>\n",
       "</div>"
      ],
      "text/plain": [
       "               1              2             3\n",
       "1   1.000000e+00  3.343130e-179  9.559455e-17\n",
       "2  3.343130e-179   1.000000e+00  0.000000e+00\n",
       "3   9.559455e-17   0.000000e+00  1.000000e+00"
      ]
     },
     "execution_count": 57,
     "metadata": {},
     "output_type": "execute_result"
    }
   ],
   "source": [
    "#Post hoc test\n",
    "\n",
    "import scikit_posthocs as sp\n",
    "\n",
    "work_type_post_hoc_data = [demo,new_building,addition]\n",
    "sp.posthoc_dunn(work_type_post_hoc_data, p_adjust = 'bonferroni')"
   ]
  },
  {
   "cell_type": "markdown",
   "metadata": {},
   "source": [
    "Based on the outcome of the Kruskal-Wallis test, and the post hoc test, it is highly unlikely that each of the working types have the same median value."
   ]
  },
  {
   "cell_type": "markdown",
   "metadata": {},
   "source": [
    "Exploring Area"
   ]
  },
  {
   "cell_type": "code",
   "execution_count": 58,
   "metadata": {},
   "outputs": [
    {
     "data": {
      "text/html": [
       "<div>\n",
       "<style scoped>\n",
       "    .dataframe tbody tr th:only-of-type {\n",
       "        vertical-align: middle;\n",
       "    }\n",
       "\n",
       "    .dataframe tbody tr th {\n",
       "        vertical-align: top;\n",
       "    }\n",
       "\n",
       "    .dataframe thead th {\n",
       "        text-align: right;\n",
       "    }\n",
       "</style>\n",
       "<table border=\"1\" class=\"dataframe\">\n",
       "  <thead>\n",
       "    <tr style=\"text-align: right;\">\n",
       "      <th></th>\n",
       "      <th>count</th>\n",
       "      <th>mean</th>\n",
       "      <th>std</th>\n",
       "      <th>min</th>\n",
       "      <th>25%</th>\n",
       "      <th>50%</th>\n",
       "      <th>75%</th>\n",
       "      <th>max</th>\n",
       "    </tr>\n",
       "    <tr>\n",
       "      <th>Area</th>\n",
       "      <th></th>\n",
       "      <th></th>\n",
       "      <th></th>\n",
       "      <th></th>\n",
       "      <th></th>\n",
       "      <th></th>\n",
       "      <th></th>\n",
       "      <th></th>\n",
       "    </tr>\n",
       "  </thead>\n",
       "  <tbody>\n",
       "    <tr>\n",
       "      <th>Arbutus-Ridge</th>\n",
       "      <td>254.0</td>\n",
       "      <td>12.214259</td>\n",
       "      <td>1.325912</td>\n",
       "      <td>9.648595</td>\n",
       "      <td>11.173499</td>\n",
       "      <td>12.305851</td>\n",
       "      <td>13.628326</td>\n",
       "      <td>14.057397</td>\n",
       "    </tr>\n",
       "    <tr>\n",
       "      <th>Downtown</th>\n",
       "      <td>2242.0</td>\n",
       "      <td>11.543044</td>\n",
       "      <td>1.077565</td>\n",
       "      <td>9.646981</td>\n",
       "      <td>10.714418</td>\n",
       "      <td>11.426683</td>\n",
       "      <td>12.243970</td>\n",
       "      <td>14.077875</td>\n",
       "    </tr>\n",
       "    <tr>\n",
       "      <th>Dunbar-Southlands</th>\n",
       "      <td>398.0</td>\n",
       "      <td>12.612006</td>\n",
       "      <td>1.272023</td>\n",
       "      <td>9.615872</td>\n",
       "      <td>11.883195</td>\n",
       "      <td>13.122363</td>\n",
       "      <td>13.747590</td>\n",
       "      <td>14.083704</td>\n",
       "    </tr>\n",
       "    <tr>\n",
       "      <th>Fairview</th>\n",
       "      <td>653.0</td>\n",
       "      <td>11.353148</td>\n",
       "      <td>1.008065</td>\n",
       "      <td>9.661416</td>\n",
       "      <td>10.596635</td>\n",
       "      <td>11.156251</td>\n",
       "      <td>11.918391</td>\n",
       "      <td>13.997832</td>\n",
       "    </tr>\n",
       "    <tr>\n",
       "      <th>Grandview-Woodland</th>\n",
       "      <td>326.0</td>\n",
       "      <td>11.971363</td>\n",
       "      <td>1.210467</td>\n",
       "      <td>9.680344</td>\n",
       "      <td>10.976674</td>\n",
       "      <td>12.000747</td>\n",
       "      <td>13.017003</td>\n",
       "      <td>14.077875</td>\n",
       "    </tr>\n",
       "    <tr>\n",
       "      <th>Hastings-Sunrise</th>\n",
       "      <td>589.0</td>\n",
       "      <td>12.322497</td>\n",
       "      <td>1.015195</td>\n",
       "      <td>9.648595</td>\n",
       "      <td>11.891362</td>\n",
       "      <td>12.176901</td>\n",
       "      <td>13.406037</td>\n",
       "      <td>13.909456</td>\n",
       "    </tr>\n",
       "    <tr>\n",
       "      <th>Kensington-Cedar Cottage</th>\n",
       "      <td>720.0</td>\n",
       "      <td>12.167398</td>\n",
       "      <td>1.133899</td>\n",
       "      <td>9.740969</td>\n",
       "      <td>11.455029</td>\n",
       "      <td>12.144194</td>\n",
       "      <td>13.297700</td>\n",
       "      <td>14.047451</td>\n",
       "    </tr>\n",
       "    <tr>\n",
       "      <th>Kerrisdale</th>\n",
       "      <td>224.0</td>\n",
       "      <td>12.059087</td>\n",
       "      <td>1.297967</td>\n",
       "      <td>9.798127</td>\n",
       "      <td>10.980347</td>\n",
       "      <td>12.086091</td>\n",
       "      <td>13.331992</td>\n",
       "      <td>14.084445</td>\n",
       "    </tr>\n",
       "    <tr>\n",
       "      <th>Killarney</th>\n",
       "      <td>335.0</td>\n",
       "      <td>12.205507</td>\n",
       "      <td>1.120425</td>\n",
       "      <td>9.898475</td>\n",
       "      <td>11.512925</td>\n",
       "      <td>12.284190</td>\n",
       "      <td>13.198017</td>\n",
       "      <td>14.038654</td>\n",
       "    </tr>\n",
       "    <tr>\n",
       "      <th>Kitsilano</th>\n",
       "      <td>578.0</td>\n",
       "      <td>11.753407</td>\n",
       "      <td>1.214312</td>\n",
       "      <td>9.680344</td>\n",
       "      <td>10.819778</td>\n",
       "      <td>11.512925</td>\n",
       "      <td>12.772090</td>\n",
       "      <td>14.077875</td>\n",
       "    </tr>\n",
       "    <tr>\n",
       "      <th>Marpole</th>\n",
       "      <td>303.0</td>\n",
       "      <td>11.914792</td>\n",
       "      <td>1.314478</td>\n",
       "      <td>9.680344</td>\n",
       "      <td>10.819778</td>\n",
       "      <td>11.982116</td>\n",
       "      <td>13.304685</td>\n",
       "      <td>14.077875</td>\n",
       "    </tr>\n",
       "    <tr>\n",
       "      <th>Mount Pleasant</th>\n",
       "      <td>426.0</td>\n",
       "      <td>11.649456</td>\n",
       "      <td>1.247592</td>\n",
       "      <td>9.680344</td>\n",
       "      <td>10.596635</td>\n",
       "      <td>11.512925</td>\n",
       "      <td>12.667331</td>\n",
       "      <td>14.077875</td>\n",
       "    </tr>\n",
       "    <tr>\n",
       "      <th>Oakridge</th>\n",
       "      <td>224.0</td>\n",
       "      <td>12.308758</td>\n",
       "      <td>1.172712</td>\n",
       "      <td>9.903488</td>\n",
       "      <td>11.407565</td>\n",
       "      <td>12.322076</td>\n",
       "      <td>13.458836</td>\n",
       "      <td>14.077875</td>\n",
       "    </tr>\n",
       "    <tr>\n",
       "      <th>Renfrew-Collingwood</th>\n",
       "      <td>593.0</td>\n",
       "      <td>12.236790</td>\n",
       "      <td>1.117668</td>\n",
       "      <td>9.661416</td>\n",
       "      <td>11.727533</td>\n",
       "      <td>12.202316</td>\n",
       "      <td>13.349499</td>\n",
       "      <td>14.077875</td>\n",
       "    </tr>\n",
       "    <tr>\n",
       "      <th>Riley Park</th>\n",
       "      <td>443.0</td>\n",
       "      <td>12.124106</td>\n",
       "      <td>1.150851</td>\n",
       "      <td>9.798127</td>\n",
       "      <td>11.297842</td>\n",
       "      <td>12.115874</td>\n",
       "      <td>13.277340</td>\n",
       "      <td>13.991374</td>\n",
       "    </tr>\n",
       "    <tr>\n",
       "      <th>Shaughnessy</th>\n",
       "      <td>151.0</td>\n",
       "      <td>12.168372</td>\n",
       "      <td>1.243358</td>\n",
       "      <td>9.792556</td>\n",
       "      <td>11.225243</td>\n",
       "      <td>12.313805</td>\n",
       "      <td>13.378830</td>\n",
       "      <td>14.080845</td>\n",
       "    </tr>\n",
       "    <tr>\n",
       "      <th>South Cambie</th>\n",
       "      <td>136.0</td>\n",
       "      <td>11.876511</td>\n",
       "      <td>1.216432</td>\n",
       "      <td>9.667765</td>\n",
       "      <td>10.819778</td>\n",
       "      <td>11.918391</td>\n",
       "      <td>13.122363</td>\n",
       "      <td>13.997832</td>\n",
       "    </tr>\n",
       "    <tr>\n",
       "      <th>Strathcona</th>\n",
       "      <td>231.0</td>\n",
       "      <td>11.720417</td>\n",
       "      <td>1.093832</td>\n",
       "      <td>9.738023</td>\n",
       "      <td>10.867433</td>\n",
       "      <td>11.695247</td>\n",
       "      <td>12.570330</td>\n",
       "      <td>14.046622</td>\n",
       "    </tr>\n",
       "    <tr>\n",
       "      <th>Sunset</th>\n",
       "      <td>599.0</td>\n",
       "      <td>12.286724</td>\n",
       "      <td>1.031974</td>\n",
       "      <td>9.667765</td>\n",
       "      <td>11.923378</td>\n",
       "      <td>12.194632</td>\n",
       "      <td>13.385764</td>\n",
       "      <td>14.074407</td>\n",
       "    </tr>\n",
       "    <tr>\n",
       "      <th>Victoria-Fraserview</th>\n",
       "      <td>487.0</td>\n",
       "      <td>12.458584</td>\n",
       "      <td>0.940805</td>\n",
       "      <td>9.680344</td>\n",
       "      <td>11.999270</td>\n",
       "      <td>12.315129</td>\n",
       "      <td>13.431376</td>\n",
       "      <td>14.017287</td>\n",
       "    </tr>\n",
       "    <tr>\n",
       "      <th>West End</th>\n",
       "      <td>664.0</td>\n",
       "      <td>11.273754</td>\n",
       "      <td>1.058450</td>\n",
       "      <td>9.646011</td>\n",
       "      <td>10.308953</td>\n",
       "      <td>11.082143</td>\n",
       "      <td>11.918391</td>\n",
       "      <td>14.081560</td>\n",
       "    </tr>\n",
       "    <tr>\n",
       "      <th>West Point Grey</th>\n",
       "      <td>277.0</td>\n",
       "      <td>12.283055</td>\n",
       "      <td>1.202928</td>\n",
       "      <td>9.680344</td>\n",
       "      <td>11.440355</td>\n",
       "      <td>12.289954</td>\n",
       "      <td>13.464666</td>\n",
       "      <td>14.031227</td>\n",
       "    </tr>\n",
       "  </tbody>\n",
       "</table>\n",
       "</div>"
      ],
      "text/plain": [
       "                           count       mean       std       min        25%  \\\n",
       "Area                                                                         \n",
       "Arbutus-Ridge              254.0  12.214259  1.325912  9.648595  11.173499   \n",
       "Downtown                  2242.0  11.543044  1.077565  9.646981  10.714418   \n",
       "Dunbar-Southlands          398.0  12.612006  1.272023  9.615872  11.883195   \n",
       "Fairview                   653.0  11.353148  1.008065  9.661416  10.596635   \n",
       "Grandview-Woodland         326.0  11.971363  1.210467  9.680344  10.976674   \n",
       "Hastings-Sunrise           589.0  12.322497  1.015195  9.648595  11.891362   \n",
       "Kensington-Cedar Cottage   720.0  12.167398  1.133899  9.740969  11.455029   \n",
       "Kerrisdale                 224.0  12.059087  1.297967  9.798127  10.980347   \n",
       "Killarney                  335.0  12.205507  1.120425  9.898475  11.512925   \n",
       "Kitsilano                  578.0  11.753407  1.214312  9.680344  10.819778   \n",
       "Marpole                    303.0  11.914792  1.314478  9.680344  10.819778   \n",
       "Mount Pleasant             426.0  11.649456  1.247592  9.680344  10.596635   \n",
       "Oakridge                   224.0  12.308758  1.172712  9.903488  11.407565   \n",
       "Renfrew-Collingwood        593.0  12.236790  1.117668  9.661416  11.727533   \n",
       "Riley Park                 443.0  12.124106  1.150851  9.798127  11.297842   \n",
       "Shaughnessy                151.0  12.168372  1.243358  9.792556  11.225243   \n",
       "South Cambie               136.0  11.876511  1.216432  9.667765  10.819778   \n",
       "Strathcona                 231.0  11.720417  1.093832  9.738023  10.867433   \n",
       "Sunset                     599.0  12.286724  1.031974  9.667765  11.923378   \n",
       "Victoria-Fraserview        487.0  12.458584  0.940805  9.680344  11.999270   \n",
       "West End                   664.0  11.273754  1.058450  9.646011  10.308953   \n",
       "West Point Grey            277.0  12.283055  1.202928  9.680344  11.440355   \n",
       "\n",
       "                                50%        75%        max  \n",
       "Area                                                       \n",
       "Arbutus-Ridge             12.305851  13.628326  14.057397  \n",
       "Downtown                  11.426683  12.243970  14.077875  \n",
       "Dunbar-Southlands         13.122363  13.747590  14.083704  \n",
       "Fairview                  11.156251  11.918391  13.997832  \n",
       "Grandview-Woodland        12.000747  13.017003  14.077875  \n",
       "Hastings-Sunrise          12.176901  13.406037  13.909456  \n",
       "Kensington-Cedar Cottage  12.144194  13.297700  14.047451  \n",
       "Kerrisdale                12.086091  13.331992  14.084445  \n",
       "Killarney                 12.284190  13.198017  14.038654  \n",
       "Kitsilano                 11.512925  12.772090  14.077875  \n",
       "Marpole                   11.982116  13.304685  14.077875  \n",
       "Mount Pleasant            11.512925  12.667331  14.077875  \n",
       "Oakridge                  12.322076  13.458836  14.077875  \n",
       "Renfrew-Collingwood       12.202316  13.349499  14.077875  \n",
       "Riley Park                12.115874  13.277340  13.991374  \n",
       "Shaughnessy               12.313805  13.378830  14.080845  \n",
       "South Cambie              11.918391  13.122363  13.997832  \n",
       "Strathcona                11.695247  12.570330  14.046622  \n",
       "Sunset                    12.194632  13.385764  14.074407  \n",
       "Victoria-Fraserview       12.315129  13.431376  14.017287  \n",
       "West End                  11.082143  11.918391  14.081560  \n",
       "West Point Grey           12.289954  13.464666  14.031227  "
      ]
     },
     "execution_count": 58,
     "metadata": {},
     "output_type": "execute_result"
    }
   ],
   "source": [
    "permits_df.groupby('Area')['ProjectValue'].describe()"
   ]
  },
  {
   "cell_type": "code",
   "execution_count": 59,
   "metadata": {},
   "outputs": [
    {
     "name": "stdout",
     "output_type": "stream",
     "text": [
      "The p-value for Victoria-Fraserview is 3.928134774649605e-15\n",
      "The p-value for Kerrisdale is 4.888756066634414e-08\n",
      "The p-value for Strathcona is 0.0006103514460846782\n",
      "The p-value for Dunbar-Southlands is 4.30853201701026e-17\n",
      "The p-value for Kensington-Cedar Cottage is 3.932410014632193e-16\n",
      "The p-value for Grandview-Woodland is 2.1180373011020492e-08\n",
      "The p-value for Riley Park is 3.320204527978987e-11\n",
      "The p-value for Arbutus-Ridge is 2.445970648246032e-10\n",
      "The p-value for Mount Pleasant is 6.649961831195483e-11\n",
      "The p-value for Kitsilano is 5.705180793937059e-13\n",
      "The p-value for Downtown is 5.587998837159588e-21\n",
      "The p-value for West End is 1.776809102054525e-16\n",
      "The p-value for Sunset is 1.5996841895696062e-15\n",
      "The p-value for Fairview is 7.328145252075147e-13\n",
      "The p-value for Marpole is 4.778757944912115e-10\n",
      "The p-value for Killarney is 3.540410742353117e-10\n",
      "The p-value for Hastings-Sunrise is 2.4572446975670934e-16\n",
      "The p-value for West Point Grey is 3.003998383377393e-09\n",
      "The p-value for Shaughnessy is 1.5079420336405747e-05\n",
      "The p-value for Oakridge is 2.362244089226806e-07\n",
      "The p-value for South Cambie is 4.381894177640788e-05\n",
      "The p-value for Renfrew-Collingwood is 1.616447691573774e-14\n"
     ]
    }
   ],
   "source": [
    "areas = permits_df['Area'].unique()\n",
    "d = {area: pd.DataFrame() for area in areas}\n",
    "for key in d.keys():\n",
    "    d[key] = permits_df['ProjectValue'][permits_df.Area == key]\n",
    "    \n",
    "for k, v in d.items():\n",
    "    print(f\"The p-value for {k} is {stats.shapiro(v).pvalue}\")"
   ]
  },
  {
   "cell_type": "markdown",
   "metadata": {},
   "source": [
    "All of the areas have failed the assumption of normality. Therefore the Kruskal-Wallice test will be applied again."
   ]
  },
  {
   "cell_type": "code",
   "execution_count": 60,
   "metadata": {},
   "outputs": [
    {
     "data": {
      "text/plain": [
       "KruskalResult(statistic=1185.3987307681175, pvalue=7.73628216979263e-238)"
      ]
     },
     "execution_count": 60,
     "metadata": {},
     "output_type": "execute_result"
    }
   ],
   "source": [
    "stats.kruskal(*d.values())"
   ]
  },
  {
   "cell_type": "markdown",
   "metadata": {},
   "source": [
    "Based on the outcome of the Kruskal-Wallis test, it is highly unlikely that each of Vancouver's areas have the same median value in project costs."
   ]
  },
  {
   "cell_type": "markdown",
   "metadata": {},
   "source": [
    "Exploring Property Use"
   ]
  },
  {
   "cell_type": "code",
   "execution_count": 61,
   "metadata": {},
   "outputs": [
    {
     "data": {
      "text/html": [
       "<div>\n",
       "<style scoped>\n",
       "    .dataframe tbody tr th:only-of-type {\n",
       "        vertical-align: middle;\n",
       "    }\n",
       "\n",
       "    .dataframe tbody tr th {\n",
       "        vertical-align: top;\n",
       "    }\n",
       "\n",
       "    .dataframe thead th {\n",
       "        text-align: right;\n",
       "    }\n",
       "</style>\n",
       "<table border=\"1\" class=\"dataframe\">\n",
       "  <thead>\n",
       "    <tr style=\"text-align: right;\">\n",
       "      <th></th>\n",
       "      <th>count</th>\n",
       "      <th>mean</th>\n",
       "      <th>std</th>\n",
       "      <th>min</th>\n",
       "      <th>25%</th>\n",
       "      <th>50%</th>\n",
       "      <th>75%</th>\n",
       "      <th>max</th>\n",
       "    </tr>\n",
       "    <tr>\n",
       "      <th>PropertyUseRevised</th>\n",
       "      <th></th>\n",
       "      <th></th>\n",
       "      <th></th>\n",
       "      <th></th>\n",
       "      <th></th>\n",
       "      <th></th>\n",
       "      <th></th>\n",
       "      <th></th>\n",
       "    </tr>\n",
       "  </thead>\n",
       "  <tbody>\n",
       "    <tr>\n",
       "      <th>Cultural/Recreational Uses</th>\n",
       "      <td>124.0</td>\n",
       "      <td>11.665760</td>\n",
       "      <td>1.095480</td>\n",
       "      <td>9.798127</td>\n",
       "      <td>10.819778</td>\n",
       "      <td>11.434599</td>\n",
       "      <td>12.611538</td>\n",
       "      <td>14.077875</td>\n",
       "    </tr>\n",
       "    <tr>\n",
       "      <th>Dwelling Uses</th>\n",
       "      <td>6821.0</td>\n",
       "      <td>12.124844</td>\n",
       "      <td>1.205247</td>\n",
       "      <td>9.615872</td>\n",
       "      <td>11.225243</td>\n",
       "      <td>12.152408</td>\n",
       "      <td>13.360191</td>\n",
       "      <td>14.084445</td>\n",
       "    </tr>\n",
       "    <tr>\n",
       "      <th>Institutional Uses</th>\n",
       "      <td>257.0</td>\n",
       "      <td>11.865576</td>\n",
       "      <td>1.103859</td>\n",
       "      <td>9.852194</td>\n",
       "      <td>10.915088</td>\n",
       "      <td>11.849398</td>\n",
       "      <td>12.765688</td>\n",
       "      <td>14.081560</td>\n",
       "    </tr>\n",
       "    <tr>\n",
       "      <th>Manufacturing Uses</th>\n",
       "      <td>100.0</td>\n",
       "      <td>11.386179</td>\n",
       "      <td>1.062384</td>\n",
       "      <td>9.769956</td>\n",
       "      <td>10.424566</td>\n",
       "      <td>11.289782</td>\n",
       "      <td>12.206697</td>\n",
       "      <td>13.764743</td>\n",
       "    </tr>\n",
       "    <tr>\n",
       "      <th>Mixed Uses</th>\n",
       "      <td>261.0</td>\n",
       "      <td>11.621869</td>\n",
       "      <td>1.114516</td>\n",
       "      <td>9.711116</td>\n",
       "      <td>10.819778</td>\n",
       "      <td>11.512925</td>\n",
       "      <td>12.445090</td>\n",
       "      <td>14.046622</td>\n",
       "    </tr>\n",
       "    <tr>\n",
       "      <th>Office Uses</th>\n",
       "      <td>2082.0</td>\n",
       "      <td>11.563963</td>\n",
       "      <td>1.084505</td>\n",
       "      <td>9.648595</td>\n",
       "      <td>10.745593</td>\n",
       "      <td>11.461632</td>\n",
       "      <td>12.301383</td>\n",
       "      <td>14.077875</td>\n",
       "    </tr>\n",
       "    <tr>\n",
       "      <th>Retail Uses</th>\n",
       "      <td>707.0</td>\n",
       "      <td>11.460013</td>\n",
       "      <td>0.966529</td>\n",
       "      <td>9.680344</td>\n",
       "      <td>10.714418</td>\n",
       "      <td>11.388495</td>\n",
       "      <td>12.188259</td>\n",
       "      <td>14.038654</td>\n",
       "    </tr>\n",
       "    <tr>\n",
       "      <th>Service Uses</th>\n",
       "      <td>501.0</td>\n",
       "      <td>11.582073</td>\n",
       "      <td>1.127848</td>\n",
       "      <td>9.680344</td>\n",
       "      <td>10.668955</td>\n",
       "      <td>11.512925</td>\n",
       "      <td>12.482249</td>\n",
       "      <td>14.077875</td>\n",
       "    </tr>\n",
       "  </tbody>\n",
       "</table>\n",
       "</div>"
      ],
      "text/plain": [
       "                             count       mean       std       min        25%  \\\n",
       "PropertyUseRevised                                                             \n",
       "Cultural/Recreational Uses   124.0  11.665760  1.095480  9.798127  10.819778   \n",
       "Dwelling Uses               6821.0  12.124844  1.205247  9.615872  11.225243   \n",
       "Institutional Uses           257.0  11.865576  1.103859  9.852194  10.915088   \n",
       "Manufacturing Uses           100.0  11.386179  1.062384  9.769956  10.424566   \n",
       "Mixed Uses                   261.0  11.621869  1.114516  9.711116  10.819778   \n",
       "Office Uses                 2082.0  11.563963  1.084505  9.648595  10.745593   \n",
       "Retail Uses                  707.0  11.460013  0.966529  9.680344  10.714418   \n",
       "Service Uses                 501.0  11.582073  1.127848  9.680344  10.668955   \n",
       "\n",
       "                                  50%        75%        max  \n",
       "PropertyUseRevised                                           \n",
       "Cultural/Recreational Uses  11.434599  12.611538  14.077875  \n",
       "Dwelling Uses               12.152408  13.360191  14.084445  \n",
       "Institutional Uses          11.849398  12.765688  14.081560  \n",
       "Manufacturing Uses          11.289782  12.206697  13.764743  \n",
       "Mixed Uses                  11.512925  12.445090  14.046622  \n",
       "Office Uses                 11.461632  12.301383  14.077875  \n",
       "Retail Uses                 11.388495  12.188259  14.038654  \n",
       "Service Uses                11.512925  12.482249  14.077875  "
      ]
     },
     "execution_count": 61,
     "metadata": {},
     "output_type": "execute_result"
    }
   ],
   "source": [
    "permits_df.groupby('PropertyUseRevised')['ProjectValue'].describe()"
   ]
  },
  {
   "cell_type": "code",
   "execution_count": 62,
   "metadata": {},
   "outputs": [
    {
     "name": "stdout",
     "output_type": "stream",
     "text": [
      "The p-value for Dwelling Uses is 1.723597111119525e-43\n",
      "The p-value for Office Uses is 4.6419621448848506e-20\n",
      "The p-value for Institutional Uses is 1.0822336662386078e-05\n",
      "The p-value for Service Uses is 4.480100179726776e-10\n",
      "The p-value for Manufacturing Uses is 0.0021669918205589056\n",
      "The p-value for Retail Uses is 1.3330584636150888e-08\n",
      "The p-value for Cultural/Recreational Uses is 0.0006610219716094434\n",
      "The p-value for Mixed Uses is 1.8996821381733753e-05\n"
     ]
    }
   ],
   "source": [
    "#Test for normality on property use\n",
    "\n",
    "prop_use = permits_df['PropertyUseRevised'].unique()\n",
    "p = {use: pd.DataFrame() for use in prop_use}\n",
    "for key in p.keys():\n",
    "    p[key] = permits_df['ProjectValue'][permits_df.PropertyUseRevised == key]\n",
    "    \n",
    "for k, v in p.items():\n",
    "    print(f\"The p-value for {k} is {stats.shapiro(v).pvalue}\")"
   ]
  },
  {
   "cell_type": "code",
   "execution_count": 63,
   "metadata": {},
   "outputs": [
    {
     "data": {
      "text/plain": [
       "KruskalResult(statistic=587.458938068061, pvalue=1.2215310388110197e-122)"
      ]
     },
     "execution_count": 63,
     "metadata": {},
     "output_type": "execute_result"
    }
   ],
   "source": [
    "stats.kruskal(*p.values())"
   ]
  },
  {
   "cell_type": "markdown",
   "metadata": {},
   "source": [
    "Based on the outcome of the Kruskal-Wallis test, it is highly unlikely that property uses have the same median value in project costs."
   ]
  },
  {
   "cell_type": "markdown",
   "metadata": {},
   "source": [
    "Exploring Business Improvement Areas"
   ]
  },
  {
   "cell_type": "code",
   "execution_count": 64,
   "metadata": {},
   "outputs": [
    {
     "data": {
      "text/html": [
       "<div>\n",
       "<style scoped>\n",
       "    .dataframe tbody tr th:only-of-type {\n",
       "        vertical-align: middle;\n",
       "    }\n",
       "\n",
       "    .dataframe tbody tr th {\n",
       "        vertical-align: top;\n",
       "    }\n",
       "\n",
       "    .dataframe thead th {\n",
       "        text-align: right;\n",
       "    }\n",
       "</style>\n",
       "<table border=\"1\" class=\"dataframe\">\n",
       "  <thead>\n",
       "    <tr style=\"text-align: right;\">\n",
       "      <th></th>\n",
       "      <th>count</th>\n",
       "      <th>mean</th>\n",
       "      <th>std</th>\n",
       "      <th>min</th>\n",
       "      <th>25%</th>\n",
       "      <th>50%</th>\n",
       "      <th>75%</th>\n",
       "      <th>max</th>\n",
       "    </tr>\n",
       "    <tr>\n",
       "      <th>BusinessImprovementArea</th>\n",
       "      <th></th>\n",
       "      <th></th>\n",
       "      <th></th>\n",
       "      <th></th>\n",
       "      <th></th>\n",
       "      <th></th>\n",
       "      <th></th>\n",
       "      <th></th>\n",
       "    </tr>\n",
       "  </thead>\n",
       "  <tbody>\n",
       "    <tr>\n",
       "      <th>0.0</th>\n",
       "      <td>7910.0</td>\n",
       "      <td>12.063931</td>\n",
       "      <td>1.198725</td>\n",
       "      <td>9.615872</td>\n",
       "      <td>11.156251</td>\n",
       "      <td>12.096676</td>\n",
       "      <td>13.263863</td>\n",
       "      <td>14.084445</td>\n",
       "    </tr>\n",
       "    <tr>\n",
       "      <th>1.0</th>\n",
       "      <td>2943.0</td>\n",
       "      <td>11.527971</td>\n",
       "      <td>1.071971</td>\n",
       "      <td>9.646981</td>\n",
       "      <td>10.714418</td>\n",
       "      <td>11.407565</td>\n",
       "      <td>12.242887</td>\n",
       "      <td>14.077875</td>\n",
       "    </tr>\n",
       "  </tbody>\n",
       "</table>\n",
       "</div>"
      ],
      "text/plain": [
       "                          count       mean       std       min        25%  \\\n",
       "BusinessImprovementArea                                                     \n",
       "0.0                      7910.0  12.063931  1.198725  9.615872  11.156251   \n",
       "1.0                      2943.0  11.527971  1.071971  9.646981  10.714418   \n",
       "\n",
       "                               50%        75%        max  \n",
       "BusinessImprovementArea                                   \n",
       "0.0                      12.096676  13.263863  14.084445  \n",
       "1.0                      11.407565  12.242887  14.077875  "
      ]
     },
     "execution_count": 64,
     "metadata": {},
     "output_type": "execute_result"
    }
   ],
   "source": [
    "permits_df.groupby('BusinessImprovementArea')['ProjectValue'].describe()"
   ]
  },
  {
   "cell_type": "code",
   "execution_count": 65,
   "metadata": {},
   "outputs": [
    {
     "name": "stdout",
     "output_type": "stream",
     "text": [
      "The p-value for 0.0 is 6.165713243029195e-44\n",
      "The p-value for 1.0 is 3.028605436946729e-24\n"
     ]
    }
   ],
   "source": [
    "bia = permits_df['BusinessImprovementArea'].unique()\n",
    "p = {use: pd.DataFrame() for use in bia}\n",
    "for key in p.keys():\n",
    "    p[key] = permits_df['ProjectValue'][permits_df.BusinessImprovementArea == key]\n",
    "    \n",
    "for k, v in p.items():\n",
    "    print(f\"The p-value for {k} is {stats.shapiro(v).pvalue}\")"
   ]
  },
  {
   "cell_type": "markdown",
   "metadata": {},
   "source": [
    "Since neither of the options for Business Improvement Areas are normally distributed, a t-test cannot be used to assess the means of the groups. Therefore a Wilcoxon rank-sum test will be applied to assess whether the values in one sample are more likely to be larger than the values in the other sample."
   ]
  },
  {
   "cell_type": "code",
   "execution_count": 66,
   "metadata": {},
   "outputs": [
    {
     "data": {
      "text/plain": [
       "RanksumsResult(statistic=21.088858344407843, pvalue=1.0066155481822714e-98)"
      ]
     },
     "execution_count": 66,
     "metadata": {},
     "output_type": "execute_result"
    }
   ],
   "source": [
    "stats.ranksums(*p.values())"
   ]
  },
  {
   "cell_type": "markdown",
   "metadata": {},
   "source": [
    "Based on the results of the Wilcoxon rank-sum test, it is highly unlikely that the two sets of permits are from the same distribution. This suggests that the values of permits outside of business improvement areas are in fact larger than those permits that are within business improvement areas."
   ]
  },
  {
   "cell_type": "markdown",
   "metadata": {},
   "source": [
    "Exploring Flood Plain"
   ]
  },
  {
   "cell_type": "code",
   "execution_count": 67,
   "metadata": {},
   "outputs": [
    {
     "data": {
      "text/html": [
       "<div>\n",
       "<style scoped>\n",
       "    .dataframe tbody tr th:only-of-type {\n",
       "        vertical-align: middle;\n",
       "    }\n",
       "\n",
       "    .dataframe tbody tr th {\n",
       "        vertical-align: top;\n",
       "    }\n",
       "\n",
       "    .dataframe thead th {\n",
       "        text-align: right;\n",
       "    }\n",
       "</style>\n",
       "<table border=\"1\" class=\"dataframe\">\n",
       "  <thead>\n",
       "    <tr style=\"text-align: right;\">\n",
       "      <th></th>\n",
       "      <th>count</th>\n",
       "      <th>mean</th>\n",
       "      <th>std</th>\n",
       "      <th>min</th>\n",
       "      <th>25%</th>\n",
       "      <th>50%</th>\n",
       "      <th>75%</th>\n",
       "      <th>max</th>\n",
       "    </tr>\n",
       "    <tr>\n",
       "      <th>FloodPlain</th>\n",
       "      <th></th>\n",
       "      <th></th>\n",
       "      <th></th>\n",
       "      <th></th>\n",
       "      <th></th>\n",
       "      <th></th>\n",
       "      <th></th>\n",
       "      <th></th>\n",
       "    </tr>\n",
       "  </thead>\n",
       "  <tbody>\n",
       "    <tr>\n",
       "      <th>0.0</th>\n",
       "      <td>10579.0</td>\n",
       "      <td>11.926537</td>\n",
       "      <td>1.190669</td>\n",
       "      <td>9.615872</td>\n",
       "      <td>10.985293</td>\n",
       "      <td>11.982929</td>\n",
       "      <td>12.899220</td>\n",
       "      <td>14.084445</td>\n",
       "    </tr>\n",
       "    <tr>\n",
       "      <th>1.0</th>\n",
       "      <td>274.0</td>\n",
       "      <td>11.611960</td>\n",
       "      <td>1.114076</td>\n",
       "      <td>9.680344</td>\n",
       "      <td>10.819778</td>\n",
       "      <td>11.461632</td>\n",
       "      <td>12.343322</td>\n",
       "      <td>14.049956</td>\n",
       "    </tr>\n",
       "  </tbody>\n",
       "</table>\n",
       "</div>"
      ],
      "text/plain": [
       "              count       mean       std       min        25%        50%  \\\n",
       "FloodPlain                                                                 \n",
       "0.0         10579.0  11.926537  1.190669  9.615872  10.985293  11.982929   \n",
       "1.0           274.0  11.611960  1.114076  9.680344  10.819778  11.461632   \n",
       "\n",
       "                  75%        max  \n",
       "FloodPlain                        \n",
       "0.0         12.899220  14.084445  \n",
       "1.0         12.343322  14.049956  "
      ]
     },
     "execution_count": 67,
     "metadata": {},
     "output_type": "execute_result"
    }
   ],
   "source": [
    "permits_df.groupby('FloodPlain')['ProjectValue'].describe()"
   ]
  },
  {
   "cell_type": "code",
   "execution_count": 68,
   "metadata": {},
   "outputs": [
    {
     "name": "stdout",
     "output_type": "stream",
     "text": [
      "The p-value for 0.0 is 6.165713243029195e-44\n",
      "The p-value for 1.0 is 3.028605436946729e-24\n"
     ]
    }
   ],
   "source": [
    "fp = permits_df['FloodPlain'].unique()\n",
    "p = {use: pd.DataFrame() for use in fp}\n",
    "for key in p.keys():\n",
    "    p[key] = permits_df['ProjectValue'][permits_df.BusinessImprovementArea == key]\n",
    "    \n",
    "for k, v in p.items():\n",
    "    print(f\"The p-value for {k} is {stats.shapiro(v).pvalue}\")"
   ]
  },
  {
   "cell_type": "markdown",
   "metadata": {},
   "source": [
    "Since neither of the options for flood plains are normally distributed, a t-test cannot be used to assess the means of the groups. Therefore a Wilcoxon rank-sum test will be applied to assess whether the values in one sample are more likely to be larger than the values in the other sample."
   ]
  },
  {
   "cell_type": "code",
   "execution_count": 69,
   "metadata": {},
   "outputs": [
    {
     "data": {
      "text/plain": [
       "RanksumsResult(statistic=21.088858344407843, pvalue=1.0066155481822714e-98)"
      ]
     },
     "execution_count": 69,
     "metadata": {},
     "output_type": "execute_result"
    }
   ],
   "source": [
    "stats.ranksums(*p.values())"
   ]
  },
  {
   "cell_type": "markdown",
   "metadata": {},
   "source": [
    "Based on the results of the Wilcoxon rank-sum test, it is highly unlikely that the two sets of permits are from the same distribution. This suggests that the values of permits outside of flood plains is in fact larger than those permits that are outside of flood plains."
   ]
  },
  {
   "cell_type": "markdown",
   "metadata": {},
   "source": [
    "Exploring Distance to Closest Transit Station"
   ]
  },
  {
   "cell_type": "code",
   "execution_count": 70,
   "metadata": {},
   "outputs": [
    {
     "name": "stdout",
     "output_type": "stream",
     "text": [
      "The correlation between a permits project value and distance to the nearest transit station is 0.1771041108789006 with an associated p-value of 3.50402429361868e-77.\n"
     ]
    }
   ],
   "source": [
    "pearson_test = stats.pearsonr(permits_df.ProjectValue, permits_df.DistanceToNearestTransitStation)\n",
    "print(f\"The correlation between a permits project value and distance to the nearest transit station is {pearson_test[0]} with an associated p-value of {pearson_test[1]}.\")"
   ]
  },
  {
   "cell_type": "markdown",
   "metadata": {},
   "source": [
    "Given that the proximity to transit station has a statistically significant impact on a projects value, it will be removed from the analysis."
   ]
  },
  {
   "cell_type": "markdown",
   "metadata": {},
   "source": [
    "## Creating the Final Dataframe for Machine Learning"
   ]
  },
  {
   "cell_type": "code",
   "execution_count": 71,
   "metadata": {},
   "outputs": [
    {
     "data": {
      "text/html": [
       "<div>\n",
       "<style scoped>\n",
       "    .dataframe tbody tr th:only-of-type {\n",
       "        vertical-align: middle;\n",
       "    }\n",
       "\n",
       "    .dataframe tbody tr th {\n",
       "        vertical-align: top;\n",
       "    }\n",
       "\n",
       "    .dataframe thead th {\n",
       "        text-align: right;\n",
       "    }\n",
       "</style>\n",
       "<table border=\"1\" class=\"dataframe\">\n",
       "  <thead>\n",
       "    <tr style=\"text-align: right;\">\n",
       "      <th></th>\n",
       "      <th>geometry</th>\n",
       "      <th>ProjectValue</th>\n",
       "      <th>WorkType</th>\n",
       "      <th>Area</th>\n",
       "      <th>PropertyUseRevised</th>\n",
       "      <th>BusinessImprovementArea</th>\n",
       "      <th>FloodPlain</th>\n",
       "      <th>DistanceToNearestTransitStation</th>\n",
       "    </tr>\n",
       "  </thead>\n",
       "  <tbody>\n",
       "    <tr>\n",
       "      <th>1</th>\n",
       "      <td>POINT (-13700820.233 6312100.157)</td>\n",
       "      <td>10.225571</td>\n",
       "      <td>Addition</td>\n",
       "      <td>Victoria-Fraserview</td>\n",
       "      <td>Dwelling Uses</td>\n",
       "      <td>0.0</td>\n",
       "      <td>0.0</td>\n",
       "      <td>8.434411</td>\n",
       "    </tr>\n",
       "    <tr>\n",
       "      <th>2</th>\n",
       "      <td>POINT (-13711148.733 6313699.791)</td>\n",
       "      <td>12.611538</td>\n",
       "      <td>Addition</td>\n",
       "      <td>Kerrisdale</td>\n",
       "      <td>Dwelling Uses</td>\n",
       "      <td>0.0</td>\n",
       "      <td>0.0</td>\n",
       "      <td>8.684704</td>\n",
       "    </tr>\n",
       "    <tr>\n",
       "      <th>16</th>\n",
       "      <td>POINT (-13701703.408 6320186.647)</td>\n",
       "      <td>12.206073</td>\n",
       "      <td>Addition</td>\n",
       "      <td>Strathcona</td>\n",
       "      <td>Office Uses</td>\n",
       "      <td>0.0</td>\n",
       "      <td>0.0</td>\n",
       "      <td>6.437973</td>\n",
       "    </tr>\n",
       "    <tr>\n",
       "      <th>22</th>\n",
       "      <td>POINT (-13712752.502 6315338.073)</td>\n",
       "      <td>13.772081</td>\n",
       "      <td>New Building</td>\n",
       "      <td>Dunbar-Southlands</td>\n",
       "      <td>Dwelling Uses</td>\n",
       "      <td>0.0</td>\n",
       "      <td>0.0</td>\n",
       "      <td>8.932829</td>\n",
       "    </tr>\n",
       "    <tr>\n",
       "      <th>26</th>\n",
       "      <td>POINT (-13700627.004 6318915.873)</td>\n",
       "      <td>12.765688</td>\n",
       "      <td>Addition</td>\n",
       "      <td>Kensington-Cedar Cottage</td>\n",
       "      <td>Institutional Uses</td>\n",
       "      <td>0.0</td>\n",
       "      <td>0.0</td>\n",
       "      <td>6.688076</td>\n",
       "    </tr>\n",
       "  </tbody>\n",
       "</table>\n",
       "</div>"
      ],
      "text/plain": [
       "                             geometry  ProjectValue      WorkType  \\\n",
       "1   POINT (-13700820.233 6312100.157)     10.225571      Addition   \n",
       "2   POINT (-13711148.733 6313699.791)     12.611538      Addition   \n",
       "16  POINT (-13701703.408 6320186.647)     12.206073      Addition   \n",
       "22  POINT (-13712752.502 6315338.073)     13.772081  New Building   \n",
       "26  POINT (-13700627.004 6318915.873)     12.765688      Addition   \n",
       "\n",
       "                        Area  PropertyUseRevised  BusinessImprovementArea  \\\n",
       "1        Victoria-Fraserview       Dwelling Uses                      0.0   \n",
       "2                 Kerrisdale       Dwelling Uses                      0.0   \n",
       "16                Strathcona         Office Uses                      0.0   \n",
       "22         Dunbar-Southlands       Dwelling Uses                      0.0   \n",
       "26  Kensington-Cedar Cottage  Institutional Uses                      0.0   \n",
       "\n",
       "    FloodPlain  DistanceToNearestTransitStation  \n",
       "1          0.0                         8.434411  \n",
       "2          0.0                         8.684704  \n",
       "16         0.0                         6.437973  \n",
       "22         0.0                         8.932829  \n",
       "26         0.0                         6.688076  "
      ]
     },
     "execution_count": 71,
     "metadata": {},
     "output_type": "execute_result"
    }
   ],
   "source": [
    "permits_df.head()"
   ]
  },
  {
   "cell_type": "code",
   "execution_count": 72,
   "metadata": {},
   "outputs": [],
   "source": [
    "#Drop geometry and distance to transit station\n",
    "\n",
    "final_cols_to_drop = ['geometry', 'DistanceToNearestTransitStation']\n",
    "\n",
    "permits_df.drop(columns = final_cols_to_drop, inplace = True)"
   ]
  },
  {
   "cell_type": "code",
   "execution_count": 73,
   "metadata": {},
   "outputs": [
    {
     "data": {
      "text/html": [
       "<div>\n",
       "<style scoped>\n",
       "    .dataframe tbody tr th:only-of-type {\n",
       "        vertical-align: middle;\n",
       "    }\n",
       "\n",
       "    .dataframe tbody tr th {\n",
       "        vertical-align: top;\n",
       "    }\n",
       "\n",
       "    .dataframe thead th {\n",
       "        text-align: right;\n",
       "    }\n",
       "</style>\n",
       "<table border=\"1\" class=\"dataframe\">\n",
       "  <thead>\n",
       "    <tr style=\"text-align: right;\">\n",
       "      <th></th>\n",
       "      <th>ProjectValue</th>\n",
       "      <th>WorkType</th>\n",
       "      <th>Area</th>\n",
       "      <th>PropertyUseRevised</th>\n",
       "      <th>BusinessImprovementArea</th>\n",
       "      <th>FloodPlain</th>\n",
       "    </tr>\n",
       "  </thead>\n",
       "  <tbody>\n",
       "    <tr>\n",
       "      <th>1</th>\n",
       "      <td>10.225571</td>\n",
       "      <td>Addition</td>\n",
       "      <td>Victoria-Fraserview</td>\n",
       "      <td>Dwelling Uses</td>\n",
       "      <td>0.0</td>\n",
       "      <td>0.0</td>\n",
       "    </tr>\n",
       "    <tr>\n",
       "      <th>2</th>\n",
       "      <td>12.611538</td>\n",
       "      <td>Addition</td>\n",
       "      <td>Kerrisdale</td>\n",
       "      <td>Dwelling Uses</td>\n",
       "      <td>0.0</td>\n",
       "      <td>0.0</td>\n",
       "    </tr>\n",
       "    <tr>\n",
       "      <th>16</th>\n",
       "      <td>12.206073</td>\n",
       "      <td>Addition</td>\n",
       "      <td>Strathcona</td>\n",
       "      <td>Office Uses</td>\n",
       "      <td>0.0</td>\n",
       "      <td>0.0</td>\n",
       "    </tr>\n",
       "    <tr>\n",
       "      <th>22</th>\n",
       "      <td>13.772081</td>\n",
       "      <td>New Building</td>\n",
       "      <td>Dunbar-Southlands</td>\n",
       "      <td>Dwelling Uses</td>\n",
       "      <td>0.0</td>\n",
       "      <td>0.0</td>\n",
       "    </tr>\n",
       "    <tr>\n",
       "      <th>26</th>\n",
       "      <td>12.765688</td>\n",
       "      <td>Addition</td>\n",
       "      <td>Kensington-Cedar Cottage</td>\n",
       "      <td>Institutional Uses</td>\n",
       "      <td>0.0</td>\n",
       "      <td>0.0</td>\n",
       "    </tr>\n",
       "  </tbody>\n",
       "</table>\n",
       "</div>"
      ],
      "text/plain": [
       "    ProjectValue      WorkType                      Area  PropertyUseRevised  \\\n",
       "1      10.225571      Addition       Victoria-Fraserview       Dwelling Uses   \n",
       "2      12.611538      Addition                Kerrisdale       Dwelling Uses   \n",
       "16     12.206073      Addition                Strathcona         Office Uses   \n",
       "22     13.772081  New Building         Dunbar-Southlands       Dwelling Uses   \n",
       "26     12.765688      Addition  Kensington-Cedar Cottage  Institutional Uses   \n",
       "\n",
       "    BusinessImprovementArea  FloodPlain  \n",
       "1                       0.0         0.0  \n",
       "2                       0.0         0.0  \n",
       "16                      0.0         0.0  \n",
       "22                      0.0         0.0  \n",
       "26                      0.0         0.0  "
      ]
     },
     "execution_count": 73,
     "metadata": {},
     "output_type": "execute_result"
    }
   ],
   "source": [
    "permits_df.head()"
   ]
  },
  {
   "cell_type": "code",
   "execution_count": 74,
   "metadata": {},
   "outputs": [],
   "source": [
    "# One hot encode work type, area, and property use\n",
    "\n",
    "final_cat_col = ['WorkType','Area','PropertyUseRevised']\n",
    "\n",
    "model = pd.get_dummies(permits_df,columns=final_cat_col, drop_first = True)"
   ]
  },
  {
   "cell_type": "code",
   "execution_count": 75,
   "metadata": {},
   "outputs": [
    {
     "data": {
      "text/html": [
       "<div>\n",
       "<style scoped>\n",
       "    .dataframe tbody tr th:only-of-type {\n",
       "        vertical-align: middle;\n",
       "    }\n",
       "\n",
       "    .dataframe tbody tr th {\n",
       "        vertical-align: top;\n",
       "    }\n",
       "\n",
       "    .dataframe thead th {\n",
       "        text-align: right;\n",
       "    }\n",
       "</style>\n",
       "<table border=\"1\" class=\"dataframe\">\n",
       "  <thead>\n",
       "    <tr style=\"text-align: right;\">\n",
       "      <th></th>\n",
       "      <th>ProjectValue</th>\n",
       "      <th>BusinessImprovementArea</th>\n",
       "      <th>FloodPlain</th>\n",
       "      <th>WorkType_Demolition</th>\n",
       "      <th>WorkType_New Building</th>\n",
       "      <th>Area_Downtown</th>\n",
       "      <th>Area_Dunbar-Southlands</th>\n",
       "      <th>Area_Fairview</th>\n",
       "      <th>Area_Grandview-Woodland</th>\n",
       "      <th>Area_Hastings-Sunrise</th>\n",
       "      <th>...</th>\n",
       "      <th>Area_Victoria-Fraserview</th>\n",
       "      <th>Area_West End</th>\n",
       "      <th>Area_West Point Grey</th>\n",
       "      <th>PropertyUseRevised_Dwelling Uses</th>\n",
       "      <th>PropertyUseRevised_Institutional Uses</th>\n",
       "      <th>PropertyUseRevised_Manufacturing Uses</th>\n",
       "      <th>PropertyUseRevised_Mixed Uses</th>\n",
       "      <th>PropertyUseRevised_Office Uses</th>\n",
       "      <th>PropertyUseRevised_Retail Uses</th>\n",
       "      <th>PropertyUseRevised_Service Uses</th>\n",
       "    </tr>\n",
       "  </thead>\n",
       "  <tbody>\n",
       "    <tr>\n",
       "      <th>1</th>\n",
       "      <td>10.225571</td>\n",
       "      <td>0.0</td>\n",
       "      <td>0.0</td>\n",
       "      <td>0</td>\n",
       "      <td>0</td>\n",
       "      <td>0</td>\n",
       "      <td>0</td>\n",
       "      <td>0</td>\n",
       "      <td>0</td>\n",
       "      <td>0</td>\n",
       "      <td>...</td>\n",
       "      <td>1</td>\n",
       "      <td>0</td>\n",
       "      <td>0</td>\n",
       "      <td>1</td>\n",
       "      <td>0</td>\n",
       "      <td>0</td>\n",
       "      <td>0</td>\n",
       "      <td>0</td>\n",
       "      <td>0</td>\n",
       "      <td>0</td>\n",
       "    </tr>\n",
       "    <tr>\n",
       "      <th>2</th>\n",
       "      <td>12.611538</td>\n",
       "      <td>0.0</td>\n",
       "      <td>0.0</td>\n",
       "      <td>0</td>\n",
       "      <td>0</td>\n",
       "      <td>0</td>\n",
       "      <td>0</td>\n",
       "      <td>0</td>\n",
       "      <td>0</td>\n",
       "      <td>0</td>\n",
       "      <td>...</td>\n",
       "      <td>0</td>\n",
       "      <td>0</td>\n",
       "      <td>0</td>\n",
       "      <td>1</td>\n",
       "      <td>0</td>\n",
       "      <td>0</td>\n",
       "      <td>0</td>\n",
       "      <td>0</td>\n",
       "      <td>0</td>\n",
       "      <td>0</td>\n",
       "    </tr>\n",
       "    <tr>\n",
       "      <th>16</th>\n",
       "      <td>12.206073</td>\n",
       "      <td>0.0</td>\n",
       "      <td>0.0</td>\n",
       "      <td>0</td>\n",
       "      <td>0</td>\n",
       "      <td>0</td>\n",
       "      <td>0</td>\n",
       "      <td>0</td>\n",
       "      <td>0</td>\n",
       "      <td>0</td>\n",
       "      <td>...</td>\n",
       "      <td>0</td>\n",
       "      <td>0</td>\n",
       "      <td>0</td>\n",
       "      <td>0</td>\n",
       "      <td>0</td>\n",
       "      <td>0</td>\n",
       "      <td>0</td>\n",
       "      <td>1</td>\n",
       "      <td>0</td>\n",
       "      <td>0</td>\n",
       "    </tr>\n",
       "    <tr>\n",
       "      <th>22</th>\n",
       "      <td>13.772081</td>\n",
       "      <td>0.0</td>\n",
       "      <td>0.0</td>\n",
       "      <td>0</td>\n",
       "      <td>1</td>\n",
       "      <td>0</td>\n",
       "      <td>1</td>\n",
       "      <td>0</td>\n",
       "      <td>0</td>\n",
       "      <td>0</td>\n",
       "      <td>...</td>\n",
       "      <td>0</td>\n",
       "      <td>0</td>\n",
       "      <td>0</td>\n",
       "      <td>1</td>\n",
       "      <td>0</td>\n",
       "      <td>0</td>\n",
       "      <td>0</td>\n",
       "      <td>0</td>\n",
       "      <td>0</td>\n",
       "      <td>0</td>\n",
       "    </tr>\n",
       "    <tr>\n",
       "      <th>26</th>\n",
       "      <td>12.765688</td>\n",
       "      <td>0.0</td>\n",
       "      <td>0.0</td>\n",
       "      <td>0</td>\n",
       "      <td>0</td>\n",
       "      <td>0</td>\n",
       "      <td>0</td>\n",
       "      <td>0</td>\n",
       "      <td>0</td>\n",
       "      <td>0</td>\n",
       "      <td>...</td>\n",
       "      <td>0</td>\n",
       "      <td>0</td>\n",
       "      <td>0</td>\n",
       "      <td>0</td>\n",
       "      <td>1</td>\n",
       "      <td>0</td>\n",
       "      <td>0</td>\n",
       "      <td>0</td>\n",
       "      <td>0</td>\n",
       "      <td>0</td>\n",
       "    </tr>\n",
       "  </tbody>\n",
       "</table>\n",
       "<p>5 rows × 33 columns</p>\n",
       "</div>"
      ],
      "text/plain": [
       "    ProjectValue  BusinessImprovementArea  FloodPlain  WorkType_Demolition  \\\n",
       "1      10.225571                      0.0         0.0                    0   \n",
       "2      12.611538                      0.0         0.0                    0   \n",
       "16     12.206073                      0.0         0.0                    0   \n",
       "22     13.772081                      0.0         0.0                    0   \n",
       "26     12.765688                      0.0         0.0                    0   \n",
       "\n",
       "    WorkType_New Building  Area_Downtown  Area_Dunbar-Southlands  \\\n",
       "1                       0              0                       0   \n",
       "2                       0              0                       0   \n",
       "16                      0              0                       0   \n",
       "22                      1              0                       1   \n",
       "26                      0              0                       0   \n",
       "\n",
       "    Area_Fairview  Area_Grandview-Woodland  Area_Hastings-Sunrise  ...  \\\n",
       "1               0                        0                      0  ...   \n",
       "2               0                        0                      0  ...   \n",
       "16              0                        0                      0  ...   \n",
       "22              0                        0                      0  ...   \n",
       "26              0                        0                      0  ...   \n",
       "\n",
       "    Area_Victoria-Fraserview  Area_West End  Area_West Point Grey  \\\n",
       "1                          1              0                     0   \n",
       "2                          0              0                     0   \n",
       "16                         0              0                     0   \n",
       "22                         0              0                     0   \n",
       "26                         0              0                     0   \n",
       "\n",
       "    PropertyUseRevised_Dwelling Uses  PropertyUseRevised_Institutional Uses  \\\n",
       "1                                  1                                      0   \n",
       "2                                  1                                      0   \n",
       "16                                 0                                      0   \n",
       "22                                 1                                      0   \n",
       "26                                 0                                      1   \n",
       "\n",
       "    PropertyUseRevised_Manufacturing Uses  PropertyUseRevised_Mixed Uses  \\\n",
       "1                                       0                              0   \n",
       "2                                       0                              0   \n",
       "16                                      0                              0   \n",
       "22                                      0                              0   \n",
       "26                                      0                              0   \n",
       "\n",
       "    PropertyUseRevised_Office Uses  PropertyUseRevised_Retail Uses  \\\n",
       "1                                0                               0   \n",
       "2                                0                               0   \n",
       "16                               1                               0   \n",
       "22                               0                               0   \n",
       "26                               0                               0   \n",
       "\n",
       "    PropertyUseRevised_Service Uses  \n",
       "1                                 0  \n",
       "2                                 0  \n",
       "16                                0  \n",
       "22                                0  \n",
       "26                                0  \n",
       "\n",
       "[5 rows x 33 columns]"
      ]
     },
     "execution_count": 75,
     "metadata": {},
     "output_type": "execute_result"
    }
   ],
   "source": [
    "model.head()"
   ]
  },
  {
   "cell_type": "code",
   "execution_count": 76,
   "metadata": {},
   "outputs": [],
   "source": [
    "#Establish X and y\n",
    "\n",
    "y = model.ProjectValue\n",
    "X = model.drop(['ProjectValue'], axis =1)"
   ]
  },
  {
   "cell_type": "code",
   "execution_count": 96,
   "metadata": {},
   "outputs": [],
   "source": [
    "#Import various models and performance metrics\n",
    "\n",
    "from sklearn.linear_model import LinearRegression\n",
    "from sklearn.ensemble import RandomForestRegressor, GradientBoostingRegressor\n",
    "from sklearn.model_selection import train_test_split\n",
    "from sklearn.pipeline import make_pipeline\n",
    "from sklearn.model_selection import GridSearchCV, KFold, StratifiedKFold\n",
    "from sklearn.metrics import mean_absolute_error, mean_squared_error, r2_score"
   ]
  },
  {
   "cell_type": "code",
   "execution_count": 78,
   "metadata": {},
   "outputs": [],
   "source": [
    "#Function for evaluating model performance\n",
    "\n",
    "def print_evaluate(true, predicted):  \n",
    "    mae = mean_absolute_error(true, predicted)\n",
    "    rmse = np.sqrt(mean_squared_error(true, predicted))\n",
    "    r_2 = r2_score(true, predicted)\n",
    "    print('Mean Absolute Error:', np.round(mae))\n",
    "    print('Root Mean Squared Error:', np.round(rmse))\n",
    "    print('R2 Score:', r_2)\n",
    "    print('__________________________________')"
   ]
  },
  {
   "cell_type": "markdown",
   "metadata": {},
   "source": [
    "# Establish A Baseline Model With Linear Regression"
   ]
  },
  {
   "cell_type": "code",
   "execution_count": 79,
   "metadata": {},
   "outputs": [],
   "source": [
    "#Train test split the model using an 80-20 proportion\n",
    "\n",
    "X_train, X_test, y_train, y_test = train_test_split(X, y, test_size=0.20, random_state=42)"
   ]
  },
  {
   "cell_type": "code",
   "execution_count": 95,
   "metadata": {},
   "outputs": [
    {
     "name": "stdout",
     "output_type": "stream",
     "text": [
      "Mean Absolute Error: 188124.0\n",
      "Root Mean Squared Error: 282922.0\n",
      "R2 Score: 0.2068946384302751\n",
      "__________________________________\n"
     ]
    }
   ],
   "source": [
    "#Create instance of linear regression model\n",
    "regr = LinearRegression()\n",
    "\n",
    "#Fit model\n",
    "regr.fit(X_train, y_train)\n",
    "\n",
    "#Convert the log values back to original scale using np.exp\n",
    "preds = np.exp(regr.predict(X_test))\n",
    "\n",
    "print_evaluate(np.exp(y_test), preds)\n"
   ]
  },
  {
   "cell_type": "markdown",
   "metadata": {},
   "source": [
    "# Grid Search Ensemble Algorithms"
   ]
  },
  {
   "cell_type": "code",
   "execution_count": 81,
   "metadata": {},
   "outputs": [],
   "source": [
    "#Create a pipeline for each model that is going to be tested.\n",
    "\n",
    "pipelines = {\n",
    "    'RandomForest': make_pipeline(RandomForestRegressor(random_state=1)),    \n",
    "    'GradientBoost': make_pipeline(GradientBoostingRegressor(random_state=1))\n",
    "}"
   ]
  },
  {
   "cell_type": "code",
   "execution_count": 82,
   "metadata": {},
   "outputs": [],
   "source": [
    "#Establish all the hyperparameters in a dictionary that are going to be tested on the training sets\n",
    "\n",
    "hyperparameters = {\n",
    "\n",
    "'RandomForest' : {\n",
    "     'randomforestregressor__n_estimators' : [50, 100, 150, 200],\n",
    "     'randomforestregressor__min_samples_leaf' : [1, 3, 5],\n",
    "     'randomforestregressor__max_depth' : [3, 5, 10, 15],    \n",
    "    },\n",
    "\n",
    "'GradientBoost' : {\n",
    "    'gradientboostingregressor__n_estimators' : [50, 100, 150, 200],\n",
    "    'gradientboostingregressor__learning_rate' : [0.05, 0.1, 0.15, 0.3],\n",
    "    'gradientboostingregressor__max_depth' : [3, 6, 10, 15]\n",
    "    }\n",
    "    \n",
    "}"
   ]
  },
  {
   "cell_type": "code",
   "execution_count": 99,
   "metadata": {},
   "outputs": [],
   "source": [
    "#Use Kfold to create 5 shuffled training sets that will be passed to each model to test hyperparameters\n",
    "\n",
    "kf = KFold(n_splits=5, shuffle=True, random_state=42)"
   ]
  },
  {
   "cell_type": "code",
   "execution_count": 100,
   "metadata": {},
   "outputs": [],
   "source": [
    "fitted_models = {} #Establishes a dictionary that will hold the model and its best performing hyperparameters\n",
    "\n",
    "# Grid search each model and hyperparameter with stratified 5 fold cross validation\n",
    "\n",
    "for name, pipeline in pipelines.items():\n",
    "    model = GridSearchCV(pipeline, \n",
    "                         hyperparameters[name], \n",
    "                         cv=kf,\n",
    "                         return_train_score = False)\n",
    "    model.fit(X_train, y_train)\n",
    "    fitted_models[name] = model"
   ]
  },
  {
   "cell_type": "code",
   "execution_count": 101,
   "metadata": {},
   "outputs": [
    {
     "name": "stdout",
     "output_type": "stream",
     "text": [
      "RandomForest\n",
      " — — — — \n",
      "Mean Absolute Error: 187114.4700202999\n",
      "Root Mean Squared Error: 282560.59714609187\n",
      "R2 Score: 0.20891795225263887\n",
      "\n",
      "This models best performing parameters are {'randomforestregressor__max_depth': 10, 'randomforestregressor__min_samples_leaf': 5, 'randomforestregressor__n_estimators': 200}\n",
      "\n",
      "GradientBoost\n",
      " — — — — \n",
      "Mean Absolute Error: 188699.67779379225\n",
      "Root Mean Squared Error: 284677.8628339618\n",
      "R2 Score: 0.19701816057978638\n",
      "\n",
      "This models best performing parameters are {'gradientboostingregressor__learning_rate': 0.05, 'gradientboostingregressor__max_depth': 3, 'gradientboostingregressor__n_estimators': 200}\n",
      "\n"
     ]
    }
   ],
   "source": [
    "# Calculate MAE, RMSE, and R2 score by passing X_test and y_test to each model. Print out the best performing parameters using the best_params_ command\n",
    "# Using the np.exp will convert the log values back to their original scale\n",
    "\n",
    "for name, model in fitted_models.items():\n",
    "   pred = model.predict(X_test)\n",
    "   print(name)\n",
    "   print(' — — — — ')\n",
    "   print('Mean Absolute Error:', mean_absolute_error(np.exp(y_test), np.exp(pred)))\n",
    "   print('Root Mean Squared Error:', np.sqrt(mean_squared_error(np.exp(y_test), np.exp(pred))))\n",
    "   print('R2 Score:', r2_score(np.exp(y_test), np.exp(pred)))   \n",
    "   print() \n",
    "   print('This models best performing parameters are ' + str(model.best_params_))\n",
    "   print()"
   ]
  }
 ],
 "metadata": {
  "kernelspec": {
   "display_name": "Python 3.8.12 ('geo_env')",
   "language": "python",
   "name": "python3"
  },
  "language_info": {
   "codemirror_mode": {
    "name": "ipython",
    "version": 3
   },
   "file_extension": ".py",
   "mimetype": "text/x-python",
   "name": "python",
   "nbconvert_exporter": "python",
   "pygments_lexer": "ipython3",
   "version": "3.8.12"
  },
  "orig_nbformat": 4,
  "vscode": {
   "interpreter": {
    "hash": "ec7f930024ee9e7c04341ec7357fc1cde4a62cd64cda91380f1e1508482ff76c"
   }
  }
 },
 "nbformat": 4,
 "nbformat_minor": 2
}
