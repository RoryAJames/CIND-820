{
 "cells": [
  {
   "cell_type": "markdown",
   "metadata": {},
   "source": [
    "https://opendata.vancouver.ca/explore/?disjunctive.features&disjunctive.theme&disjunctive.keyword&disjunctive.data-owner&disjunctive.data-team&sort=modified\n",
    "\n",
    "https://opendata.vancouver.ca/api/v2/console"
   ]
  },
  {
   "cell_type": "code",
   "execution_count": 1,
   "metadata": {},
   "outputs": [],
   "source": [
    "#Import packages\n",
    "\n",
    "import numpy as np\n",
    "import pandas as pd\n",
    "import geopandas as gpd\n",
    "import requests\n",
    "import seaborn as sns\n",
    "import matplotlib.pyplot as plt"
   ]
  },
  {
   "cell_type": "markdown",
   "metadata": {},
   "source": [
    "## Working With Building Permits Data"
   ]
  },
  {
   "cell_type": "code",
   "execution_count": 2,
   "metadata": {},
   "outputs": [],
   "source": [
    "\n",
    "\n",
    "url = 'https://opendata.vancouver.ca/api/v2/catalog/datasets/issued-building-permits/exports/geojson?limit=-1&offset=0&timezone=UTC'\n",
    "data = requests.get(url)\n",
    "permits_df = gpd.GeoDataFrame().from_features(data.json())\n",
    "permits_df = permits_df.set_crs('EPSG:4326').to_crs('EPSG:3857') # Set all geopandas dataframes to the same coordinate reference system"
   ]
  },
  {
   "cell_type": "code",
   "execution_count": 3,
   "metadata": {},
   "outputs": [
    {
     "data": {
      "text/html": [
       "<div>\n",
       "<style scoped>\n",
       "    .dataframe tbody tr th:only-of-type {\n",
       "        vertical-align: middle;\n",
       "    }\n",
       "\n",
       "    .dataframe tbody tr th {\n",
       "        vertical-align: top;\n",
       "    }\n",
       "\n",
       "    .dataframe thead th {\n",
       "        text-align: right;\n",
       "    }\n",
       "</style>\n",
       "<table border=\"1\" class=\"dataframe\">\n",
       "  <thead>\n",
       "    <tr style=\"text-align: right;\">\n",
       "      <th></th>\n",
       "      <th>geometry</th>\n",
       "      <th>permitnumber</th>\n",
       "      <th>permitnumbercreateddate</th>\n",
       "      <th>issuedate</th>\n",
       "      <th>permitelapseddays</th>\n",
       "      <th>projectvalue</th>\n",
       "      <th>typeofwork</th>\n",
       "      <th>address</th>\n",
       "      <th>projectdescription</th>\n",
       "      <th>permitcategory</th>\n",
       "      <th>...</th>\n",
       "      <th>applicantaddress</th>\n",
       "      <th>propertyuse</th>\n",
       "      <th>specificusecategory</th>\n",
       "      <th>buildingcontractor</th>\n",
       "      <th>buildingcontractoraddress</th>\n",
       "      <th>issueyear</th>\n",
       "      <th>geolocalarea</th>\n",
       "      <th>yearmonth</th>\n",
       "      <th>geo_point_2d</th>\n",
       "      <th>geom</th>\n",
       "    </tr>\n",
       "  </thead>\n",
       "  <tbody>\n",
       "    <tr>\n",
       "      <th>0</th>\n",
       "      <td>POINT (-13703478.999 6317938.424)</td>\n",
       "      <td>BP-2017-00906</td>\n",
       "      <td>2017-02-16</td>\n",
       "      <td>2017-11-22</td>\n",
       "      <td>279</td>\n",
       "      <td>8470000.0</td>\n",
       "      <td>New Building</td>\n",
       "      <td>209 E 20TH AVENUE, Vancouver, BC V1V 1V1</td>\n",
       "      <td>Certified Professional Program - New Building ...</td>\n",
       "      <td>None</td>\n",
       "      <td>...</td>\n",
       "      <td>2479 Kingsway\\r\\nVancouver, BC  V5R 5G8</td>\n",
       "      <td>[Dwelling Uses]</td>\n",
       "      <td>[Multiple Dwelling]</td>\n",
       "      <td>None</td>\n",
       "      <td>None</td>\n",
       "      <td>2017</td>\n",
       "      <td>Riley Park</td>\n",
       "      <td>2017-11</td>\n",
       "      <td>{'lon': -123.1004463, 'lat': 49.2532268}</td>\n",
       "      <td>NaN</td>\n",
       "    </tr>\n",
       "    <tr>\n",
       "      <th>1</th>\n",
       "      <td>POINT (-13705149.292 6311700.168)</td>\n",
       "      <td>BP-2018-02868</td>\n",
       "      <td>2018-05-30</td>\n",
       "      <td>2018-09-12</td>\n",
       "      <td>105</td>\n",
       "      <td>0.0</td>\n",
       "      <td>New Building</td>\n",
       "      <td>7527 YUKON STREET, Vancouver, BC V1V 1V1</td>\n",
       "      <td>Certified Professional Program - New Building ...</td>\n",
       "      <td>None</td>\n",
       "      <td>...</td>\n",
       "      <td>2479 Kingsway\\r\\nVancouver, BC  V5R 5G8</td>\n",
       "      <td>[Dwelling Uses]</td>\n",
       "      <td>[Multiple Dwelling]</td>\n",
       "      <td>None</td>\n",
       "      <td>None</td>\n",
       "      <td>2018</td>\n",
       "      <td>Marpole</td>\n",
       "      <td>2018-09</td>\n",
       "      <td>{'lon': -123.1154508, 'lat': 49.2166355}</td>\n",
       "      <td>NaN</td>\n",
       "    </tr>\n",
       "    <tr>\n",
       "      <th>2</th>\n",
       "      <td>POINT (-13705255.123 6311745.602)</td>\n",
       "      <td>BP-2018-02864</td>\n",
       "      <td>2018-05-30</td>\n",
       "      <td>2018-09-12</td>\n",
       "      <td>105</td>\n",
       "      <td>0.0</td>\n",
       "      <td>New Building</td>\n",
       "      <td>478 W 59TH AVENUE, Vancouver, BC V1V 1V1</td>\n",
       "      <td>Certified Professional Program - New Building ...</td>\n",
       "      <td>None</td>\n",
       "      <td>...</td>\n",
       "      <td>2479 Kingsway\\r\\nVancouver, BC  V5R 5G8</td>\n",
       "      <td>[Dwelling Uses]</td>\n",
       "      <td>[Multiple Dwelling]</td>\n",
       "      <td>None</td>\n",
       "      <td>None</td>\n",
       "      <td>2018</td>\n",
       "      <td>Marpole</td>\n",
       "      <td>2018-09</td>\n",
       "      <td>{'lon': -123.1164015, 'lat': 49.2169021}</td>\n",
       "      <td>NaN</td>\n",
       "    </tr>\n",
       "    <tr>\n",
       "      <th>3</th>\n",
       "      <td>POINT (-13698193.338 6315946.354)</td>\n",
       "      <td>BP-2019-05356</td>\n",
       "      <td>2019-11-26</td>\n",
       "      <td>2020-04-14</td>\n",
       "      <td>140</td>\n",
       "      <td>0.0</td>\n",
       "      <td>New Building</td>\n",
       "      <td>4795 SLOCAN STREET, Vancouver, BC V5R 2A2</td>\n",
       "      <td>Certified Professional Program - New Building ...</td>\n",
       "      <td>None</td>\n",
       "      <td>...</td>\n",
       "      <td>2479 Kingsway\\r\\nVancouver, BC  V5R 5G8</td>\n",
       "      <td>[Dwelling Uses]</td>\n",
       "      <td>[Multiple Dwelling]</td>\n",
       "      <td>None</td>\n",
       "      <td>None</td>\n",
       "      <td>2020</td>\n",
       "      <td>Renfrew-Collingwood</td>\n",
       "      <td>2020-04</td>\n",
       "      <td>{'lon': -123.0529644, 'lat': 49.241545}</td>\n",
       "      <td>NaN</td>\n",
       "    </tr>\n",
       "    <tr>\n",
       "      <th>4</th>\n",
       "      <td>POINT (-13706737.832 6311648.292)</td>\n",
       "      <td>BP-2019-05460</td>\n",
       "      <td>2019-12-02</td>\n",
       "      <td>2020-09-18</td>\n",
       "      <td>291</td>\n",
       "      <td>0.0</td>\n",
       "      <td>New Building</td>\n",
       "      <td>7563 OAK STREET, Vancouver, BC V6P 4A4</td>\n",
       "      <td>Certified Professional Program - New Building ...</td>\n",
       "      <td>None</td>\n",
       "      <td>...</td>\n",
       "      <td>2479 Kingsway\\r\\nVancouver, BC  V5R 5G8</td>\n",
       "      <td>[Dwelling Uses, Parking Uses]</td>\n",
       "      <td>[Multiple Dwelling, Parking Garage]</td>\n",
       "      <td>None</td>\n",
       "      <td>None</td>\n",
       "      <td>2020</td>\n",
       "      <td>Marpole</td>\n",
       "      <td>2020-09</td>\n",
       "      <td>{'lon': -123.1297209, 'lat': 49.2163311}</td>\n",
       "      <td>NaN</td>\n",
       "    </tr>\n",
       "  </tbody>\n",
       "</table>\n",
       "<p>5 rows × 21 columns</p>\n",
       "</div>"
      ],
      "text/plain": [
       "                            geometry   permitnumber permitnumbercreateddate  \\\n",
       "0  POINT (-13703478.999 6317938.424)  BP-2017-00906              2017-02-16   \n",
       "1  POINT (-13705149.292 6311700.168)  BP-2018-02868              2018-05-30   \n",
       "2  POINT (-13705255.123 6311745.602)  BP-2018-02864              2018-05-30   \n",
       "3  POINT (-13698193.338 6315946.354)  BP-2019-05356              2019-11-26   \n",
       "4  POINT (-13706737.832 6311648.292)  BP-2019-05460              2019-12-02   \n",
       "\n",
       "    issuedate  permitelapseddays  projectvalue    typeofwork  \\\n",
       "0  2017-11-22                279     8470000.0  New Building   \n",
       "1  2018-09-12                105           0.0  New Building   \n",
       "2  2018-09-12                105           0.0  New Building   \n",
       "3  2020-04-14                140           0.0  New Building   \n",
       "4  2020-09-18                291           0.0  New Building   \n",
       "\n",
       "                                     address  \\\n",
       "0   209 E 20TH AVENUE, Vancouver, BC V1V 1V1   \n",
       "1   7527 YUKON STREET, Vancouver, BC V1V 1V1   \n",
       "2   478 W 59TH AVENUE, Vancouver, BC V1V 1V1   \n",
       "3  4795 SLOCAN STREET, Vancouver, BC V5R 2A2   \n",
       "4     7563 OAK STREET, Vancouver, BC V6P 4A4   \n",
       "\n",
       "                                  projectdescription permitcategory  ...  \\\n",
       "0  Certified Professional Program - New Building ...           None  ...   \n",
       "1  Certified Professional Program - New Building ...           None  ...   \n",
       "2  Certified Professional Program - New Building ...           None  ...   \n",
       "3  Certified Professional Program - New Building ...           None  ...   \n",
       "4  Certified Professional Program - New Building ...           None  ...   \n",
       "\n",
       "                          applicantaddress                    propertyuse  \\\n",
       "0  2479 Kingsway\\r\\nVancouver, BC  V5R 5G8                [Dwelling Uses]   \n",
       "1  2479 Kingsway\\r\\nVancouver, BC  V5R 5G8                [Dwelling Uses]   \n",
       "2  2479 Kingsway\\r\\nVancouver, BC  V5R 5G8                [Dwelling Uses]   \n",
       "3  2479 Kingsway\\r\\nVancouver, BC  V5R 5G8                [Dwelling Uses]   \n",
       "4  2479 Kingsway\\r\\nVancouver, BC  V5R 5G8  [Dwelling Uses, Parking Uses]   \n",
       "\n",
       "                   specificusecategory buildingcontractor  \\\n",
       "0                  [Multiple Dwelling]               None   \n",
       "1                  [Multiple Dwelling]               None   \n",
       "2                  [Multiple Dwelling]               None   \n",
       "3                  [Multiple Dwelling]               None   \n",
       "4  [Multiple Dwelling, Parking Garage]               None   \n",
       "\n",
       "  buildingcontractoraddress issueyear         geolocalarea yearmonth  \\\n",
       "0                      None      2017           Riley Park   2017-11   \n",
       "1                      None      2018              Marpole   2018-09   \n",
       "2                      None      2018              Marpole   2018-09   \n",
       "3                      None      2020  Renfrew-Collingwood   2020-04   \n",
       "4                      None      2020              Marpole   2020-09   \n",
       "\n",
       "                               geo_point_2d geom  \n",
       "0  {'lon': -123.1004463, 'lat': 49.2532268}  NaN  \n",
       "1  {'lon': -123.1154508, 'lat': 49.2166355}  NaN  \n",
       "2  {'lon': -123.1164015, 'lat': 49.2169021}  NaN  \n",
       "3   {'lon': -123.0529644, 'lat': 49.241545}  NaN  \n",
       "4  {'lon': -123.1297209, 'lat': 49.2163311}  NaN  \n",
       "\n",
       "[5 rows x 21 columns]"
      ]
     },
     "execution_count": 3,
     "metadata": {},
     "output_type": "execute_result"
    }
   ],
   "source": [
    "permits_df.head()"
   ]
  },
  {
   "cell_type": "markdown",
   "metadata": {},
   "source": [
    "### Data Cleaning & Preparation"
   ]
  },
  {
   "cell_type": "code",
   "execution_count": 4,
   "metadata": {},
   "outputs": [
    {
     "name": "stdout",
     "output_type": "stream",
     "text": [
      "<class 'geopandas.geodataframe.GeoDataFrame'>\n",
      "RangeIndex: 33961 entries, 0 to 33960\n",
      "Data columns (total 21 columns):\n",
      " #   Column                     Non-Null Count  Dtype   \n",
      "---  ------                     --------------  -----   \n",
      " 0   geometry                   33617 non-null  geometry\n",
      " 1   permitnumber               33961 non-null  object  \n",
      " 2   permitnumbercreateddate    33961 non-null  object  \n",
      " 3   issuedate                  33961 non-null  object  \n",
      " 4   permitelapseddays          33961 non-null  int64   \n",
      " 5   projectvalue               33961 non-null  float64 \n",
      " 6   typeofwork                 33961 non-null  object  \n",
      " 7   address                    33896 non-null  object  \n",
      " 8   projectdescription         33961 non-null  object  \n",
      " 9   permitcategory             19372 non-null  object  \n",
      " 10  applicant                  33961 non-null  object  \n",
      " 11  applicantaddress           33875 non-null  object  \n",
      " 12  propertyuse                33956 non-null  object  \n",
      " 13  specificusecategory        33955 non-null  object  \n",
      " 14  buildingcontractor         21107 non-null  object  \n",
      " 15  buildingcontractoraddress  14799 non-null  object  \n",
      " 16  issueyear                  33961 non-null  object  \n",
      " 17  geolocalarea               33610 non-null  object  \n",
      " 18  yearmonth                  33961 non-null  object  \n",
      " 19  geo_point_2d               33617 non-null  object  \n",
      " 20  geom                       0 non-null      float64 \n",
      "dtypes: float64(2), geometry(1), int64(1), object(17)\n",
      "memory usage: 5.4+ MB\n"
     ]
    }
   ],
   "source": [
    "#Check data types\n",
    "\n",
    "permits_df.info()"
   ]
  },
  {
   "cell_type": "code",
   "execution_count": 5,
   "metadata": {},
   "outputs": [
    {
     "data": {
      "text/html": [
       "<div>\n",
       "<style scoped>\n",
       "    .dataframe tbody tr th:only-of-type {\n",
       "        vertical-align: middle;\n",
       "    }\n",
       "\n",
       "    .dataframe tbody tr th {\n",
       "        vertical-align: top;\n",
       "    }\n",
       "\n",
       "    .dataframe thead th {\n",
       "        text-align: right;\n",
       "    }\n",
       "</style>\n",
       "<table border=\"1\" class=\"dataframe\">\n",
       "  <thead>\n",
       "    <tr style=\"text-align: right;\">\n",
       "      <th></th>\n",
       "      <th>geometry</th>\n",
       "      <th>projectvalue</th>\n",
       "      <th>typeofwork</th>\n",
       "      <th>propertyuse</th>\n",
       "      <th>issueyear</th>\n",
       "      <th>geolocalarea</th>\n",
       "    </tr>\n",
       "  </thead>\n",
       "  <tbody>\n",
       "    <tr>\n",
       "      <th>0</th>\n",
       "      <td>POINT (-13703478.999 6317938.424)</td>\n",
       "      <td>8470000.0</td>\n",
       "      <td>New Building</td>\n",
       "      <td>[Dwelling Uses]</td>\n",
       "      <td>2017</td>\n",
       "      <td>Riley Park</td>\n",
       "    </tr>\n",
       "    <tr>\n",
       "      <th>1</th>\n",
       "      <td>POINT (-13705149.292 6311700.168)</td>\n",
       "      <td>0.0</td>\n",
       "      <td>New Building</td>\n",
       "      <td>[Dwelling Uses]</td>\n",
       "      <td>2018</td>\n",
       "      <td>Marpole</td>\n",
       "    </tr>\n",
       "    <tr>\n",
       "      <th>2</th>\n",
       "      <td>POINT (-13705255.123 6311745.602)</td>\n",
       "      <td>0.0</td>\n",
       "      <td>New Building</td>\n",
       "      <td>[Dwelling Uses]</td>\n",
       "      <td>2018</td>\n",
       "      <td>Marpole</td>\n",
       "    </tr>\n",
       "    <tr>\n",
       "      <th>3</th>\n",
       "      <td>POINT (-13698193.338 6315946.354)</td>\n",
       "      <td>0.0</td>\n",
       "      <td>New Building</td>\n",
       "      <td>[Dwelling Uses]</td>\n",
       "      <td>2020</td>\n",
       "      <td>Renfrew-Collingwood</td>\n",
       "    </tr>\n",
       "    <tr>\n",
       "      <th>4</th>\n",
       "      <td>POINT (-13706737.832 6311648.292)</td>\n",
       "      <td>0.0</td>\n",
       "      <td>New Building</td>\n",
       "      <td>[Dwelling Uses, Parking Uses]</td>\n",
       "      <td>2020</td>\n",
       "      <td>Marpole</td>\n",
       "    </tr>\n",
       "  </tbody>\n",
       "</table>\n",
       "</div>"
      ],
      "text/plain": [
       "                            geometry  projectvalue    typeofwork  \\\n",
       "0  POINT (-13703478.999 6317938.424)     8470000.0  New Building   \n",
       "1  POINT (-13705149.292 6311700.168)           0.0  New Building   \n",
       "2  POINT (-13705255.123 6311745.602)           0.0  New Building   \n",
       "3  POINT (-13698193.338 6315946.354)           0.0  New Building   \n",
       "4  POINT (-13706737.832 6311648.292)           0.0  New Building   \n",
       "\n",
       "                     propertyuse issueyear         geolocalarea  \n",
       "0                [Dwelling Uses]      2017           Riley Park  \n",
       "1                [Dwelling Uses]      2018              Marpole  \n",
       "2                [Dwelling Uses]      2018              Marpole  \n",
       "3                [Dwelling Uses]      2020  Renfrew-Collingwood  \n",
       "4  [Dwelling Uses, Parking Uses]      2020              Marpole  "
      ]
     },
     "execution_count": 5,
     "metadata": {},
     "output_type": "execute_result"
    }
   ],
   "source": [
    "#Remove unnecessary columns\n",
    "\n",
    "cols_to_keep = ['geometry','projectvalue','typeofwork','propertyuse','issueyear','geolocalarea']\n",
    "\n",
    "permits_df = permits_df[cols_to_keep]\n",
    "\n",
    "permits_df.head()"
   ]
  },
  {
   "cell_type": "code",
   "execution_count": 6,
   "metadata": {},
   "outputs": [],
   "source": [
    "#Rename columns to more appropriate names\n",
    "\n",
    "new_columns = {'projectvalue':'ProjectValue',\n",
    "               'typeofwork':'WorkType',\n",
    "               'propertyuse':'PropertyUse',\n",
    "               'issueyear':'Year',\n",
    "               'geolocalarea':'Area'\n",
    "               }\n",
    "\n",
    "permits_df.rename(columns=new_columns, inplace=True)"
   ]
  },
  {
   "cell_type": "code",
   "execution_count": 7,
   "metadata": {},
   "outputs": [
    {
     "name": "stdout",
     "output_type": "stream",
     "text": [
      "<class 'geopandas.geodataframe.GeoDataFrame'>\n",
      "RangeIndex: 33961 entries, 0 to 33960\n",
      "Data columns (total 6 columns):\n",
      " #   Column        Non-Null Count  Dtype   \n",
      "---  ------        --------------  -----   \n",
      " 0   geometry      33617 non-null  geometry\n",
      " 1   ProjectValue  33961 non-null  float64 \n",
      " 2   WorkType      33961 non-null  object  \n",
      " 3   PropertyUse   33956 non-null  object  \n",
      " 4   Year          33961 non-null  object  \n",
      " 5   Area          33610 non-null  object  \n",
      "dtypes: float64(1), geometry(1), object(4)\n",
      "memory usage: 1.6+ MB\n"
     ]
    }
   ],
   "source": [
    "permits_df.info()"
   ]
  },
  {
   "cell_type": "code",
   "execution_count": 8,
   "metadata": {},
   "outputs": [
    {
     "data": {
      "text/plain": [
       "geometry        geometry\n",
       "ProjectValue     float64\n",
       "WorkType          object\n",
       "PropertyUse       object\n",
       "Year               int32\n",
       "Area              object\n",
       "dtype: object"
      ]
     },
     "execution_count": 8,
     "metadata": {},
     "output_type": "execute_result"
    }
   ],
   "source": [
    "#Convert year column to integer\n",
    "\n",
    "permits_df['Year'] = permits_df['Year'].astype(str).astype(int)\n",
    "permits_df.dtypes"
   ]
  },
  {
   "cell_type": "code",
   "execution_count": 9,
   "metadata": {},
   "outputs": [
    {
     "data": {
      "text/html": [
       "<div>\n",
       "<style scoped>\n",
       "    .dataframe tbody tr th:only-of-type {\n",
       "        vertical-align: middle;\n",
       "    }\n",
       "\n",
       "    .dataframe tbody tr th {\n",
       "        vertical-align: top;\n",
       "    }\n",
       "\n",
       "    .dataframe thead th {\n",
       "        text-align: right;\n",
       "    }\n",
       "</style>\n",
       "<table border=\"1\" class=\"dataframe\">\n",
       "  <thead>\n",
       "    <tr style=\"text-align: right;\">\n",
       "      <th></th>\n",
       "      <th>geometry</th>\n",
       "      <th>ProjectValue</th>\n",
       "      <th>WorkType</th>\n",
       "      <th>PropertyUse</th>\n",
       "      <th>Year</th>\n",
       "      <th>Area</th>\n",
       "    </tr>\n",
       "  </thead>\n",
       "  <tbody>\n",
       "    <tr>\n",
       "      <th>0</th>\n",
       "      <td>POINT (-13703478.999 6317938.424)</td>\n",
       "      <td>8470000.0</td>\n",
       "      <td>New Building</td>\n",
       "      <td>[Dwelling Uses]</td>\n",
       "      <td>2017</td>\n",
       "      <td>Riley Park</td>\n",
       "    </tr>\n",
       "    <tr>\n",
       "      <th>1</th>\n",
       "      <td>POINT (-13705149.292 6311700.168)</td>\n",
       "      <td>0.0</td>\n",
       "      <td>New Building</td>\n",
       "      <td>[Dwelling Uses]</td>\n",
       "      <td>2018</td>\n",
       "      <td>Marpole</td>\n",
       "    </tr>\n",
       "    <tr>\n",
       "      <th>2</th>\n",
       "      <td>POINT (-13705255.123 6311745.602)</td>\n",
       "      <td>0.0</td>\n",
       "      <td>New Building</td>\n",
       "      <td>[Dwelling Uses]</td>\n",
       "      <td>2018</td>\n",
       "      <td>Marpole</td>\n",
       "    </tr>\n",
       "    <tr>\n",
       "      <th>3</th>\n",
       "      <td>POINT (-13698193.338 6315946.354)</td>\n",
       "      <td>0.0</td>\n",
       "      <td>New Building</td>\n",
       "      <td>[Dwelling Uses]</td>\n",
       "      <td>2020</td>\n",
       "      <td>Renfrew-Collingwood</td>\n",
       "    </tr>\n",
       "    <tr>\n",
       "      <th>4</th>\n",
       "      <td>POINT (-13706737.832 6311648.292)</td>\n",
       "      <td>0.0</td>\n",
       "      <td>New Building</td>\n",
       "      <td>[Dwelling Uses, Parking Uses]</td>\n",
       "      <td>2020</td>\n",
       "      <td>Marpole</td>\n",
       "    </tr>\n",
       "  </tbody>\n",
       "</table>\n",
       "</div>"
      ],
      "text/plain": [
       "                            geometry  ProjectValue      WorkType  \\\n",
       "0  POINT (-13703478.999 6317938.424)     8470000.0  New Building   \n",
       "1  POINT (-13705149.292 6311700.168)           0.0  New Building   \n",
       "2  POINT (-13705255.123 6311745.602)           0.0  New Building   \n",
       "3  POINT (-13698193.338 6315946.354)           0.0  New Building   \n",
       "4  POINT (-13706737.832 6311648.292)           0.0  New Building   \n",
       "\n",
       "                     PropertyUse  Year                 Area  \n",
       "0                [Dwelling Uses]  2017           Riley Park  \n",
       "1                [Dwelling Uses]  2018              Marpole  \n",
       "2                [Dwelling Uses]  2018              Marpole  \n",
       "3                [Dwelling Uses]  2020  Renfrew-Collingwood  \n",
       "4  [Dwelling Uses, Parking Uses]  2020              Marpole  "
      ]
     },
     "execution_count": 9,
     "metadata": {},
     "output_type": "execute_result"
    }
   ],
   "source": [
    "permits_df.head()"
   ]
  },
  {
   "cell_type": "markdown",
   "metadata": {},
   "source": [
    "#### Data Cleaning & Preparation - Property Use"
   ]
  },
  {
   "cell_type": "code",
   "execution_count": 10,
   "metadata": {},
   "outputs": [
    {
     "data": {
      "text/plain": [
       "[Dwelling Uses]                                                                                     23858\n",
       "[Office Uses]                                                                                        4214\n",
       "[Retail Uses]                                                                                        1686\n",
       "[Service Uses]                                                                                       1335\n",
       "[Institutional Uses]                                                                                  668\n",
       "                                                                                                    ...  \n",
       "[Cultural/Recreational Uses, Parking Uses]                                                              1\n",
       "[Deposition or Extraction Uses]                                                                         1\n",
       "[Live-Work Uses, Manufacturing Uses, Office Uses, Service Uses, Transportation and Storage Uses]        1\n",
       "[Cultural/Recreational Uses, Institutional Uses, Parking Uses]                                          1\n",
       "[Cultural/Recreational Uses, Parking Uses, Service Uses]                                                1\n",
       "Name: PropertyUse, Length: 130, dtype: int64"
      ]
     },
     "execution_count": 10,
     "metadata": {},
     "output_type": "execute_result"
    }
   ],
   "source": [
    "#Check value counts for property use\n",
    "\n",
    "permits_df.PropertyUse.value_counts()"
   ]
  },
  {
   "cell_type": "code",
   "execution_count": 11,
   "metadata": {},
   "outputs": [],
   "source": [
    "# Create a number of uses column by counting the number of items in the property use column which is a list of values\n",
    "\n",
    "permits_df[\"NumberOfUses\"] = permits_df.PropertyUse.str.len()\n",
    "\n",
    "#Remove the rows where the number of uses is blank\n",
    "\n",
    "permits_df = permits_df[permits_df['NumberOfUses'].notna()]\n",
    "\n",
    "#Convert number of uses to an integer\n",
    "\n",
    "permits_df[\"NumberOfUses\"] = permits_df[\"NumberOfUses\"].astype(int)"
   ]
  },
  {
   "cell_type": "code",
   "execution_count": 12,
   "metadata": {},
   "outputs": [
    {
     "data": {
      "text/plain": [
       "1    32963\n",
       "2      734\n",
       "3      186\n",
       "4       57\n",
       "5       16\n",
       "Name: NumberOfUses, dtype: int64"
      ]
     },
     "execution_count": 12,
     "metadata": {},
     "output_type": "execute_result"
    }
   ],
   "source": [
    "permits_df.NumberOfUses.value_counts()"
   ]
  },
  {
   "cell_type": "code",
   "execution_count": 13,
   "metadata": {},
   "outputs": [
    {
     "data": {
      "text/html": [
       "<div>\n",
       "<style scoped>\n",
       "    .dataframe tbody tr th:only-of-type {\n",
       "        vertical-align: middle;\n",
       "    }\n",
       "\n",
       "    .dataframe tbody tr th {\n",
       "        vertical-align: top;\n",
       "    }\n",
       "\n",
       "    .dataframe thead th {\n",
       "        text-align: right;\n",
       "    }\n",
       "</style>\n",
       "<table border=\"1\" class=\"dataframe\">\n",
       "  <thead>\n",
       "    <tr style=\"text-align: right;\">\n",
       "      <th></th>\n",
       "      <th>geometry</th>\n",
       "      <th>ProjectValue</th>\n",
       "      <th>WorkType</th>\n",
       "      <th>PropertyUse</th>\n",
       "      <th>Year</th>\n",
       "      <th>Area</th>\n",
       "      <th>NumberOfUses</th>\n",
       "      <th>PropertyUseRevised</th>\n",
       "    </tr>\n",
       "  </thead>\n",
       "  <tbody>\n",
       "    <tr>\n",
       "      <th>0</th>\n",
       "      <td>POINT (-13703478.999 6317938.424)</td>\n",
       "      <td>8470000.0</td>\n",
       "      <td>New Building</td>\n",
       "      <td>[Dwelling Uses]</td>\n",
       "      <td>2017</td>\n",
       "      <td>Riley Park</td>\n",
       "      <td>1</td>\n",
       "      <td>Dwelling Uses</td>\n",
       "    </tr>\n",
       "    <tr>\n",
       "      <th>1</th>\n",
       "      <td>POINT (-13705149.292 6311700.168)</td>\n",
       "      <td>0.0</td>\n",
       "      <td>New Building</td>\n",
       "      <td>[Dwelling Uses]</td>\n",
       "      <td>2018</td>\n",
       "      <td>Marpole</td>\n",
       "      <td>1</td>\n",
       "      <td>Dwelling Uses</td>\n",
       "    </tr>\n",
       "    <tr>\n",
       "      <th>2</th>\n",
       "      <td>POINT (-13705255.123 6311745.602)</td>\n",
       "      <td>0.0</td>\n",
       "      <td>New Building</td>\n",
       "      <td>[Dwelling Uses]</td>\n",
       "      <td>2018</td>\n",
       "      <td>Marpole</td>\n",
       "      <td>1</td>\n",
       "      <td>Dwelling Uses</td>\n",
       "    </tr>\n",
       "    <tr>\n",
       "      <th>3</th>\n",
       "      <td>POINT (-13698193.338 6315946.354)</td>\n",
       "      <td>0.0</td>\n",
       "      <td>New Building</td>\n",
       "      <td>[Dwelling Uses]</td>\n",
       "      <td>2020</td>\n",
       "      <td>Renfrew-Collingwood</td>\n",
       "      <td>1</td>\n",
       "      <td>Dwelling Uses</td>\n",
       "    </tr>\n",
       "    <tr>\n",
       "      <th>4</th>\n",
       "      <td>POINT (-13706737.832 6311648.292)</td>\n",
       "      <td>0.0</td>\n",
       "      <td>New Building</td>\n",
       "      <td>[Dwelling Uses, Parking Uses]</td>\n",
       "      <td>2020</td>\n",
       "      <td>Marpole</td>\n",
       "      <td>2</td>\n",
       "      <td>Dwelling Uses, Parking Uses</td>\n",
       "    </tr>\n",
       "  </tbody>\n",
       "</table>\n",
       "</div>"
      ],
      "text/plain": [
       "                            geometry  ProjectValue      WorkType  \\\n",
       "0  POINT (-13703478.999 6317938.424)     8470000.0  New Building   \n",
       "1  POINT (-13705149.292 6311700.168)           0.0  New Building   \n",
       "2  POINT (-13705255.123 6311745.602)           0.0  New Building   \n",
       "3  POINT (-13698193.338 6315946.354)           0.0  New Building   \n",
       "4  POINT (-13706737.832 6311648.292)           0.0  New Building   \n",
       "\n",
       "                     PropertyUse  Year                 Area  NumberOfUses  \\\n",
       "0                [Dwelling Uses]  2017           Riley Park             1   \n",
       "1                [Dwelling Uses]  2018              Marpole             1   \n",
       "2                [Dwelling Uses]  2018              Marpole             1   \n",
       "3                [Dwelling Uses]  2020  Renfrew-Collingwood             1   \n",
       "4  [Dwelling Uses, Parking Uses]  2020              Marpole             2   \n",
       "\n",
       "            PropertyUseRevised  \n",
       "0                Dwelling Uses  \n",
       "1                Dwelling Uses  \n",
       "2                Dwelling Uses  \n",
       "3                Dwelling Uses  \n",
       "4  Dwelling Uses, Parking Uses  "
      ]
     },
     "execution_count": 13,
     "metadata": {},
     "output_type": "execute_result"
    }
   ],
   "source": [
    "#Create a new revised property use column that converts the original column from a list of values into a string of values\n",
    "\n",
    "permits_df['PropertyUseRevised'] = permits_df.PropertyUse.apply(lambda x: ', '.join([str(i) for i in x]))\n",
    "\n",
    "permits_df.head()"
   ]
  },
  {
   "cell_type": "code",
   "execution_count": 14,
   "metadata": {},
   "outputs": [],
   "source": [
    "#Change property use revised column base on the number of uses column. If the number of uses is greater than 1, change the value of property use revised to mixed use, otherwise keep it the same.\n",
    "\n",
    "permits_df['PropertyUseRevised'] = np.where(permits_df.NumberOfUses > 1, 'Mixed Uses', permits_df.PropertyUseRevised)"
   ]
  },
  {
   "cell_type": "code",
   "execution_count": 15,
   "metadata": {},
   "outputs": [
    {
     "data": {
      "text/plain": [
       "Dwelling Uses                      23858\n",
       "Office Uses                         4214\n",
       "Retail Uses                         1686\n",
       "Service Uses                        1335\n",
       "Mixed Uses                           993\n",
       "Institutional Uses                   668\n",
       "Cultural/Recreational Uses           541\n",
       "Manufacturing Uses                   250\n",
       "Wholesale Uses                       126\n",
       "Transportation and Storage Uses      112\n",
       "Parking Uses                          93\n",
       "Utility and Communication Uses        56\n",
       "Live-Work Uses                        19\n",
       "Agricultural Uses                      3\n",
       "Mural                                  1\n",
       "Deposition or Extraction Uses          1\n",
       "Name: PropertyUseRevised, dtype: int64"
      ]
     },
     "execution_count": 15,
     "metadata": {},
     "output_type": "execute_result"
    }
   ],
   "source": [
    "permits_df.PropertyUseRevised.value_counts()"
   ]
  },
  {
   "cell_type": "code",
   "execution_count": 16,
   "metadata": {},
   "outputs": [
    {
     "data": {
      "text/html": [
       "<div>\n",
       "<style scoped>\n",
       "    .dataframe tbody tr th:only-of-type {\n",
       "        vertical-align: middle;\n",
       "    }\n",
       "\n",
       "    .dataframe tbody tr th {\n",
       "        vertical-align: top;\n",
       "    }\n",
       "\n",
       "    .dataframe thead th {\n",
       "        text-align: right;\n",
       "    }\n",
       "</style>\n",
       "<table border=\"1\" class=\"dataframe\">\n",
       "  <thead>\n",
       "    <tr style=\"text-align: right;\">\n",
       "      <th></th>\n",
       "      <th>geometry</th>\n",
       "      <th>ProjectValue</th>\n",
       "      <th>WorkType</th>\n",
       "      <th>Year</th>\n",
       "      <th>Area</th>\n",
       "      <th>PropertyUseRevised</th>\n",
       "    </tr>\n",
       "  </thead>\n",
       "  <tbody>\n",
       "    <tr>\n",
       "      <th>0</th>\n",
       "      <td>POINT (-13703478.999 6317938.424)</td>\n",
       "      <td>8470000.0</td>\n",
       "      <td>New Building</td>\n",
       "      <td>2017</td>\n",
       "      <td>Riley Park</td>\n",
       "      <td>Dwelling Uses</td>\n",
       "    </tr>\n",
       "    <tr>\n",
       "      <th>1</th>\n",
       "      <td>POINT (-13705149.292 6311700.168)</td>\n",
       "      <td>0.0</td>\n",
       "      <td>New Building</td>\n",
       "      <td>2018</td>\n",
       "      <td>Marpole</td>\n",
       "      <td>Dwelling Uses</td>\n",
       "    </tr>\n",
       "    <tr>\n",
       "      <th>2</th>\n",
       "      <td>POINT (-13705255.123 6311745.602)</td>\n",
       "      <td>0.0</td>\n",
       "      <td>New Building</td>\n",
       "      <td>2018</td>\n",
       "      <td>Marpole</td>\n",
       "      <td>Dwelling Uses</td>\n",
       "    </tr>\n",
       "    <tr>\n",
       "      <th>3</th>\n",
       "      <td>POINT (-13698193.338 6315946.354)</td>\n",
       "      <td>0.0</td>\n",
       "      <td>New Building</td>\n",
       "      <td>2020</td>\n",
       "      <td>Renfrew-Collingwood</td>\n",
       "      <td>Dwelling Uses</td>\n",
       "    </tr>\n",
       "    <tr>\n",
       "      <th>4</th>\n",
       "      <td>POINT (-13706737.832 6311648.292)</td>\n",
       "      <td>0.0</td>\n",
       "      <td>New Building</td>\n",
       "      <td>2020</td>\n",
       "      <td>Marpole</td>\n",
       "      <td>Mixed Uses</td>\n",
       "    </tr>\n",
       "  </tbody>\n",
       "</table>\n",
       "</div>"
      ],
      "text/plain": [
       "                            geometry  ProjectValue      WorkType  Year  \\\n",
       "0  POINT (-13703478.999 6317938.424)     8470000.0  New Building  2017   \n",
       "1  POINT (-13705149.292 6311700.168)           0.0  New Building  2018   \n",
       "2  POINT (-13705255.123 6311745.602)           0.0  New Building  2018   \n",
       "3  POINT (-13698193.338 6315946.354)           0.0  New Building  2020   \n",
       "4  POINT (-13706737.832 6311648.292)           0.0  New Building  2020   \n",
       "\n",
       "                  Area PropertyUseRevised  \n",
       "0           Riley Park      Dwelling Uses  \n",
       "1              Marpole      Dwelling Uses  \n",
       "2              Marpole      Dwelling Uses  \n",
       "3  Renfrew-Collingwood      Dwelling Uses  \n",
       "4              Marpole         Mixed Uses  "
      ]
     },
     "execution_count": 16,
     "metadata": {},
     "output_type": "execute_result"
    }
   ],
   "source": [
    "#Remove number of uses and original property use columns now that they are redundant\n",
    "\n",
    "permits_df = permits_df[['geometry','ProjectValue','WorkType','Year','Area','PropertyUseRevised']]\n",
    "\n",
    "permits_df.head()"
   ]
  },
  {
   "cell_type": "markdown",
   "metadata": {},
   "source": [
    "#### Data Cleaning & Preparation - Work Type"
   ]
  },
  {
   "cell_type": "code",
   "execution_count": 17,
   "metadata": {},
   "outputs": [
    {
     "data": {
      "text/plain": [
       "Addition / Alteration                   16475\n",
       "New Building                             7745\n",
       "Salvage and Abatement                    4900\n",
       "Demolition / Deconstruction              4472\n",
       "Temporary Building / Structure            319\n",
       "Outdoor Uses (No Buildings Proposed)       45\n",
       "Name: WorkType, dtype: int64"
      ]
     },
     "execution_count": 17,
     "metadata": {},
     "output_type": "execute_result"
    }
   ],
   "source": [
    "permits_df.WorkType.value_counts()"
   ]
  },
  {
   "cell_type": "code",
   "execution_count": 18,
   "metadata": {},
   "outputs": [
    {
     "data": {
      "text/plain": [
       "Addition              16475\n",
       "New Building           7745\n",
       "Salvage                4900\n",
       "Demolition             4472\n",
       "Temporary Building      319\n",
       "Outdoor Use              45\n",
       "Name: WorkType, dtype: int64"
      ]
     },
     "execution_count": 18,
     "metadata": {},
     "output_type": "execute_result"
    }
   ],
   "source": [
    "#Rename some of the values in the work type field\n",
    "\n",
    "permits_df['WorkType'] = permits_df['WorkType'].replace({'Addition / Alteration':'Addition',\n",
    "                                                         'Salvage and Abatement':'Salvage',\n",
    "                                                         'Demolition / Deconstruction':'Demolition',\n",
    "                                                         'Temporary Building / Structure':'Temporary Building',\n",
    "                                                         'Outdoor Uses (No Buildings Proposed)':'Outdoor Use'\n",
    "                                                         })\n",
    "\n",
    "permits_df.WorkType.value_counts()"
   ]
  },
  {
   "cell_type": "markdown",
   "metadata": {},
   "source": [
    "#### Data Cleaning & Preparation - Year"
   ]
  },
  {
   "cell_type": "code",
   "execution_count": 19,
   "metadata": {},
   "outputs": [
    {
     "data": {
      "text/plain": [
       "2018    6758\n",
       "2017    6729\n",
       "2019    5572\n",
       "2022    5455\n",
       "2021    5052\n",
       "2020    4390\n",
       "Name: Year, dtype: int64"
      ]
     },
     "execution_count": 19,
     "metadata": {},
     "output_type": "execute_result"
    }
   ],
   "source": [
    "permits_df.Year.value_counts()"
   ]
  },
  {
   "cell_type": "code",
   "execution_count": 20,
   "metadata": {},
   "outputs": [
    {
     "data": {
      "text/plain": [
       "2018    6758\n",
       "2017    6729\n",
       "2019    5572\n",
       "Name: Year, dtype: int64"
      ]
     },
     "execution_count": 20,
     "metadata": {},
     "output_type": "execute_result"
    }
   ],
   "source": [
    "#Filter the data down to permits that were submitted between the years 2017 and 2019.\n",
    "\n",
    "permits_df = permits_df[permits_df['Year'].between(2017, 2019)]\n",
    "permits_df.Year.value_counts()"
   ]
  },
  {
   "cell_type": "markdown",
   "metadata": {},
   "source": [
    "### Check For Missing Values"
   ]
  },
  {
   "cell_type": "code",
   "execution_count": 21,
   "metadata": {},
   "outputs": [
    {
     "data": {
      "text/html": [
       "<div>\n",
       "<style scoped>\n",
       "    .dataframe tbody tr th:only-of-type {\n",
       "        vertical-align: middle;\n",
       "    }\n",
       "\n",
       "    .dataframe tbody tr th {\n",
       "        vertical-align: top;\n",
       "    }\n",
       "\n",
       "    .dataframe thead th {\n",
       "        text-align: right;\n",
       "    }\n",
       "</style>\n",
       "<table border=\"1\" class=\"dataframe\">\n",
       "  <thead>\n",
       "    <tr style=\"text-align: right;\">\n",
       "      <th></th>\n",
       "      <th>Total Missing</th>\n",
       "      <th>Percent</th>\n",
       "    </tr>\n",
       "  </thead>\n",
       "  <tbody>\n",
       "    <tr>\n",
       "      <th>Area</th>\n",
       "      <td>151</td>\n",
       "      <td>0.792277</td>\n",
       "    </tr>\n",
       "    <tr>\n",
       "      <th>geometry</th>\n",
       "      <td>147</td>\n",
       "      <td>0.771289</td>\n",
       "    </tr>\n",
       "    <tr>\n",
       "      <th>ProjectValue</th>\n",
       "      <td>0</td>\n",
       "      <td>0.000000</td>\n",
       "    </tr>\n",
       "    <tr>\n",
       "      <th>WorkType</th>\n",
       "      <td>0</td>\n",
       "      <td>0.000000</td>\n",
       "    </tr>\n",
       "    <tr>\n",
       "      <th>Year</th>\n",
       "      <td>0</td>\n",
       "      <td>0.000000</td>\n",
       "    </tr>\n",
       "  </tbody>\n",
       "</table>\n",
       "</div>"
      ],
      "text/plain": [
       "              Total Missing   Percent\n",
       "Area                    151  0.792277\n",
       "geometry                147  0.771289\n",
       "ProjectValue              0  0.000000\n",
       "WorkType                  0  0.000000\n",
       "Year                      0  0.000000"
      ]
     },
     "execution_count": 21,
     "metadata": {},
     "output_type": "execute_result"
    }
   ],
   "source": [
    "#Check the number of null values in each column\n",
    "\n",
    "total_missing = permits_df.isnull().sum().sort_values(ascending=False)\n",
    "percent = (permits_df.isnull().sum()/permits_df.isnull().count()).sort_values(ascending=False)*100\n",
    "missing_data = pd.concat([total_missing, percent], axis=1, keys=['Total Missing', 'Percent'])\n",
    "missing_data.head()"
   ]
  },
  {
   "cell_type": "code",
   "execution_count": 22,
   "metadata": {},
   "outputs": [
    {
     "data": {
      "text/plain": [
       "geometry              0\n",
       "ProjectValue          0\n",
       "WorkType              0\n",
       "Year                  0\n",
       "Area                  0\n",
       "PropertyUseRevised    0\n",
       "dtype: int64"
      ]
     },
     "execution_count": 22,
     "metadata": {},
     "output_type": "execute_result"
    }
   ],
   "source": [
    "#Since there is such a small amount of missing data, drop the rows where there are missing values\n",
    "\n",
    "permits_df = permits_df.dropna()\n",
    "permits_df.isnull().sum()"
   ]
  },
  {
   "cell_type": "markdown",
   "metadata": {},
   "source": [
    "# Working With Other Geospatial Datasets"
   ]
  },
  {
   "cell_type": "code",
   "execution_count": 23,
   "metadata": {},
   "outputs": [],
   "source": [
    "# A function that drops all of the columns in a geopandas dataframe except for the geometry column. This is used on the datasets where you want to return a boolean value.\n",
    "\n",
    "def geo_column_only(url, col_name):\n",
    "    r = requests.get(url)\n",
    "    gdf = gpd.GeoDataFrame().from_features(r.json())\n",
    "    gdf = gdf.set_crs('EPSG:4326').to_crs('EPSG:3857') #Sets the CRS to the same as the permits data set\n",
    "    final_table_columns = ['geometry']\n",
    "    geo_df_with_cols_removed = gdf.drop(columns=[col for col in gdf if col not in final_table_columns]) #Drop a column if its not geometry\n",
    "    geo_df_with_cols_removed[col_name] = 1 #Assign a value of 1 to the newly created column\n",
    "    return geo_df_with_cols_removed\n",
    "\n",
    "#Function to perform a left spatial join on two geopanadas dataframes and drop the right_index column after the join has been performed\n",
    "\n",
    "def join_reducer(left, right):\n",
    "    sjoin = gpd.sjoin(left, right, how='left')\n",
    "    sjoin.drop('index_right', axis=1, inplace=True)\n",
    "    return sjoin"
   ]
  },
  {
   "cell_type": "markdown",
   "metadata": {},
   "source": [
    "## Business Improvement Areas"
   ]
  },
  {
   "cell_type": "code",
   "execution_count": 24,
   "metadata": {},
   "outputs": [
    {
     "data": {
      "text/html": [
       "<div>\n",
       "<style scoped>\n",
       "    .dataframe tbody tr th:only-of-type {\n",
       "        vertical-align: middle;\n",
       "    }\n",
       "\n",
       "    .dataframe tbody tr th {\n",
       "        vertical-align: top;\n",
       "    }\n",
       "\n",
       "    .dataframe thead th {\n",
       "        text-align: right;\n",
       "    }\n",
       "</style>\n",
       "<table border=\"1\" class=\"dataframe\">\n",
       "  <thead>\n",
       "    <tr style=\"text-align: right;\">\n",
       "      <th></th>\n",
       "      <th>geometry</th>\n",
       "      <th>BusinessImprovementArea</th>\n",
       "    </tr>\n",
       "  </thead>\n",
       "  <tbody>\n",
       "    <tr>\n",
       "      <th>0</th>\n",
       "      <td>POLYGON ((-13700143.889 6321936.969, -13700128...</td>\n",
       "      <td>1</td>\n",
       "    </tr>\n",
       "    <tr>\n",
       "      <th>1</th>\n",
       "      <td>MULTIPOLYGON (((-13695742.940 6322624.315, -13...</td>\n",
       "      <td>1</td>\n",
       "    </tr>\n",
       "    <tr>\n",
       "      <th>2</th>\n",
       "      <td>POLYGON ((-13709782.421 6314843.080, -13709781...</td>\n",
       "      <td>1</td>\n",
       "    </tr>\n",
       "    <tr>\n",
       "      <th>3</th>\n",
       "      <td>POLYGON ((-13707842.306 6311277.467, -13707919...</td>\n",
       "      <td>1</td>\n",
       "    </tr>\n",
       "    <tr>\n",
       "      <th>4</th>\n",
       "      <td>POLYGON ((-13707708.568 6320234.155, -13707788...</td>\n",
       "      <td>1</td>\n",
       "    </tr>\n",
       "  </tbody>\n",
       "</table>\n",
       "</div>"
      ],
      "text/plain": [
       "                                            geometry  BusinessImprovementArea\n",
       "0  POLYGON ((-13700143.889 6321936.969, -13700128...                        1\n",
       "1  MULTIPOLYGON (((-13695742.940 6322624.315, -13...                        1\n",
       "2  POLYGON ((-13709782.421 6314843.080, -13709781...                        1\n",
       "3  POLYGON ((-13707842.306 6311277.467, -13707919...                        1\n",
       "4  POLYGON ((-13707708.568 6320234.155, -13707788...                        1"
      ]
     },
     "execution_count": 24,
     "metadata": {},
     "output_type": "execute_result"
    }
   ],
   "source": [
    "bia_df = geo_column_only('https://opendata.vancouver.ca/api/v2/catalog/datasets/business-improvement-areas-bia/exports/geojson?limit=-1&offset=0&timezone=UTC', 'BusinessImprovementArea')\n",
    "bia_df.head()"
   ]
  },
  {
   "cell_type": "code",
   "execution_count": 25,
   "metadata": {},
   "outputs": [
    {
     "data": {
      "text/html": [
       "<div>\n",
       "<style scoped>\n",
       "    .dataframe tbody tr th:only-of-type {\n",
       "        vertical-align: middle;\n",
       "    }\n",
       "\n",
       "    .dataframe tbody tr th {\n",
       "        vertical-align: top;\n",
       "    }\n",
       "\n",
       "    .dataframe thead th {\n",
       "        text-align: right;\n",
       "    }\n",
       "</style>\n",
       "<table border=\"1\" class=\"dataframe\">\n",
       "  <thead>\n",
       "    <tr style=\"text-align: right;\">\n",
       "      <th></th>\n",
       "      <th>geometry</th>\n",
       "      <th>ProjectValue</th>\n",
       "      <th>WorkType</th>\n",
       "      <th>Year</th>\n",
       "      <th>Area</th>\n",
       "      <th>PropertyUseRevised</th>\n",
       "      <th>BusinessImprovementArea</th>\n",
       "    </tr>\n",
       "  </thead>\n",
       "  <tbody>\n",
       "    <tr>\n",
       "      <th>0</th>\n",
       "      <td>POINT (-13703478.999 6317938.424)</td>\n",
       "      <td>8470000.0</td>\n",
       "      <td>New Building</td>\n",
       "      <td>2017</td>\n",
       "      <td>Riley Park</td>\n",
       "      <td>Dwelling Uses</td>\n",
       "      <td>0.0</td>\n",
       "    </tr>\n",
       "    <tr>\n",
       "      <th>1</th>\n",
       "      <td>POINT (-13705149.292 6311700.168)</td>\n",
       "      <td>0.0</td>\n",
       "      <td>New Building</td>\n",
       "      <td>2018</td>\n",
       "      <td>Marpole</td>\n",
       "      <td>Dwelling Uses</td>\n",
       "      <td>0.0</td>\n",
       "    </tr>\n",
       "    <tr>\n",
       "      <th>2</th>\n",
       "      <td>POINT (-13705255.123 6311745.602)</td>\n",
       "      <td>0.0</td>\n",
       "      <td>New Building</td>\n",
       "      <td>2018</td>\n",
       "      <td>Marpole</td>\n",
       "      <td>Dwelling Uses</td>\n",
       "      <td>0.0</td>\n",
       "    </tr>\n",
       "    <tr>\n",
       "      <th>6</th>\n",
       "      <td>POINT (-13699196.794 6316274.553)</td>\n",
       "      <td>45000000.0</td>\n",
       "      <td>New Building</td>\n",
       "      <td>2019</td>\n",
       "      <td>Kensington-Cedar Cottage</td>\n",
       "      <td>Dwelling Uses</td>\n",
       "      <td>0.0</td>\n",
       "    </tr>\n",
       "    <tr>\n",
       "      <th>7</th>\n",
       "      <td>POINT (-13698581.486 6322818.274)</td>\n",
       "      <td>3400000.0</td>\n",
       "      <td>New Building</td>\n",
       "      <td>2019</td>\n",
       "      <td>Hastings-Sunrise</td>\n",
       "      <td>Dwelling Uses</td>\n",
       "      <td>0.0</td>\n",
       "    </tr>\n",
       "  </tbody>\n",
       "</table>\n",
       "</div>"
      ],
      "text/plain": [
       "                            geometry  ProjectValue      WorkType  Year  \\\n",
       "0  POINT (-13703478.999 6317938.424)     8470000.0  New Building  2017   \n",
       "1  POINT (-13705149.292 6311700.168)           0.0  New Building  2018   \n",
       "2  POINT (-13705255.123 6311745.602)           0.0  New Building  2018   \n",
       "6  POINT (-13699196.794 6316274.553)    45000000.0  New Building  2019   \n",
       "7  POINT (-13698581.486 6322818.274)     3400000.0  New Building  2019   \n",
       "\n",
       "                       Area PropertyUseRevised  BusinessImprovementArea  \n",
       "0                Riley Park      Dwelling Uses                      0.0  \n",
       "1                   Marpole      Dwelling Uses                      0.0  \n",
       "2                   Marpole      Dwelling Uses                      0.0  \n",
       "6  Kensington-Cedar Cottage      Dwelling Uses                      0.0  \n",
       "7          Hastings-Sunrise      Dwelling Uses                      0.0  "
      ]
     },
     "execution_count": 25,
     "metadata": {},
     "output_type": "execute_result"
    }
   ],
   "source": [
    "#Spatial join BIA data to the permits data. If a permit is located within a BIA it will be labeled as 1, otherwise it will be labeled as 0.\n",
    "\n",
    "permits_df = join_reducer(permits_df,bia_df)\n",
    "permits_df['BusinessImprovementArea'].fillna(0, inplace = True) #Where a permit is not located in a BIA assign it a value of zero\n",
    "permits_df.head()"
   ]
  },
  {
   "cell_type": "code",
   "execution_count": 26,
   "metadata": {},
   "outputs": [
    {
     "data": {
      "text/plain": [
       "0.0    14762\n",
       "1.0     4146\n",
       "Name: BusinessImprovementArea, dtype: int64"
      ]
     },
     "execution_count": 26,
     "metadata": {},
     "output_type": "execute_result"
    }
   ],
   "source": [
    "permits_df.BusinessImprovementArea.value_counts()"
   ]
  },
  {
   "cell_type": "markdown",
   "metadata": {},
   "source": [
    "## Flood Plain Areas"
   ]
  },
  {
   "cell_type": "code",
   "execution_count": 27,
   "metadata": {},
   "outputs": [
    {
     "data": {
      "text/html": [
       "<div>\n",
       "<style scoped>\n",
       "    .dataframe tbody tr th:only-of-type {\n",
       "        vertical-align: middle;\n",
       "    }\n",
       "\n",
       "    .dataframe tbody tr th {\n",
       "        vertical-align: top;\n",
       "    }\n",
       "\n",
       "    .dataframe thead th {\n",
       "        text-align: right;\n",
       "    }\n",
       "</style>\n",
       "<table border=\"1\" class=\"dataframe\">\n",
       "  <thead>\n",
       "    <tr style=\"text-align: right;\">\n",
       "      <th></th>\n",
       "      <th>geometry</th>\n",
       "      <th>FloodPlain</th>\n",
       "    </tr>\n",
       "  </thead>\n",
       "  <tbody>\n",
       "    <tr>\n",
       "      <th>0</th>\n",
       "      <td>POLYGON ((-13695468.072 6319454.037, -13695467...</td>\n",
       "      <td>1</td>\n",
       "    </tr>\n",
       "    <tr>\n",
       "      <th>1</th>\n",
       "      <td>POLYGON ((-13696427.537 6318776.760, -13696642...</td>\n",
       "      <td>1</td>\n",
       "    </tr>\n",
       "    <tr>\n",
       "      <th>2</th>\n",
       "      <td>POLYGON ((-13695858.168 6319254.615, -13695858...</td>\n",
       "      <td>1</td>\n",
       "    </tr>\n",
       "    <tr>\n",
       "      <th>3</th>\n",
       "      <td>POLYGON ((-13695468.072 6319454.037, -13695468...</td>\n",
       "      <td>1</td>\n",
       "    </tr>\n",
       "    <tr>\n",
       "      <th>4</th>\n",
       "      <td>MULTIPOLYGON (((-13711762.162 6321091.018, -13...</td>\n",
       "      <td>1</td>\n",
       "    </tr>\n",
       "  </tbody>\n",
       "</table>\n",
       "</div>"
      ],
      "text/plain": [
       "                                            geometry  FloodPlain\n",
       "0  POLYGON ((-13695468.072 6319454.037, -13695467...           1\n",
       "1  POLYGON ((-13696427.537 6318776.760, -13696642...           1\n",
       "2  POLYGON ((-13695858.168 6319254.615, -13695858...           1\n",
       "3  POLYGON ((-13695468.072 6319454.037, -13695468...           1\n",
       "4  MULTIPOLYGON (((-13711762.162 6321091.018, -13...           1"
      ]
     },
     "execution_count": 27,
     "metadata": {},
     "output_type": "execute_result"
    }
   ],
   "source": [
    "fp_df = geo_column_only('https://opendata.vancouver.ca/api/v2/catalog/datasets/designated-floodplain/exports/geojson?limit=-1&offset=0&timezone=UTC','FloodPlain')\n",
    "fp_df.head()"
   ]
  },
  {
   "cell_type": "code",
   "execution_count": 28,
   "metadata": {},
   "outputs": [
    {
     "data": {
      "text/html": [
       "<div>\n",
       "<style scoped>\n",
       "    .dataframe tbody tr th:only-of-type {\n",
       "        vertical-align: middle;\n",
       "    }\n",
       "\n",
       "    .dataframe tbody tr th {\n",
       "        vertical-align: top;\n",
       "    }\n",
       "\n",
       "    .dataframe thead th {\n",
       "        text-align: right;\n",
       "    }\n",
       "</style>\n",
       "<table border=\"1\" class=\"dataframe\">\n",
       "  <thead>\n",
       "    <tr style=\"text-align: right;\">\n",
       "      <th></th>\n",
       "      <th>geometry</th>\n",
       "      <th>ProjectValue</th>\n",
       "      <th>WorkType</th>\n",
       "      <th>Year</th>\n",
       "      <th>Area</th>\n",
       "      <th>PropertyUseRevised</th>\n",
       "      <th>BusinessImprovementArea</th>\n",
       "      <th>FloodPlain</th>\n",
       "    </tr>\n",
       "  </thead>\n",
       "  <tbody>\n",
       "    <tr>\n",
       "      <th>0</th>\n",
       "      <td>POINT (-13703478.999 6317938.424)</td>\n",
       "      <td>8470000.0</td>\n",
       "      <td>New Building</td>\n",
       "      <td>2017</td>\n",
       "      <td>Riley Park</td>\n",
       "      <td>Dwelling Uses</td>\n",
       "      <td>0.0</td>\n",
       "      <td>0.0</td>\n",
       "    </tr>\n",
       "    <tr>\n",
       "      <th>1</th>\n",
       "      <td>POINT (-13705149.292 6311700.168)</td>\n",
       "      <td>0.0</td>\n",
       "      <td>New Building</td>\n",
       "      <td>2018</td>\n",
       "      <td>Marpole</td>\n",
       "      <td>Dwelling Uses</td>\n",
       "      <td>0.0</td>\n",
       "      <td>0.0</td>\n",
       "    </tr>\n",
       "    <tr>\n",
       "      <th>2</th>\n",
       "      <td>POINT (-13705255.123 6311745.602)</td>\n",
       "      <td>0.0</td>\n",
       "      <td>New Building</td>\n",
       "      <td>2018</td>\n",
       "      <td>Marpole</td>\n",
       "      <td>Dwelling Uses</td>\n",
       "      <td>0.0</td>\n",
       "      <td>0.0</td>\n",
       "    </tr>\n",
       "    <tr>\n",
       "      <th>6</th>\n",
       "      <td>POINT (-13699196.794 6316274.553)</td>\n",
       "      <td>45000000.0</td>\n",
       "      <td>New Building</td>\n",
       "      <td>2019</td>\n",
       "      <td>Kensington-Cedar Cottage</td>\n",
       "      <td>Dwelling Uses</td>\n",
       "      <td>0.0</td>\n",
       "      <td>0.0</td>\n",
       "    </tr>\n",
       "    <tr>\n",
       "      <th>7</th>\n",
       "      <td>POINT (-13698581.486 6322818.274)</td>\n",
       "      <td>3400000.0</td>\n",
       "      <td>New Building</td>\n",
       "      <td>2019</td>\n",
       "      <td>Hastings-Sunrise</td>\n",
       "      <td>Dwelling Uses</td>\n",
       "      <td>0.0</td>\n",
       "      <td>0.0</td>\n",
       "    </tr>\n",
       "  </tbody>\n",
       "</table>\n",
       "</div>"
      ],
      "text/plain": [
       "                            geometry  ProjectValue      WorkType  Year  \\\n",
       "0  POINT (-13703478.999 6317938.424)     8470000.0  New Building  2017   \n",
       "1  POINT (-13705149.292 6311700.168)           0.0  New Building  2018   \n",
       "2  POINT (-13705255.123 6311745.602)           0.0  New Building  2018   \n",
       "6  POINT (-13699196.794 6316274.553)    45000000.0  New Building  2019   \n",
       "7  POINT (-13698581.486 6322818.274)     3400000.0  New Building  2019   \n",
       "\n",
       "                       Area PropertyUseRevised  BusinessImprovementArea  \\\n",
       "0                Riley Park      Dwelling Uses                      0.0   \n",
       "1                   Marpole      Dwelling Uses                      0.0   \n",
       "2                   Marpole      Dwelling Uses                      0.0   \n",
       "6  Kensington-Cedar Cottage      Dwelling Uses                      0.0   \n",
       "7          Hastings-Sunrise      Dwelling Uses                      0.0   \n",
       "\n",
       "   FloodPlain  \n",
       "0         0.0  \n",
       "1         0.0  \n",
       "2         0.0  \n",
       "6         0.0  \n",
       "7         0.0  "
      ]
     },
     "execution_count": 28,
     "metadata": {},
     "output_type": "execute_result"
    }
   ],
   "source": [
    "permits_df = join_reducer(permits_df,fp_df)\n",
    "permits_df['FloodPlain'].fillna(0, inplace = True) #Where a permit is not located in a flood plain assign it a value of zero\n",
    "permits_df.head()"
   ]
  },
  {
   "cell_type": "code",
   "execution_count": 29,
   "metadata": {},
   "outputs": [
    {
     "data": {
      "text/plain": [
       "0.0    18457\n",
       "1.0      451\n",
       "Name: FloodPlain, dtype: int64"
      ]
     },
     "execution_count": 29,
     "metadata": {},
     "output_type": "execute_result"
    }
   ],
   "source": [
    "permits_df.FloodPlain.value_counts()"
   ]
  },
  {
   "cell_type": "markdown",
   "metadata": {},
   "source": [
    "## Transit Stations"
   ]
  },
  {
   "cell_type": "code",
   "execution_count": 30,
   "metadata": {},
   "outputs": [
    {
     "data": {
      "text/html": [
       "<div>\n",
       "<style scoped>\n",
       "    .dataframe tbody tr th:only-of-type {\n",
       "        vertical-align: middle;\n",
       "    }\n",
       "\n",
       "    .dataframe tbody tr th {\n",
       "        vertical-align: top;\n",
       "    }\n",
       "\n",
       "    .dataframe thead th {\n",
       "        text-align: right;\n",
       "    }\n",
       "</style>\n",
       "<table border=\"1\" class=\"dataframe\">\n",
       "  <thead>\n",
       "    <tr style=\"text-align: right;\">\n",
       "      <th></th>\n",
       "      <th>geometry</th>\n",
       "      <th>station</th>\n",
       "      <th>geo_local_area</th>\n",
       "    </tr>\n",
       "  </thead>\n",
       "  <tbody>\n",
       "    <tr>\n",
       "      <th>0</th>\n",
       "      <td>POINT (-13705329.627 6310492.370)</td>\n",
       "      <td>MARINE DRIVE</td>\n",
       "      <td>Marpole</td>\n",
       "    </tr>\n",
       "    <tr>\n",
       "      <th>1</th>\n",
       "      <td>POINT (-13701087.405 6320080.163)</td>\n",
       "      <td>VCC - CLARK</td>\n",
       "      <td>Strathcona</td>\n",
       "    </tr>\n",
       "    <tr>\n",
       "      <th>2</th>\n",
       "      <td>POINT (-13698516.956 6317093.472)</td>\n",
       "      <td>NANAIMO</td>\n",
       "      <td>Renfrew-Collingwood</td>\n",
       "    </tr>\n",
       "    <tr>\n",
       "      <th>3</th>\n",
       "      <td>POINT (-13703496.877 6321341.731)</td>\n",
       "      <td>MAIN ST. - SCIENCE WORLD</td>\n",
       "      <td>Downtown</td>\n",
       "    </tr>\n",
       "    <tr>\n",
       "      <th>4</th>\n",
       "      <td>POINT (-13704494.065 6322410.505)</td>\n",
       "      <td>STADIUM - CHINATOWN</td>\n",
       "      <td>Downtown</td>\n",
       "    </tr>\n",
       "  </tbody>\n",
       "</table>\n",
       "</div>"
      ],
      "text/plain": [
       "                            geometry                   station  \\\n",
       "0  POINT (-13705329.627 6310492.370)              MARINE DRIVE   \n",
       "1  POINT (-13701087.405 6320080.163)               VCC - CLARK   \n",
       "2  POINT (-13698516.956 6317093.472)                   NANAIMO   \n",
       "3  POINT (-13703496.877 6321341.731)  MAIN ST. - SCIENCE WORLD   \n",
       "4  POINT (-13704494.065 6322410.505)       STADIUM - CHINATOWN   \n",
       "\n",
       "        geo_local_area  \n",
       "0              Marpole  \n",
       "1           Strathcona  \n",
       "2  Renfrew-Collingwood  \n",
       "3             Downtown  \n",
       "4             Downtown  "
      ]
     },
     "execution_count": 30,
     "metadata": {},
     "output_type": "execute_result"
    }
   ],
   "source": [
    "transit_url = 'https://opendata.vancouver.ca/api/v2/catalog/datasets/rapid-transit-stations/exports/geojson?limit=-1&offset=0&timezone=UTC'\n",
    "transit_data = requests.get(transit_url)\n",
    "transit_df = gpd.GeoDataFrame().from_features(transit_data.json())\n",
    "transit_df = transit_df.set_crs('EPSG:4326').to_crs('EPSG:3857')\n",
    "transit_df.head()"
   ]
  },
  {
   "cell_type": "code",
   "execution_count": 31,
   "metadata": {},
   "outputs": [
    {
     "data": {
      "text/html": [
       "<div>\n",
       "<style scoped>\n",
       "    .dataframe tbody tr th:only-of-type {\n",
       "        vertical-align: middle;\n",
       "    }\n",
       "\n",
       "    .dataframe tbody tr th {\n",
       "        vertical-align: top;\n",
       "    }\n",
       "\n",
       "    .dataframe thead th {\n",
       "        text-align: right;\n",
       "    }\n",
       "</style>\n",
       "<table border=\"1\" class=\"dataframe\">\n",
       "  <thead>\n",
       "    <tr style=\"text-align: right;\">\n",
       "      <th></th>\n",
       "      <th>geometry</th>\n",
       "      <th>ProjectValue</th>\n",
       "      <th>WorkType</th>\n",
       "      <th>Area</th>\n",
       "      <th>PropertyUseRevised</th>\n",
       "      <th>BusinessImprovementArea</th>\n",
       "      <th>FloodPlain</th>\n",
       "      <th>DistanceToNearestTransitStation</th>\n",
       "    </tr>\n",
       "  </thead>\n",
       "  <tbody>\n",
       "    <tr>\n",
       "      <th>0</th>\n",
       "      <td>POINT (-13703478.999 6317938.424)</td>\n",
       "      <td>8470000.0</td>\n",
       "      <td>New Building</td>\n",
       "      <td>Riley Park</td>\n",
       "      <td>Dwelling Uses</td>\n",
       "      <td>0.0</td>\n",
       "      <td>0.0</td>\n",
       "      <td>1799.230623</td>\n",
       "    </tr>\n",
       "    <tr>\n",
       "      <th>1</th>\n",
       "      <td>POINT (-13705149.292 6311700.168)</td>\n",
       "      <td>0.0</td>\n",
       "      <td>New Building</td>\n",
       "      <td>Marpole</td>\n",
       "      <td>Dwelling Uses</td>\n",
       "      <td>0.0</td>\n",
       "      <td>0.0</td>\n",
       "      <td>1221.186297</td>\n",
       "    </tr>\n",
       "    <tr>\n",
       "      <th>2</th>\n",
       "      <td>POINT (-13705255.123 6311745.602)</td>\n",
       "      <td>0.0</td>\n",
       "      <td>New Building</td>\n",
       "      <td>Marpole</td>\n",
       "      <td>Dwelling Uses</td>\n",
       "      <td>0.0</td>\n",
       "      <td>0.0</td>\n",
       "      <td>1255.444840</td>\n",
       "    </tr>\n",
       "    <tr>\n",
       "      <th>6</th>\n",
       "      <td>POINT (-13699196.794 6316274.553)</td>\n",
       "      <td>45000000.0</td>\n",
       "      <td>New Building</td>\n",
       "      <td>Kensington-Cedar Cottage</td>\n",
       "      <td>Dwelling Uses</td>\n",
       "      <td>0.0</td>\n",
       "      <td>0.0</td>\n",
       "      <td>1064.333954</td>\n",
       "    </tr>\n",
       "    <tr>\n",
       "      <th>7</th>\n",
       "      <td>POINT (-13698581.486 6322818.274)</td>\n",
       "      <td>3400000.0</td>\n",
       "      <td>New Building</td>\n",
       "      <td>Hastings-Sunrise</td>\n",
       "      <td>Dwelling Uses</td>\n",
       "      <td>0.0</td>\n",
       "      <td>0.0</td>\n",
       "      <td>3489.680863</td>\n",
       "    </tr>\n",
       "  </tbody>\n",
       "</table>\n",
       "</div>"
      ],
      "text/plain": [
       "                            geometry  ProjectValue      WorkType  \\\n",
       "0  POINT (-13703478.999 6317938.424)     8470000.0  New Building   \n",
       "1  POINT (-13705149.292 6311700.168)           0.0  New Building   \n",
       "2  POINT (-13705255.123 6311745.602)           0.0  New Building   \n",
       "6  POINT (-13699196.794 6316274.553)    45000000.0  New Building   \n",
       "7  POINT (-13698581.486 6322818.274)     3400000.0  New Building   \n",
       "\n",
       "                       Area PropertyUseRevised  BusinessImprovementArea  \\\n",
       "0                Riley Park      Dwelling Uses                      0.0   \n",
       "1                   Marpole      Dwelling Uses                      0.0   \n",
       "2                   Marpole      Dwelling Uses                      0.0   \n",
       "6  Kensington-Cedar Cottage      Dwelling Uses                      0.0   \n",
       "7          Hastings-Sunrise      Dwelling Uses                      0.0   \n",
       "\n",
       "   FloodPlain  DistanceToNearestTransitStation  \n",
       "0         0.0                      1799.230623  \n",
       "1         0.0                      1221.186297  \n",
       "2         0.0                      1255.444840  \n",
       "6         0.0                      1064.333954  \n",
       "7         0.0                      3489.680863  "
      ]
     },
     "execution_count": 31,
     "metadata": {},
     "output_type": "execute_result"
    }
   ],
   "source": [
    "#Perform a nearest spatial join to calculate the distance between each permit and the nearest transit station in meters\n",
    "permits_df = permits_df.sjoin_nearest(transit_df, how = 'left', distance_col='DistanceToNearestTransitStation')\n",
    "\n",
    "#Remove unnecessary columns after calculating distance to nearest transit station via spatial join\n",
    "cols_to_keep_final = ['geometry','ProjectValue','WorkType','Area','PropertyUseRevised','BusinessImprovementArea','FloodPlain','DistanceToNearestTransitStation']\n",
    "permits_df = permits_df[cols_to_keep_final]\n",
    "\n",
    "permits_df.head()"
   ]
  },
  {
   "cell_type": "markdown",
   "metadata": {},
   "source": [
    "## Exploratory Data Analysis"
   ]
  }
 ],
 "metadata": {
  "kernelspec": {
   "display_name": "Python 3.8.12 ('geo_env')",
   "language": "python",
   "name": "python3"
  },
  "language_info": {
   "codemirror_mode": {
    "name": "ipython",
    "version": 3
   },
   "file_extension": ".py",
   "mimetype": "text/x-python",
   "name": "python",
   "nbconvert_exporter": "python",
   "pygments_lexer": "ipython3",
   "version": "3.8.12"
  },
  "orig_nbformat": 4,
  "vscode": {
   "interpreter": {
    "hash": "ec7f930024ee9e7c04341ec7357fc1cde4a62cd64cda91380f1e1508482ff76c"
   }
  }
 },
 "nbformat": 4,
 "nbformat_minor": 2
}
